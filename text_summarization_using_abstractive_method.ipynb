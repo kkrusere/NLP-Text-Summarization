{
  "cells": [
    {
      "cell_type": "markdown",
      "metadata": {
        "id": "view-in-github",
        "colab_type": "text"
      },
      "source": [
        "<a href=\"https://colab.research.google.com/github/kkrusere/NLP-Text-Summarization/blob/main/text_summarization_using_abstractive_method.ipynb\" target=\"_parent\"><img src=\"https://colab.research.google.com/assets/colab-badge.svg\" alt=\"Open In Colab\"/></a>"
      ]
    },
    {
      "cell_type": "code",
      "source": [
        "from google.colab import drive\n",
        "import os\n",
        "#mounting google drive\n",
        "drive.mount('/content/drive')\n",
        "########################################\n",
        "#changing the working directory\n",
        "os.chdir(\"/content/drive/MyDrive/NLP_Data\")\n",
        "\n",
        "!pwd\n",
        ""
      ],
      "metadata": {
        "colab": {
          "base_uri": "https://localhost:8080/"
        },
        "id": "BrqP9Q0RRr2X",
        "outputId": "a6c4d457-67e5-43ec-e2d5-5bcd8c131869"
      },
      "execution_count": 1,
      "outputs": [
        {
          "output_type": "stream",
          "name": "stdout",
          "text": [
            "Drive already mounted at /content/drive; to attempt to forcibly remount, call drive.mount(\"/content/drive\", force_remount=True).\n",
            "/content/drive/MyDrive/NLP_Data\n"
          ]
        }
      ]
    },
    {
      "cell_type": "markdown",
      "metadata": {
        "id": "ujwb2FAFcecN"
      },
      "source": [
        "## <center>**NLP Text Summarization** <center><em>\n",
        "**<center>Abstractive Summarization</center>**\n",
        "\n",
        "Text summarization refers to the technique of shortening long pieces of text, with the intention of creating a coherent and fluent summary having only the main points outlined in the document. Basically, the process of creating shorter text without removing the semantic structure of text.\n",
        "</em></center>\n",
        "<br>\n",
        "<center><img src=\"https://github.com/kkrusere/NLP-Text-Summarization/blob/main/assets/mchinelearning_text_sum.png?raw=1\" width=600/></center>\n",
        "\n",
        "***Project Contributors:*** Kuzi Rusere<br>\n",
        "**MVP streamlit App URL:** N/A"
      ]
    },
    {
      "cell_type": "code",
      "execution_count": 2,
      "metadata": {
        "id": "jaVdkFXlcecO",
        "colab": {
          "base_uri": "https://localhost:8080/"
        },
        "outputId": "0ae03b9d-8176-4e74-ddc5-7d678402eea0"
      },
      "outputs": [
        {
          "output_type": "stream",
          "name": "stderr",
          "text": [
            "[nltk_data] Downloading package punkt to /root/nltk_data...\n",
            "[nltk_data]   Package punkt is already up-to-date!\n",
            "[nltk_data] Downloading package stopwords to /root/nltk_data...\n",
            "[nltk_data]   Package stopwords is already up-to-date!\n",
            "[nltk_data] Downloading package wordnet to /root/nltk_data...\n",
            "[nltk_data]   Package wordnet is already up-to-date!\n",
            "[nltk_data] Downloading package omw-1.4 to /root/nltk_data...\n",
            "[nltk_data]   Package omw-1.4 is already up-to-date!\n"
          ]
        }
      ],
      "source": [
        "import nltk\n",
        "import spacy\n",
        "\n",
        "from nltk.corpus import stopwords\n",
        "from nltk.tokenize import sent_tokenize, word_tokenize\n",
        "from nltk.probability import FreqDist\n",
        "import string\n",
        "nltk.download('punkt')\n",
        "nltk.download('stopwords')\n",
        "nltk.download('wordnet')\n",
        "nltk.download('omw-1.4')\n",
        "\n",
        "stop_words = set(stopwords.words(\"english\"))\n",
        "\n",
        "# Load spaCy model\n",
        "nlp = spacy.load('en_core_web_sm')"
      ]
    },
    {
      "cell_type": "markdown",
      "metadata": {
        "id": "6b4wNJqHcLm0"
      },
      "source": [
        "**Abstractive summarization** involves understanding the core ideas of the text and then creating a new, condensed version that expresses those ideas, potentially using different words and phrasing. Unlike extractive summarization, which relies on selecting sentences or phrases from the text, abstractive summarization generates summaries that may not directly reuse sentences from the original text but instead create a human-like paraphrased version of the summary. It can be more complex because it requires the ability to truly understand the text and create meaningful new text that represents it."
      ]
    },
    {
      "cell_type": "code",
      "source": [],
      "metadata": {
        "id": "QXk-J9SvdAVs"
      },
      "execution_count": 2,
      "outputs": []
    },
    {
      "cell_type": "markdown",
      "metadata": {
        "id": "WQJ5m19AcecP"
      },
      "source": [
        "For our example text, we are going use this brief explainer of the history of Chaos theory"
      ]
    },
    {
      "cell_type": "code",
      "execution_count": 3,
      "metadata": {
        "id": "yXjD8jTgcecP"
      },
      "outputs": [],
      "source": [
        "text = \"\"\"\n",
        "In 1961, a meteorologist by the name of Edward Lorenz made a profound discovery. Lorenz was utilising the new-found power of computers in an attempt to more accurately predict the weather. He created a mathematical model which, when supplied with a set of numbers representing the current weather, could predict the weather a few minutes in advance.\n",
        "Once this computer program was up and running, Lorenz could produce long-term forecasts by feeding the predicted weather back into the computer over and over again, with each run forecasting further into the future.Accurate minute-by-minute forecasts added up into days, and then weeks.\n",
        "One day, Lorenz decided to rerun one of his forecasts. In the interests of saving time he decided not to start from scratch; instead he took the computer’s prediction from halfway through the first run and used that as the starting point.\n",
        "After a well-earned coffee break, he returned to discover something unexpected. Although the computer’s new predictions started out the same as before, the two sets of predictions soon began diverging drastically. What had gone wrong?\n",
        "Lorenz soon realised that while the computer was printing out the predictions to three decimal places, it was actually crunching the numbers internally using six decimal places.\n",
        "So while Lorenz had started the second run with the number 0.506, the original run had used the number 0.506127.\n",
        "A difference of one part in a thousand: the same sort of difference that a flap of a butterfly’s wing might make to the breeze on your face. The starting weather conditions had been virtually identical. The two predictions were anything but.\n",
        "Lorenz had found the seeds of chaos. In systems that behave nicely - without chaotic effects - small differences only produce small effects. In this case, Lorenz’s equations were causing errors to steadily grow over time.\n",
        "This meant that tiny errors in the measurement of the current weather would not stay tiny, but relentlessly increased in size each time they were fed back into the computer until they had completely swamped the predictions.\n",
        "Lorenz famously illustrated this effect with the analogy of a butterfly flapping its wings and thereby causing the formation of a hurricane half a world away.\n",
        "A nice way to see this “butterfly effect” for yourself is with a game of pool or billiards. No matter how consistent you are with the first shot (the break), the smallest of differences in the speed and angle with which you strike the white ball will cause the pack of billiards to scatter in wildly different directions every time.\n",
        "The smallest of differences are producing large effects - the hallmark of a chaotic system.\n",
        "It is worth noting that the laws of physics that determine how the billiard balls move are precise and unambiguous: they allow no room for randomness.\n",
        "What at first glance appears to be random behaviour is completely deterministic - it only seems random because imperceptible changes are making all the difference.\n",
        "The rate at which these tiny differences stack up provides each chaotic system with a prediction horizon - a length of time beyond which we can no longer accurately forecast its behaviour.\n",
        "In the case of the weather, the prediction horizon is nowadays about one week (thanks to ever-improving measuring instruments and models).\n",
        "Some 50 years ago it was 18 hours. Two weeks is believed to be the limit we could ever achieve however much better computers and software get.\n",
        "Surprisingly, the solar system is a chaotic system too - with a prediction horizon of a hundred million years. It was the first chaotic system to be discovered, long before there was a Chaos Theory.\n",
        "In 1887, the French mathematician Henri Poincaré showed that while Newton’s theory of gravity could perfectly predict how two planetary bodies would orbit under their mutual attraction, adding a third body to the mix rendered the equations unsolvable.\n",
        "The best we can do for three bodies is to predict their movements moment by moment, and feed those predictions back into our equations …\n",
        "Though the dance of the planets has a lengthy prediction horizon, the effects of chaos cannot be ignored, for the intricate interplay of gravitation tugs among the planets has a large influence on the trajectories of the asteroids.\n",
        "Keeping an eye on the asteroids is difficult but worthwhile, since such chaotic effects may one day fling an unwelcome surprise our way.\n",
        "On the flip side, they can also divert external surprises such as steering comets away from a potential collision with Earth.\n",
        "\n",
        "\"\"\""
      ]
    },
    {
      "cell_type": "markdown",
      "source": [
        "#### **Abstractive Summarization** using NLTK, spaCy, Gensim, and Sumy\n",
        "\n",
        "Abstractive summarization using traditional NLP libraries like NLTK, spaCy, Gensim, and Sumy can be more challenging since these libraries are more commonly used for extractive summarization. However, we can create a basic approach to mimic abstractive summarization by combining various techniques."
      ],
      "metadata": {
        "id": "ukWN8Jzcr58Q"
      }
    },
    {
      "cell_type": "code",
      "source": [],
      "metadata": {
        "id": "7eWe5WL7swYq"
      },
      "execution_count": 3,
      "outputs": []
    },
    {
      "cell_type": "markdown",
      "source": [
        "1. Preprocessing the Text\n",
        "- Before we start with the summarization, we need to preprocess the text to clean and prepare it."
      ],
      "metadata": {
        "id": "5OY2M4uZsv2V"
      }
    },
    {
      "cell_type": "code",
      "source": [
        "def preprocess_text(text):\n",
        "    # Tokenize sentences\n",
        "    sentences = sent_tokenize(text)\n",
        "\n",
        "    # Remove stopwords and punctuation\n",
        "    stop_words = set(stopwords.words('english'))\n",
        "    processed_sentences = []\n",
        "\n",
        "    for sentence in sentences:\n",
        "        words = word_tokenize(sentence)\n",
        "        filtered_words = [word.lower() for word in words if word.lower() not in stop_words and word not in string.punctuation]\n",
        "        processed_sentences.append(' '.join(filtered_words))\n",
        "\n",
        "    return processed_sentences\n"
      ],
      "metadata": {
        "id": "-HyXi9iAr5n_"
      },
      "execution_count": 4,
      "outputs": []
    },
    {
      "cell_type": "code",
      "source": [
        "preprocessed_text = preprocess_text(text)\n",
        "preprocessed_text"
      ],
      "metadata": {
        "colab": {
          "base_uri": "https://localhost:8080/"
        },
        "id": "nU-Q9yHOtFUl",
        "outputId": "07dcd887-d539-41e9-dc45-5f52b477565e"
      },
      "execution_count": 5,
      "outputs": [
        {
          "output_type": "execute_result",
          "data": {
            "text/plain": [
              "['1961 meteorologist name edward lorenz made profound discovery',\n",
              " 'lorenz utilising new-found power computers attempt accurately predict weather',\n",
              " 'created mathematical model supplied set numbers representing current weather could predict weather minutes advance',\n",
              " 'computer program running lorenz could produce long-term forecasts feeding predicted weather back computer run forecasting future.accurate minute-by-minute forecasts added days weeks',\n",
              " 'one day lorenz decided rerun one forecasts',\n",
              " 'interests saving time decided start scratch instead took computer ’ prediction halfway first run used starting point',\n",
              " 'well-earned coffee break returned discover something unexpected',\n",
              " 'although computer ’ new predictions started two sets predictions soon began diverging drastically',\n",
              " 'gone wrong',\n",
              " 'lorenz soon realised computer printing predictions three decimal places actually crunching numbers internally using six decimal places',\n",
              " 'lorenz started second run number 0.506 original run used number 0.506127',\n",
              " 'difference one part thousand sort difference flap butterfly ’ wing might make breeze face',\n",
              " 'starting weather conditions virtually identical',\n",
              " 'two predictions anything',\n",
              " 'lorenz found seeds chaos',\n",
              " 'systems behave nicely without chaotic effects small differences produce small effects',\n",
              " 'case lorenz ’ equations causing errors steadily grow time',\n",
              " 'meant tiny errors measurement current weather would stay tiny relentlessly increased size time fed back computer completely swamped predictions',\n",
              " 'lorenz famously illustrated effect analogy butterfly flapping wings thereby causing formation hurricane half world away',\n",
              " 'nice way see “ butterfly effect ” game pool billiards',\n",
              " 'matter consistent first shot break smallest differences speed angle strike white ball cause pack billiards scatter wildly different directions every time',\n",
              " 'smallest differences producing large effects hallmark chaotic system',\n",
              " 'worth noting laws physics determine billiard balls move precise unambiguous allow room randomness',\n",
              " 'first glance appears random behaviour completely deterministic seems random imperceptible changes making difference',\n",
              " 'rate tiny differences stack provides chaotic system prediction horizon length time beyond longer accurately forecast behaviour',\n",
              " 'case weather prediction horizon nowadays one week thanks ever-improving measuring instruments models',\n",
              " '50 years ago 18 hours',\n",
              " 'two weeks believed limit could ever achieve however much better computers software get',\n",
              " 'surprisingly solar system chaotic system prediction horizon hundred million years',\n",
              " 'first chaotic system discovered long chaos theory',\n",
              " '1887 french mathematician henri poincaré showed newton ’ theory gravity could perfectly predict two planetary bodies would orbit mutual attraction adding third body mix rendered equations unsolvable',\n",
              " 'best three bodies predict movements moment moment feed predictions back equations … though dance planets lengthy prediction horizon effects chaos ignored intricate interplay gravitation tugs among planets large influence trajectories asteroids',\n",
              " 'keeping eye asteroids difficult worthwhile since chaotic effects may one day fling unwelcome surprise way',\n",
              " 'flip side also divert external surprises steering comets away potential collision earth']"
            ]
          },
          "metadata": {},
          "execution_count": 5
        }
      ]
    },
    {
      "cell_type": "code",
      "source": [],
      "metadata": {
        "id": "-ONbkYEetMfq"
      },
      "execution_count": 5,
      "outputs": []
    },
    {
      "cell_type": "markdown",
      "source": [
        "2. Extract Keywords and Key Phrases\n",
        "- To create an abstractive summary, we need to identify key phrases and concepts from the text."
      ],
      "metadata": {
        "id": "LLpR7l9stONj"
      }
    },
    {
      "cell_type": "code",
      "source": [
        "from collections import Counter\n",
        "\n",
        "def extract_keywords(text, num_keywords=10):\n",
        "    doc = nlp(text)\n",
        "    # Extract noun chunks (key phrases)\n",
        "    keywords = [chunk.text for chunk in doc.noun_chunks]\n",
        "    # Get the most common keywords\n",
        "    common_keywords = Counter(keywords).most_common(num_keywords)\n",
        "    return common_keywords"
      ],
      "metadata": {
        "id": "UeYYZMQ4tOrv"
      },
      "execution_count": 6,
      "outputs": []
    },
    {
      "cell_type": "code",
      "source": [
        "keywords = extract_keywords(text)\n",
        "keywords"
      ],
      "metadata": {
        "colab": {
          "base_uri": "https://localhost:8080/"
        },
        "id": "7mvtk2BotPyB",
        "outputId": "0bd27b62-75aa-4614-e7b3-73488a99bb39"
      },
      "execution_count": 7,
      "outputs": [
        {
          "output_type": "execute_result",
          "data": {
            "text/plain": [
              "[('Lorenz', 7),\n",
              " ('which', 4),\n",
              " ('they', 4),\n",
              " ('the weather', 3),\n",
              " ('the computer', 3),\n",
              " ('he', 3),\n",
              " ('it', 3),\n",
              " ('that', 3),\n",
              " ('we', 3),\n",
              " ('the current weather', 2)]"
            ]
          },
          "metadata": {},
          "execution_count": 7
        }
      ]
    },
    {
      "cell_type": "code",
      "source": [],
      "metadata": {
        "id": "nJohdLFrtPva"
      },
      "execution_count": 7,
      "outputs": []
    },
    {
      "cell_type": "markdown",
      "source": [
        "3. Generate Sentence Embeddings (Using Gensim)\n",
        "- We can use Gensim to create sentence embeddings, which will help in understanding the context and semantic similarity between sentences."
      ],
      "metadata": {
        "id": "lV8Dgg0lwtRx"
      }
    },
    {
      "cell_type": "code",
      "source": [
        "from gensim.models import Word2Vec\n",
        "\n",
        "def generate_sentence_embeddings(sentences):\n",
        "    # Tokenize sentences\n",
        "    tokenized_sentences = [word_tokenize(sentence) for sentence in sentences]\n",
        "\n",
        "    # Train Word2Vec model\n",
        "    model = Word2Vec(tokenized_sentences, vector_size=100, window=5, min_count=1, workers=4)\n",
        "\n",
        "    # Generate sentence embeddings by averaging word vectors\n",
        "    sentence_embeddings = []\n",
        "    for sentence in tokenized_sentences:\n",
        "        if len(sentence) > 0:\n",
        "            sentence_embedding = sum([model.wv[word] for word in sentence if word in model.wv]) / len(sentence)\n",
        "            sentence_embeddings.append(sentence_embedding)\n",
        "        else:\n",
        "            sentence_embeddings.append(None)\n",
        "\n",
        "    return sentence_embeddings"
      ],
      "metadata": {
        "id": "wK57deUBtPsj"
      },
      "execution_count": 8,
      "outputs": []
    },
    {
      "cell_type": "code",
      "source": [
        "sentence_embeddings = generate_sentence_embeddings(preprocessed_text)\n",
        "sentence_embeddings"
      ],
      "metadata": {
        "colab": {
          "base_uri": "https://localhost:8080/"
        },
        "id": "EsUb7Ji7tPp8",
        "outputId": "372edba9-7ec5-4a71-8f36-8ed52b654062"
      },
      "execution_count": 9,
      "outputs": [
        {
          "output_type": "execute_result",
          "data": {
            "text/plain": [
              "[array([-1.5709799e-03,  2.4688703e-03,  2.5568870e-03,  1.9268787e-03,\n",
              "        -3.6906933e-03,  1.7219689e-04,  1.0265656e-03,  3.5070456e-03,\n",
              "        -6.7889306e-04,  1.2482239e-03,  2.0356001e-03, -4.9342951e-03,\n",
              "         8.4150326e-04,  3.9611133e-03,  4.4671004e-05,  1.6185560e-04,\n",
              "         1.6769703e-04, -1.5911397e-03,  1.4256187e-03, -1.9127495e-03,\n",
              "         2.0720013e-03,  3.0152821e-03,  9.7796856e-04,  5.2917009e-04,\n",
              "         2.4478650e-03,  1.3367350e-03,  2.5816613e-03, -2.6693805e-03,\n",
              "        -3.5975473e-03,  1.2704364e-03,  5.1818555e-04, -8.3519716e-04,\n",
              "        -1.8282429e-03,  1.0235037e-03,  3.1617824e-03,  2.9561226e-03,\n",
              "         2.6178497e-03,  2.5847489e-03,  2.4531116e-03, -7.1909430e-04,\n",
              "        -3.0495808e-05,  1.8929821e-03, -3.9368072e-03, -3.2983959e-04,\n",
              "         6.4781774e-04,  1.2689453e-03, -1.7243668e-03,  4.0463842e-03,\n",
              "        -2.8574609e-03, -6.8223663e-04, -1.2569262e-03,  4.8764329e-04,\n",
              "        -1.0062446e-03,  1.7586289e-03,  1.5704347e-03,  1.8600260e-03,\n",
              "         3.7646350e-03, -4.3954584e-05, -1.4434619e-03,  3.2988188e-03,\n",
              "        -1.9076238e-03, -1.2533404e-03, -1.7258492e-03, -1.0818862e-03,\n",
              "        -1.9694488e-03, -1.3594893e-03,  2.9190902e-03,  5.1190029e-04,\n",
              "         4.4689127e-03,  1.8931699e-03,  2.1985557e-03,  3.5696459e-04,\n",
              "        -1.1495908e-03, -2.1280360e-03,  8.6411933e-04,  1.0915569e-03,\n",
              "         2.8121874e-03, -2.6683710e-03,  1.3100272e-03,  1.5627341e-03,\n",
              "         5.7725952e-04,  2.0330998e-03,  8.0833770e-04, -1.2554601e-03,\n",
              "        -2.1532509e-03,  4.7341944e-03, -1.0544136e-03,  1.2817804e-04,\n",
              "         1.1775366e-03,  1.1106965e-03, -9.1846351e-04, -3.0691919e-03,\n",
              "         1.6680162e-05, -1.3409911e-03,  2.0347298e-03,  1.5759249e-03,\n",
              "        -7.3141610e-04, -8.8775932e-04, -2.0966376e-03,  1.7931261e-03],\n",
              "       dtype=float32),\n",
              " array([-1.2581976e-03,  1.0084547e-03,  1.3782105e-03,  5.0811935e-04,\n",
              "        -1.1790064e-03, -1.4078204e-04,  4.6249479e-04,  3.8901013e-03,\n",
              "        -2.6785079e-03, -1.7736490e-03,  1.1780227e-03,  1.8236958e-03,\n",
              "        -3.3608128e-03,  1.9980681e-03,  3.1767032e-04,  2.2535063e-03,\n",
              "         3.7328340e-04,  6.5313070e-04, -1.9433326e-03,  4.8238240e-04,\n",
              "         3.0570447e-03,  1.9534595e-05,  3.1811313e-03, -3.1833530e-03,\n",
              "         2.2725118e-03, -1.5697940e-03, -2.7829430e-03, -1.4274572e-03,\n",
              "         2.7088483e-04,  7.2596958e-05,  1.6725952e-03,  6.7153078e-04,\n",
              "         1.1972545e-03, -3.4690723e-03,  1.0236376e-03,  1.9285091e-03,\n",
              "        -1.6330797e-03,  1.6320564e-04, -8.2851667e-04,  4.9226283e-04,\n",
              "         1.1886780e-03, -1.4464220e-03,  5.6246470e-04,  5.3516903e-04,\n",
              "        -1.2074181e-04,  8.7812677e-04, -1.5761782e-03,  2.7151442e-05,\n",
              "         1.9358979e-03,  2.6258940e-03,  2.9435693e-03,  2.7961705e-03,\n",
              "        -2.1474240e-03,  1.0768757e-03, -5.1758706e-04,  9.9348510e-04,\n",
              "         7.8636082e-04,  4.7358312e-04, -1.0462080e-03,  2.4588096e-03,\n",
              "        -1.1310095e-04,  2.1915669e-03,  6.5077271e-04,  1.2257918e-04,\n",
              "        -1.1813334e-03,  1.3391981e-03,  2.6996578e-03,  7.7559258e-04,\n",
              "         2.4724181e-03,  2.2275771e-03, -1.7956295e-03,  3.6957694e-04,\n",
              "        -1.8730706e-03,  1.5399860e-03, -1.1309404e-04, -1.2542874e-03,\n",
              "        -1.1962464e-03,  8.0249540e-04,  2.1501754e-03,  1.0820606e-03,\n",
              "        -3.0641949e-03,  2.8832038e-03,  4.1412687e-04,  1.8617581e-03,\n",
              "        -1.1530068e-03,  1.1684017e-03,  2.0076749e-03, -6.7820732e-04,\n",
              "        -5.3859938e-05,  1.1635141e-03, -1.2346760e-03,  6.2355999e-04,\n",
              "        -1.6917526e-03, -3.7926626e-03,  2.4059601e-03,  2.7564242e-03,\n",
              "        -4.0241703e-04, -3.4425722e-03, -3.2134391e-03,  1.9282097e-03],\n",
              "       dtype=float32),\n",
              " array([ 1.03916763e-03,  1.50700181e-03, -2.27868580e-03,  3.73679475e-04,\n",
              "        -6.15081008e-05, -8.67633033e-04, -1.10685905e-04,  1.44193857e-03,\n",
              "        -1.26947730e-03, -6.38727739e-04, -2.71704717e-04, -1.50375313e-03,\n",
              "         4.24200058e-04,  1.65242155e-03,  8.14006562e-05, -2.60060711e-04,\n",
              "         2.20988481e-03, -8.99950159e-04, -8.15788371e-05, -9.42075159e-04,\n",
              "         2.24174815e-03, -2.97049293e-03,  1.27916201e-03, -3.79946898e-03,\n",
              "         1.81296759e-03, -8.53257545e-04, -1.22910819e-03, -1.56056799e-03,\n",
              "        -4.96897846e-05, -1.00907973e-05,  5.88010706e-04,  2.69898737e-04,\n",
              "        -1.31150463e-03, -6.03070948e-05, -2.38515800e-04,  1.59062314e-04,\n",
              "         1.03791780e-03, -3.99166398e-04,  2.86968949e-04,  1.95934786e-03,\n",
              "         1.06533593e-03, -7.34618690e-04, -2.13672942e-03,  1.41230586e-03,\n",
              "         6.27909976e-05, -6.96114730e-05,  2.15584110e-03, -5.81966306e-04,\n",
              "        -1.26222766e-03, -4.85995144e-04,  1.94259279e-03, -4.34552226e-03,\n",
              "        -2.24837451e-03,  1.40170299e-03, -2.21254915e-04,  1.61604886e-03,\n",
              "         1.68535474e-03,  1.97727955e-03, -1.23278738e-03,  2.51232905e-05,\n",
              "         1.31376216e-03,  1.10262516e-03,  1.70752392e-04, -4.23523219e-04,\n",
              "         1.47694140e-03,  1.45174621e-03,  2.77777459e-03,  1.63349294e-04,\n",
              "         2.82097288e-04,  2.03802623e-03, -1.14278379e-03,  1.57449988e-03,\n",
              "         9.83427279e-04, -6.96056930e-04,  1.10126741e-03, -7.94050284e-04,\n",
              "        -2.18110741e-03,  3.74787545e-04,  8.81410204e-04, -7.99394213e-04,\n",
              "        -1.22299755e-03, -2.47663492e-03,  9.48848960e-04,  5.53002465e-04,\n",
              "         1.79032341e-03, -1.89265690e-03,  1.67054753e-03,  7.99599627e-04,\n",
              "         8.70945587e-05, -3.24413599e-03, -8.00412963e-04,  3.40878591e-03,\n",
              "         2.62918620e-04,  7.22963305e-04, -1.17046693e-04, -1.09609368e-03,\n",
              "         2.97805108e-03,  2.04312569e-03, -7.10850116e-04,  1.82456232e-03],\n",
              "       dtype=float32),\n",
              " array([ 1.3787777e-03,  5.1148655e-04,  7.8766537e-04,  8.9833949e-04,\n",
              "         1.2118490e-03, -3.1517784e-03,  1.1891524e-03,  2.8446864e-03,\n",
              "         1.2478683e-03, -3.9102202e-03, -2.1178139e-04, -6.0527463e-04,\n",
              "         5.8073765e-05,  9.4904803e-04,  5.2780908e-04,  1.0058856e-04,\n",
              "         2.0700500e-03,  2.0744412e-05, -6.8063695e-05,  8.4378617e-04,\n",
              "         3.4140726e-04, -9.4046869e-04,  1.7459275e-03,  2.3362307e-04,\n",
              "        -1.0616751e-03,  2.0205211e-03, -2.5622270e-03,  2.5203978e-03,\n",
              "         4.0910163e-04, -8.2848629e-04,  2.0258010e-03, -1.3107555e-03,\n",
              "        -6.5821392e-04, -1.2230538e-04,  5.4297183e-04,  1.1369098e-03,\n",
              "         1.4504585e-03,  9.1740949e-04, -9.4724126e-04,  2.0954536e-05,\n",
              "        -2.7662001e-04, -5.2679807e-04, -1.4255887e-03, -1.4744076e-03,\n",
              "        -1.7933720e-03,  7.5415993e-04, -3.8174004e-04, -1.7415133e-03,\n",
              "        -3.7982501e-04,  9.5381110e-04,  1.5136065e-03, -1.1643968e-03,\n",
              "         8.4839173e-04, -2.1136564e-03, -7.0005335e-04,  1.9540277e-03,\n",
              "         1.2947590e-04,  1.9647386e-03, -6.0129667e-05,  1.1800918e-03,\n",
              "        -1.5503326e-03, -1.5006874e-03,  1.4425811e-03,  2.3963768e-04,\n",
              "        -1.4825890e-04,  1.0054677e-03,  3.7092711e-03,  3.6346336e-04,\n",
              "        -1.0056103e-03,  7.9870562e-04,  2.1768063e-03, -3.3380691e-04,\n",
              "         1.0173103e-04,  3.1693821e-04,  1.6004702e-03, -1.4568384e-04,\n",
              "        -1.0899166e-03,  1.8252372e-03, -3.1008837e-03,  2.1321788e-04,\n",
              "        -4.3687122e-03,  3.4625232e-03,  9.9033327e-04,  1.3705838e-03,\n",
              "        -1.2616714e-03, -1.2109919e-04,  1.7422757e-03, -2.9884515e-05,\n",
              "        -4.6658242e-04, -2.4171504e-03,  1.8481907e-03, -1.6276094e-03,\n",
              "         1.1107776e-03, -1.3434325e-03,  8.7323075e-05,  2.4910882e-04,\n",
              "         2.9552070e-04,  6.2622952e-05,  2.3597275e-04,  1.3693059e-03],\n",
              "       dtype=float32),\n",
              " array([-1.9331154e-03, -1.3576202e-03, -2.0092553e-03,  2.1103265e-04,\n",
              "        -3.2545344e-03, -1.6989969e-03,  3.4125154e-03,  3.8324925e-03,\n",
              "        -3.2808415e-03, -2.0028609e-03, -1.4508769e-03,  7.3518039e-04,\n",
              "        -5.0371268e-04,  9.0271897e-05, -3.9046875e-03, -3.8201077e-04,\n",
              "         1.5366583e-03, -7.7131495e-04,  6.0265086e-04, -2.0524599e-03,\n",
              "         1.8583203e-03,  3.6584859e-04,  4.3802145e-03,  1.9146508e-03,\n",
              "        -1.7466616e-04, -4.5317165e-03, -2.8416282e-04, -1.2087139e-03,\n",
              "        -1.3155730e-05,  3.6154401e-03,  3.0810386e-03, -2.6588459e-03,\n",
              "         1.5836199e-03, -4.7113947e-03, -2.4104037e-03,  3.5003726e-03,\n",
              "         2.1263163e-03,  4.4299636e-04,  2.3551395e-03, -4.3546744e-03,\n",
              "         2.0647854e-05, -1.8330525e-03, -9.2854473e-04, -2.1509586e-03,\n",
              "         6.7737681e-04, -1.6903894e-03, -2.2324154e-03,  1.7102718e-03,\n",
              "         1.8631928e-03,  1.3620910e-03, -1.8970073e-03, -2.5901848e-03,\n",
              "         1.1345968e-03,  2.9759074e-03, -2.2259365e-04,  7.1287941e-04,\n",
              "         1.9709368e-03, -2.2371386e-03, -2.4291403e-03, -2.1648402e-03,\n",
              "         4.2752470e-03, -1.1061489e-03,  3.3519301e-03, -1.9778858e-03,\n",
              "        -2.1565610e-03,  2.0472023e-03,  1.7098958e-03,  2.2884416e-03,\n",
              "        -2.0097762e-03,  9.0899447e-04,  2.0994407e-03,  1.1799175e-04,\n",
              "         4.9047251e-03,  1.0701978e-03,  1.6545529e-03,  6.7249074e-04,\n",
              "        -3.0501778e-04,  1.5552555e-03, -3.9426154e-03, -9.0833026e-04,\n",
              "         1.5421041e-03, -1.0369594e-03,  7.4424490e-04,  2.2081870e-03,\n",
              "        -1.6756431e-03, -4.7035692e-03, -1.5657569e-03,  2.3734830e-03,\n",
              "        -2.9872602e-03,  5.3521845e-04,  4.1630082e-03,  2.9353243e-03,\n",
              "        -1.1766665e-03, -3.6214277e-04,  3.3537268e-03, -3.0475474e-04,\n",
              "        -1.4346922e-03, -5.2814065e-03,  2.6289467e-03,  6.4000720e-04],\n",
              "       dtype=float32),\n",
              " array([-5.5208639e-04,  1.5777807e-03,  3.7431065e-04,  1.5577521e-03,\n",
              "         3.4283640e-04, -2.1091457e-03,  2.3544538e-03, -1.3553984e-04,\n",
              "        -1.3251031e-03, -2.2030983e-05,  4.2909745e-04,  2.6916436e-04,\n",
              "         9.0206263e-04,  2.5306602e-03,  1.1996877e-03, -4.4124748e-04,\n",
              "         1.5117107e-03, -3.6449428e-04, -8.6226087e-04, -2.2142173e-03,\n",
              "         1.3932211e-03,  4.2647170e-04, -1.0837712e-04, -2.4057757e-04,\n",
              "        -1.3400275e-03,  6.6196160e-05, -2.9500603e-04, -1.4438297e-03,\n",
              "        -2.3431932e-03,  8.9058327e-04,  1.4788446e-03, -1.3706982e-03,\n",
              "        -6.1038701e-04, -4.6806398e-04,  2.6161908e-04,  1.1126259e-03,\n",
              "        -3.1193132e-03,  1.8783557e-04, -2.4017533e-03, -1.7145994e-03,\n",
              "         9.9260383e-04,  3.7391461e-04,  2.4304320e-03,  1.0543847e-03,\n",
              "         1.2299411e-03,  8.2344472e-05, -6.3279038e-04, -2.2962021e-03,\n",
              "         7.0808595e-04,  1.6040060e-03,  4.1424428e-04,  8.8813540e-04,\n",
              "        -1.5440749e-04, -1.2986900e-03, -5.5909669e-04, -1.7945023e-03,\n",
              "        -1.1025345e-03,  5.6607602e-04, -1.3485482e-03,  1.1698996e-03,\n",
              "        -3.0715746e-04,  9.3384537e-05,  1.9101156e-03, -1.2228163e-03,\n",
              "        -9.9445332e-04,  1.0984122e-03, -4.9917900e-04,  1.9411211e-03,\n",
              "        -9.3720469e-04,  1.0128749e-03,  1.0637115e-03, -1.3010399e-03,\n",
              "         2.1655033e-03,  2.3108728e-03, -6.3194358e-04, -1.1032046e-03,\n",
              "        -1.3289104e-04, -1.9961719e-03, -2.1326880e-03,  3.0282314e-04,\n",
              "        -5.5618788e-04, -4.7980293e-04, -3.0958781e-03,  2.2635581e-03,\n",
              "         1.3547176e-03, -1.1961020e-03,  1.8366714e-03,  3.3839169e-05,\n",
              "        -9.4678003e-04, -3.7418702e-04,  3.5100812e-04,  5.3954293e-04,\n",
              "        -8.4625074e-04,  1.0299231e-03,  2.4075925e-03,  7.3707354e-04,\n",
              "         1.5276715e-03, -2.7940783e-03,  1.9046540e-03, -2.3440425e-03],\n",
              "       dtype=float32),\n",
              " array([-3.2515079e-03, -3.7390275e-03, -8.2708197e-04,  5.2645579e-03,\n",
              "        -3.0828763e-03,  2.7036972e-03, -1.5471436e-04, -4.7406668e-04,\n",
              "        -3.1478757e-03,  3.5767835e-03,  8.4768288e-04,  1.1433215e-04,\n",
              "        -1.2442612e-03, -5.0979730e-04, -4.6192375e-03,  1.9417491e-04,\n",
              "         1.2842559e-03, -2.1971555e-03,  3.0135359e-03,  1.3909109e-04,\n",
              "         2.8566117e-03,  1.9204695e-03,  3.7299960e-03, -1.4879927e-03,\n",
              "         2.7551018e-03, -1.3621014e-03,  3.4666755e-05,  2.4571964e-03,\n",
              "         3.1404493e-03,  2.2092301e-07,  7.1735456e-05,  1.0686081e-03,\n",
              "        -2.8084673e-03, -1.0428710e-03,  3.1221886e-03, -2.9731120e-03,\n",
              "        -3.9266024e-04, -7.5907621e-04,  1.9859781e-03, -2.4165118e-03,\n",
              "        -1.3855022e-03, -4.2605782e-03,  2.2709633e-03,  3.1040350e-03,\n",
              "        -1.5262840e-03, -1.5792468e-03, -8.8944240e-04,  1.6412977e-03,\n",
              "         3.5135744e-03, -2.6451310e-04,  6.4389029e-04,  3.7379202e-03,\n",
              "         2.2815678e-03, -2.2207138e-03, -1.2122227e-03,  3.7878193e-04,\n",
              "         1.7847179e-03,  3.6792755e-03,  3.5576103e-04,  2.9913249e-04,\n",
              "        -1.4734178e-04,  6.6072628e-04,  4.5904722e-05, -2.0095559e-04,\n",
              "        -9.7307470e-04, -3.4660751e-03, -1.0597297e-03,  4.8668659e-03,\n",
              "        -1.7366188e-03, -1.1307787e-03, -8.1628689e-04, -2.7777345e-03,\n",
              "        -3.5677411e-04, -5.0703745e-04, -5.8180787e-05,  1.2800584e-03,\n",
              "         1.1017685e-03,  3.1024669e-03, -2.0115566e-03,  2.2844223e-03,\n",
              "        -1.4597053e-03,  2.0935198e-03,  1.6272671e-03,  2.4693988e-03,\n",
              "        -4.6153381e-04,  1.8527372e-04,  1.7252534e-03, -7.3668361e-04,\n",
              "        -5.9274252e-04, -1.0731502e-03, -1.8954155e-03, -2.9098507e-04,\n",
              "        -3.0245404e-03,  2.2938296e-03,  1.1801677e-03,  2.3351181e-03,\n",
              "        -1.6752903e-04, -6.4847884e-03,  5.3263450e-04,  5.9029751e-04],\n",
              "       dtype=float32),\n",
              " array([-1.5753713e-03,  5.8544567e-04,  9.9502085e-04, -2.7239512e-04,\n",
              "         1.9380717e-03, -2.1526644e-03,  1.3501537e-03, -6.8996131e-04,\n",
              "        -1.3412011e-03, -5.3795398e-04, -4.9127277e-04, -1.7733200e-03,\n",
              "         1.3574251e-03, -3.8235625e-03,  1.1062475e-03, -3.1380458e-03,\n",
              "         2.2184933e-03, -1.5993207e-03, -3.6080407e-03, -5.1679608e-04,\n",
              "         4.9124699e-04, -1.3422844e-03, -2.3005329e-04, -4.9476244e-04,\n",
              "        -1.4066112e-03, -2.3656336e-04,  8.0101250e-04,  2.3968813e-03,\n",
              "        -3.2880125e-04, -6.4296991e-04,  2.1541412e-03, -1.5378724e-03,\n",
              "        -1.8965919e-03, -4.1610412e-03, -1.7137894e-03, -5.1576778e-04,\n",
              "         1.5451347e-03,  1.4399934e-03, -1.2947286e-03,  1.4194914e-03,\n",
              "        -1.3621825e-04, -7.2941039e-04, -1.3681130e-03,  2.0054686e-03,\n",
              "         1.4607963e-03,  7.6663226e-04,  1.8000080e-04, -1.0235300e-04,\n",
              "         1.7226487e-03, -9.1250654e-04, -5.3158888e-05, -5.7036331e-04,\n",
              "        -8.2497473e-04, -1.8311071e-03, -4.3237633e-03,  5.6517023e-05,\n",
              "         8.5248868e-04, -8.2510523e-05, -1.1779373e-03,  3.0648694e-03,\n",
              "        -4.6921815e-04, -9.6638355e-04,  3.8153380e-03,  2.5857537e-04,\n",
              "        -2.7461255e-03,  1.5959239e-03, -1.9740181e-03,  2.3285323e-03,\n",
              "        -2.0483832e-03, -2.1382251e-03, -8.1118650e-04,  1.1231212e-03,\n",
              "         2.7347887e-03, -7.2544819e-04,  1.0972297e-03,  4.7150129e-04,\n",
              "         2.5568781e-03,  1.8557933e-03, -1.9131820e-03, -4.9740908e-04,\n",
              "        -2.2524840e-03,  7.4105407e-04, -2.7416707e-03,  1.0562914e-03,\n",
              "        -1.4720950e-04, -1.7584009e-03, -1.2769403e-04,  1.8135533e-03,\n",
              "         2.3275574e-03, -2.8737995e-03, -7.6197309e-04, -7.2723182e-05,\n",
              "         3.7411829e-03, -1.5794748e-03,  2.7631002e-03,  9.3323592e-04,\n",
              "         1.6496322e-03,  1.8809851e-05,  9.2724682e-04, -7.4761739e-04],\n",
              "       dtype=float32),\n",
              " array([-3.93109722e-03, -3.00151482e-03, -9.14381992e-04, -3.95012554e-03,\n",
              "        -1.59246847e-04,  1.98806124e-03,  5.93383913e-04, -2.98470864e-03,\n",
              "        -6.87683374e-03, -1.88355136e-03, -1.38539867e-03,  3.23097850e-03,\n",
              "        -2.91753863e-03, -3.16276262e-03, -1.76482834e-04, -1.93251483e-03,\n",
              "        -3.26052168e-03,  2.06021871e-03,  2.51696445e-04,  2.82072206e-03,\n",
              "        -4.31798259e-03,  2.11495045e-03, -7.08916504e-03,  1.29980408e-03,\n",
              "        -5.02356654e-03,  6.48086425e-05, -3.64452135e-04,  2.93505355e-03,\n",
              "        -3.18176718e-03, -1.77985174e-03,  4.08211816e-03, -2.09912471e-03,\n",
              "         6.75321370e-03, -5.55044785e-03, -4.68132459e-03,  4.15723887e-04,\n",
              "        -1.63859688e-04,  2.34229700e-03, -1.44479843e-03,  8.29782709e-03,\n",
              "         4.69165714e-03,  6.95060880e-05, -5.82808815e-03, -4.41097282e-03,\n",
              "         5.28062554e-03, -3.61609133e-03,  8.45163781e-03,  3.74679454e-03,\n",
              "         5.15129184e-04,  4.05611377e-03,  1.23759266e-04, -9.53617133e-03,\n",
              "         6.21563348e-04, -1.05994404e-04, -3.05175176e-03, -2.58728676e-03,\n",
              "        -4.16066265e-03, -1.74121815e-03,  3.67652229e-03,  9.14957933e-03,\n",
              "         1.73153332e-03,  7.92193413e-03,  4.01054975e-04,  1.10162841e-03,\n",
              "         1.11643254e-04,  1.16874231e-03, -4.67537344e-03, -3.01359687e-04,\n",
              "        -5.58046857e-04,  8.98872688e-03, -5.56398695e-03, -6.33487245e-03,\n",
              "        -3.33653577e-03, -6.02841238e-03, -4.13460366e-04, -1.54646207e-03,\n",
              "         3.05769639e-03,  5.45436423e-03,  2.53385166e-04,  6.63574785e-03,\n",
              "        -3.39839864e-03,  5.17623778e-03, -9.09154769e-05,  5.02211740e-03,\n",
              "         2.93454994e-03,  3.14216083e-03, -7.83799565e-04,  3.94707080e-03,\n",
              "        -7.12406309e-03,  4.86346241e-03,  5.87289501e-03,  5.26464777e-04,\n",
              "         1.28498278e-03,  1.12207455e-03,  2.66116066e-03, -1.40144303e-03,\n",
              "         4.80048452e-03, -4.39850381e-03, -3.44908424e-03,  5.17072156e-03],\n",
              "       dtype=float32),\n",
              " array([ 2.1101146e-03, -7.5252331e-04, -2.6967941e-04, -2.4315588e-04,\n",
              "         2.3333821e-03, -1.0959467e-04,  1.3367968e-04,  2.3525234e-03,\n",
              "        -3.5816213e-04,  6.1382219e-04, -7.2746800e-04, -7.6381548e-05,\n",
              "         8.9748108e-05,  4.0727546e-03,  2.3466807e-03, -7.4115791e-04,\n",
              "        -9.6421799e-04, -4.9643416e-04,  1.4335029e-04,  1.4149000e-04,\n",
              "        -5.7382527e-04, -6.6490192e-04,  1.1129243e-03, -6.0609926e-07,\n",
              "         1.6875565e-03, -1.4029208e-03,  3.5132244e-03,  7.8433705e-04,\n",
              "        -2.7184424e-03,  1.1816091e-03,  9.6821279e-04, -1.1892932e-03,\n",
              "         8.8741205e-04, -2.4954483e-03, -8.2546048e-04,  2.7118321e-03,\n",
              "         2.0285139e-03,  4.5032249e-04, -2.6758076e-03,  1.0711644e-03,\n",
              "        -4.0107900e-03,  1.3983625e-03,  9.4416155e-04,  6.1903609e-04,\n",
              "         2.4909684e-03,  5.7061901e-04,  9.3609217e-04,  2.5776743e-03,\n",
              "        -5.7407498e-04,  3.7217513e-04, -6.1067997e-04,  1.3016257e-03,\n",
              "        -2.7409405e-03, -2.5471542e-03, -3.8042112e-04,  5.3187669e-04,\n",
              "        -1.4990082e-03,  1.2577628e-03,  2.7505020e-04,  2.9243913e-04,\n",
              "         1.1184616e-03, -1.2455325e-03, -8.2487531e-04,  1.0125311e-03,\n",
              "         6.8897678e-04, -3.7899619e-04,  7.8370376e-04,  8.0256874e-04,\n",
              "        -4.1056829e-04,  3.6902138e-04,  9.8529435e-04,  3.0005231e-04,\n",
              "        -2.3601532e-03,  3.6060632e-05,  3.2961292e-03,  9.1954827e-04,\n",
              "         9.5397455e-04,  1.3115180e-03,  2.2181645e-03,  1.2389211e-03,\n",
              "         2.8392468e-03, -1.1793035e-03,  1.1468953e-03, -2.6313527e-03,\n",
              "        -6.8358937e-04, -8.6953066e-04,  4.6765570e-05, -1.1044708e-03,\n",
              "         3.6632565e-03,  2.2003776e-03,  3.1750402e-05,  1.4341241e-03,\n",
              "         6.8095163e-04, -1.5584114e-03,  1.6605400e-03, -7.5436436e-04,\n",
              "         4.6614360e-04, -1.1186117e-03,  3.6914294e-04, -3.3754976e-03],\n",
              "       dtype=float32),\n",
              " array([ 7.0629624e-04, -2.1331676e-03,  7.9739711e-04, -5.0350553e-03,\n",
              "        -8.8820304e-04, -1.3691921e-03, -1.4283850e-03, -8.0368476e-04,\n",
              "        -6.8030116e-04, -4.0447089e-04,  4.6822467e-04, -1.4694015e-03,\n",
              "        -4.9054185e-03, -1.4568027e-03, -5.5839733e-04, -2.8164205e-03,\n",
              "        -3.1612848e-04, -2.7731028e-03,  2.5387295e-04,  1.2345426e-03,\n",
              "         1.6405623e-03,  4.6604574e-03,  8.9489692e-04,  1.4229122e-03,\n",
              "        -1.0814894e-03,  3.4667647e-03, -2.3248421e-03,  3.6674752e-03,\n",
              "        -1.5358246e-03,  8.3972997e-04, -1.8812672e-03, -9.5432228e-04,\n",
              "         8.8358484e-04, -1.8620762e-03, -9.8684616e-04, -5.1873928e-04,\n",
              "        -7.4371713e-04, -8.3112827e-04, -1.6580356e-03, -9.1764925e-04,\n",
              "        -3.3128858e-03,  8.4546488e-04, -1.2278180e-03,  7.3105079e-04,\n",
              "        -8.7082252e-04, -1.4201235e-03,  1.8727973e-03,  4.2907133e-05,\n",
              "        -5.1566382e-04,  2.4537016e-03,  9.8180096e-04,  6.7496418e-05,\n",
              "         1.5548338e-03,  2.8011578e-04,  3.9567128e-03, -6.7483360e-04,\n",
              "         2.2765453e-04, -1.0223896e-03, -2.2139966e-03, -2.0735092e-03,\n",
              "        -5.2241315e-03, -5.2601947e-05, -1.5855135e-03, -7.1768090e-04,\n",
              "         4.0175251e-04,  3.3734331e-03,  1.7046129e-03, -2.1190277e-05,\n",
              "        -2.4507300e-03,  2.1510625e-03,  8.2122779e-04,  1.7848804e-03,\n",
              "         2.9519757e-03, -4.9926009e-04,  1.1895708e-04,  1.8348562e-03,\n",
              "        -3.4103150e-04,  6.8559614e-04, -1.9371076e-03, -2.7266233e-03,\n",
              "        -3.7487976e-03,  7.4402854e-04, -1.8082778e-03,  4.3103588e-03,\n",
              "        -1.5898503e-03,  9.2698226e-04,  1.2621797e-03,  1.3801028e-03,\n",
              "        -1.4321681e-03,  3.4811033e-03,  1.6544278e-03,  1.3913964e-03,\n",
              "         1.4015230e-03, -3.7220707e-03,  1.2114329e-03,  9.5984252e-04,\n",
              "        -1.2134918e-03,  7.9699809e-04,  1.0389115e-03,  2.0609569e-04],\n",
              "       dtype=float32),\n",
              " array([-8.5824874e-04,  9.7936415e-04, -8.9845453e-05, -2.7436337e-03,\n",
              "        -9.1361592e-04, -2.4682763e-03,  2.4046784e-03,  3.0671116e-03,\n",
              "        -8.2919322e-04, -2.5511503e-03,  8.7888713e-04, -5.8442808e-04,\n",
              "        -6.9201208e-04, -1.0791564e-03,  1.0860887e-03, -6.1720971e-04,\n",
              "         5.0389988e-04,  4.7865976e-04, -3.5363880e-03, -3.9130272e-03,\n",
              "        -1.8362317e-03, -7.1705188e-07, -6.7786913e-04,  1.0396707e-03,\n",
              "        -1.3498025e-03,  5.6714687e-04,  7.3112715e-05, -1.5478315e-03,\n",
              "         2.6422500e-04,  5.8096956e-04,  8.5558573e-04,  2.1615082e-03,\n",
              "         3.2683456e-04, -1.2448584e-04, -1.3843831e-03, -1.5503181e-03,\n",
              "        -3.4342316e-04, -2.2661455e-03,  2.8247330e-03, -2.0736840e-03,\n",
              "         1.7332409e-03, -1.9439349e-03,  1.1853063e-03, -1.3635755e-03,\n",
              "         1.5774535e-03, -9.7438099e-04,  4.9664790e-04, -9.5977279e-04,\n",
              "         1.2342462e-03,  1.7928671e-04, -8.0903113e-04,  1.8571162e-03,\n",
              "         3.1919512e-03,  8.2567957e-04, -7.9023128e-04,  2.7713063e-03,\n",
              "         5.0498277e-04,  2.4686083e-03,  1.0668689e-04,  1.7420799e-03,\n",
              "         3.6050756e-03,  1.7073886e-04, -1.9640615e-03,  1.4445272e-04,\n",
              "         1.7527861e-03,  1.4315593e-03, -2.1107800e-03, -3.3261094e-04,\n",
              "        -3.8590422e-04,  1.1273974e-03, -1.9869769e-03, -1.2583823e-03,\n",
              "         2.5914307e-03, -4.3959924e-04, -8.7597588e-04,  7.8078930e-04,\n",
              "         8.7970431e-04, -5.8461777e-05,  8.7883562e-04,  1.2028671e-03,\n",
              "         1.9763329e-03, -5.5082276e-04, -8.6723558e-05,  9.0518949e-04,\n",
              "         6.8077724e-04,  5.4102356e-04,  8.0254948e-04,  2.3588315e-03,\n",
              "         2.6994220e-03, -6.6068076e-04,  3.3924612e-03, -2.2989197e-03,\n",
              "         4.0857500e-04,  2.3639192e-04,  6.2216038e-04, -3.7937858e-05,\n",
              "         2.8719378e-03, -4.1949074e-03, -3.9317162e-04, -1.5100449e-03],\n",
              "       dtype=float32),\n",
              " array([ 5.82905486e-04,  7.20299548e-03,  4.67734411e-03, -3.19104642e-03,\n",
              "         5.73394354e-03, -4.43252875e-03,  2.05104356e-03,  1.58087502e-03,\n",
              "         1.04929786e-04, -2.23622215e-03, -9.27632675e-04, -3.62292374e-03,\n",
              "         1.94491283e-03,  2.19158456e-03, -1.02579582e-03,  3.02935694e-03,\n",
              "        -1.62389036e-03,  4.04885039e-03, -3.28303571e-03, -4.99109644e-03,\n",
              "        -2.04262510e-03,  2.22434988e-03, -1.49842293e-03, -1.38169550e-03,\n",
              "         2.02224287e-03,  4.67666984e-03,  4.30069724e-03,  3.23830405e-03,\n",
              "        -1.25332980e-03,  5.18091954e-04,  2.35223398e-03, -1.47758576e-03,\n",
              "         2.17272039e-03, -2.15189788e-03, -1.35419745e-04,  3.22984206e-03,\n",
              "         1.52077421e-03,  1.20059948e-03,  2.82232603e-03, -3.51747498e-03,\n",
              "         1.70584361e-03,  1.78603269e-03, -2.29099882e-03, -6.10925490e-03,\n",
              "        -9.70537483e-04, -1.77439325e-03,  3.35515523e-03,  4.35517723e-04,\n",
              "         1.59684068e-03, -3.11701419e-03,  5.68720046e-04, -4.28888481e-03,\n",
              "         1.63268542e-03,  2.06689676e-03, -1.29306037e-03,  8.93046323e-04,\n",
              "        -4.43309531e-08,  2.79843993e-03, -4.42683231e-04, -1.61932292e-03,\n",
              "         4.60070465e-03, -1.36936273e-04,  3.23217886e-04,  9.87992389e-04,\n",
              "         1.37834752e-03,  2.29862216e-03,  1.93787646e-03, -4.63104155e-03,\n",
              "        -8.33370083e-04,  5.68946649e-04, -2.58848304e-03,  2.33219194e-04,\n",
              "         1.79375673e-03,  5.24296251e-04, -1.13149363e-04,  3.97266034e-04,\n",
              "        -3.99068883e-03, -3.94862203e-04, -1.35881361e-04, -2.38807080e-03,\n",
              "         3.55110015e-03,  3.55769205e-03, -2.92600412e-03, -1.50895945e-03,\n",
              "         2.47772061e-03,  1.43993832e-03,  1.13662030e-03, -1.19493481e-04,\n",
              "         1.68297067e-03,  9.19601065e-04,  1.84831605e-03,  2.87259743e-03,\n",
              "        -4.00567602e-04,  1.74296321e-04,  9.65148385e-04, -5.24561969e-04,\n",
              "        -1.87971513e-03, -3.13488394e-03,  9.84366285e-04, -1.29165850e-03],\n",
              "       dtype=float32),\n",
              " array([ 3.9894227e-03,  4.1607739e-03, -2.8960159e-04, -2.2394694e-03,\n",
              "         5.8389814e-03, -1.1508517e-03, -2.0290001e-03,  4.9177854e-04,\n",
              "        -1.9930240e-03,  2.1092582e-03, -1.4175415e-03, -7.3138787e-03,\n",
              "         1.7572260e-03, -5.4047755e-06,  2.9676792e-03, -1.1892101e-03,\n",
              "         6.9563440e-03,  2.3286124e-03, -2.9133882e-03, -4.7603836e-03,\n",
              "        -3.3308254e-04, -2.3916855e-03, -8.9462294e-04, -1.6397453e-03,\n",
              "        -8.4322831e-04,  8.5476268e-04,  4.8182835e-03,  3.3612885e-03,\n",
              "        -1.7551187e-03,  8.5848919e-04, -1.7948672e-03, -1.7791479e-03,\n",
              "        -3.2651380e-03, -5.5972524e-03, -4.4383840e-03, -6.5784701e-03,\n",
              "         5.8153975e-03,  7.8445050e-04,  1.4459099e-04,  4.4176825e-03,\n",
              "        -1.1061784e-03, -2.8517169e-03,  5.4244511e-04,  8.3425175e-04,\n",
              "         5.2377670e-03,  1.2887707e-03, -2.6892175e-03, -4.5738383e-03,\n",
              "         2.1233575e-03, -4.6360772e-05, -3.1871069e-04,  1.4177490e-03,\n",
              "        -7.1125379e-04, -2.6449596e-03, -4.8652156e-03, -6.5560564e-03,\n",
              "         8.1524084e-04, -2.7598843e-03,  1.0179105e-03,  3.2713355e-03,\n",
              "        -2.8442102e-04, -5.7238922e-03,  3.1504051e-03,  4.2149969e-03,\n",
              "        -3.1218056e-03,  8.0374479e-03,  4.1970341e-03,  1.8596421e-04,\n",
              "        -4.5718751e-03,  4.1615232e-03, -4.3284046e-04, -2.0891679e-03,\n",
              "         4.6067783e-03, -1.9656874e-03, -4.6178168e-03,  2.6140858e-03,\n",
              "         6.4591356e-03,  2.6205860e-03,  2.8825132e-03, -4.3989802e-04,\n",
              "        -3.7877511e-03, -5.3183245e-03,  9.5983065e-04, -4.2101904e-03,\n",
              "         4.0529021e-03, -2.6595531e-04, -1.7633577e-03, -1.9794279e-04,\n",
              "         4.8649604e-03, -3.8857230e-03,  1.1679322e-03,  2.0281214e-03,\n",
              "         6.8587237e-03, -3.1917277e-04,  2.0048770e-03, -3.0063062e-03,\n",
              "         8.6010993e-04,  3.8215618e-03,  1.7580709e-04,  1.0397196e-03],\n",
              "       dtype=float32),\n",
              " array([ 2.8313347e-04,  1.8771645e-03,  3.5375957e-03,  2.3909006e-03,\n",
              "        -8.0626295e-04,  1.0324299e-03,  7.6862816e-03,  1.1442649e-03,\n",
              "        -8.3331903e-04, -2.3158561e-03, -6.1242451e-04, -1.4443179e-03,\n",
              "         2.6579318e-03,  4.3874187e-03, -2.8735646e-03, -2.1165397e-03,\n",
              "         1.3439487e-03,  7.3769339e-04, -3.3952713e-03, -4.5342264e-03,\n",
              "         5.7622413e-03,  2.7381144e-03, -4.6522189e-03, -1.0131043e-06,\n",
              "         9.4220135e-04, -2.7491264e-03,  8.6019392e-04, -3.4065428e-03,\n",
              "        -2.4775155e-03,  8.2856754e-04, -4.0361388e-03,  7.7104953e-04,\n",
              "        -4.4888345e-04, -5.5360412e-03, -3.0486858e-03,  4.1182013e-03,\n",
              "         1.3227365e-04, -1.5990365e-03,  1.9284418e-03, -6.9220625e-03,\n",
              "        -3.1509674e-03,  5.6199040e-03,  1.3832527e-03,  2.7883002e-03,\n",
              "         7.4203277e-04, -2.4116426e-03, -5.1516355e-03,  2.2196921e-03,\n",
              "         6.3463864e-03,  8.1174629e-04, -1.1334145e-03, -2.5033765e-04,\n",
              "        -2.1983725e-03,  1.1618335e-03,  1.9805680e-04,  6.3030084e-04,\n",
              "        -9.8885840e-04, -2.0728305e-03, -3.4540205e-03,  3.0658445e-03,\n",
              "        -2.6976285e-03,  1.2458402e-03,  2.3253194e-04, -5.6342385e-03,\n",
              "        -3.2463344e-03, -1.2927165e-04, -3.1122454e-03,  3.2155125e-03,\n",
              "        -1.2883728e-03, -9.2144532e-05,  1.9210619e-03,  5.9101926e-03,\n",
              "        -1.5507513e-03, -5.2527227e-03,  1.6819438e-03,  2.0997149e-03,\n",
              "         5.1054908e-03,  1.5507508e-03, -1.9987775e-03, -4.5719468e-03,\n",
              "        -1.6678217e-03,  1.2849823e-03, -2.8446357e-04, -2.0957007e-03,\n",
              "         6.8599358e-05, -1.7826443e-03,  5.3066779e-03, -1.2005031e-03,\n",
              "         1.5187332e-03,  1.5336447e-03,  1.3181297e-03,  3.8824871e-03,\n",
              "        -5.0376132e-03,  1.7533978e-03, -1.5998317e-03, -2.6685442e-04,\n",
              "        -3.2597263e-03,  2.0230508e-03,  4.5077363e-03,  6.2802602e-03],\n",
              "       dtype=float32),\n",
              " array([ 2.71511148e-04, -1.49064616e-03,  1.05288136e-03,  4.88225109e-04,\n",
              "        -1.96260912e-03, -2.63014156e-03, -1.42475555e-03,  2.91772326e-03,\n",
              "         1.51996827e-03, -4.84895456e-04,  6.28785856e-05, -3.81089398e-03,\n",
              "         1.65946106e-03,  1.17332872e-03,  1.91566988e-03,  3.23288050e-03,\n",
              "        -4.17417940e-03, -2.82004452e-03,  4.22041817e-03, -4.82585235e-03,\n",
              "         1.96407689e-03,  1.77367742e-03,  1.55043195e-03,  3.64252715e-03,\n",
              "        -4.34851879e-03,  4.40876279e-03, -1.61070522e-04,  3.11310869e-05,\n",
              "        -1.33014261e-03,  1.43153628e-03,  1.35978870e-03, -1.29855331e-03,\n",
              "         2.33994587e-03,  3.95253859e-03,  1.64222007e-03,  2.62107560e-03,\n",
              "         1.03012321e-03, -3.08590825e-03, -2.09031417e-03, -6.93969661e-04,\n",
              "        -1.63479778e-03, -3.53316427e-03, -1.98585144e-03,  3.53738968e-03,\n",
              "         8.11988080e-04, -1.19416465e-04, -3.25287902e-03, -4.30856191e-04,\n",
              "         2.52424827e-04, -3.35990655e-04,  2.12407089e-03,  1.45945686e-03,\n",
              "         4.02942329e-04, -2.93809478e-03,  1.21129572e-03, -4.75709530e-05,\n",
              "         1.30237942e-03, -3.73047963e-03, -1.94490992e-03, -1.84099699e-04,\n",
              "         1.20228666e-04,  6.06947578e-04, -7.45005556e-04,  7.00591889e-04,\n",
              "        -3.58617376e-03,  1.97278219e-03, -1.11739966e-03,  2.47065979e-03,\n",
              "        -8.28467368e-04,  1.45460467e-03, -6.04283821e-04,  1.71994523e-03,\n",
              "        -1.60581025e-03,  2.42562126e-03,  3.80184664e-03,  4.10750555e-03,\n",
              "        -5.24969015e-04,  4.07686370e-04,  9.32949828e-04, -5.34699822e-04,\n",
              "         8.39956105e-04,  1.13334390e-03, -8.73090175e-04,  3.37966136e-03,\n",
              "        -2.69560423e-03,  1.61040772e-03, -6.89262000e-04,  1.16537395e-03,\n",
              "         3.10433010e-04, -2.20893417e-03,  5.48972283e-03,  8.52565514e-04,\n",
              "        -9.28457128e-04,  1.75727950e-03, -2.50708382e-03,  3.39473691e-03,\n",
              "         2.14889558e-04,  6.03689521e-04, -6.94224844e-04, -4.60455194e-04],\n",
              "       dtype=float32),\n",
              " array([ 8.6735591e-04, -5.8774347e-04,  2.0749888e-03,  1.4082477e-03,\n",
              "        -8.1626116e-04, -5.2498677e-04, -4.3522281e-04,  2.2846155e-03,\n",
              "        -8.3553739e-04, -2.9044121e-04, -6.2382215e-04, -1.2639123e-03,\n",
              "         3.0553150e-03,  4.0010491e-04, -5.6776573e-04, -9.3789306e-04,\n",
              "         1.3833483e-03, -6.3031056e-04, -1.8849245e-03, -4.5936788e-03,\n",
              "         1.9874000e-03, -3.6715073e-04,  7.6171098e-04, -1.6650731e-03,\n",
              "        -2.3772283e-03, -1.6309629e-03, -1.5926571e-03, -1.1614296e-03,\n",
              "        -3.0488437e-03, -1.3435216e-03,  1.4463513e-03,  9.4448868e-04,\n",
              "         2.0595747e-03, -1.3511431e-03, -8.4698532e-04, -3.6871774e-04,\n",
              "        -1.0233657e-03, -2.7325284e-04, -1.1879036e-03, -2.6487722e-03,\n",
              "         1.0152188e-03,  1.4317436e-03, -2.2560926e-03, -1.5435787e-04,\n",
              "         2.3897914e-03,  2.3284107e-03, -1.3082370e-03,  2.0283023e-03,\n",
              "         1.4166842e-03,  1.7562745e-03, -4.4261545e-04, -4.6465266e-03,\n",
              "        -5.5881706e-04, -5.4219353e-04,  1.4186485e-04,  1.9158682e-04,\n",
              "        -1.7200462e-03, -2.3722304e-03, -4.5733294e-03,  4.4757346e-04,\n",
              "         3.2305444e-04,  2.0144582e-03, -1.3473247e-03,  3.5301756e-04,\n",
              "         1.4836341e-03,  1.2281141e-03, -2.8891501e-03,  7.8615471e-04,\n",
              "        -6.8478080e-06,  5.7458773e-04,  1.2641243e-03,  1.7507731e-03,\n",
              "         1.4378020e-03,  5.8142591e-04,  1.8036953e-03, -1.0005883e-03,\n",
              "         4.1098013e-03, -3.0548589e-03, -3.1445334e-03, -2.2745661e-03,\n",
              "        -2.1124957e-03, -2.6396061e-05, -3.9357208e-03,  1.0221888e-03,\n",
              "        -1.9863551e-03, -1.1061033e-03,  3.2724179e-03,  5.1558536e-04,\n",
              "         3.1945322e-04,  1.5774044e-03,  2.7272834e-03, -5.4004067e-04,\n",
              "        -7.3115621e-04,  5.5681737e-03,  2.8641038e-03,  1.7286907e-03,\n",
              "        -2.7702148e-03, -1.8482796e-03, -1.2224787e-03, -7.4130250e-04],\n",
              "       dtype=float32),\n",
              " array([-1.9379650e-03,  3.4143960e-03, -1.1333605e-04,  5.7577790e-04,\n",
              "         2.0921808e-03, -1.1444318e-03, -5.3056760e-04,  2.7733610e-03,\n",
              "        -2.6088194e-03, -1.6484180e-03, -1.1410237e-03, -1.1365690e-03,\n",
              "        -1.9777978e-04, -1.5326898e-04,  4.4524726e-03, -6.0115890e-06,\n",
              "         1.1184529e-03,  3.9740631e-04,  2.2697607e-03, -6.8847777e-04,\n",
              "        -5.1185937e-04,  8.0000563e-04,  3.8736279e-04, -9.6877996e-04,\n",
              "        -1.1347048e-04, -1.8382283e-04, -7.6630985e-04, -1.6100887e-03,\n",
              "         2.2431777e-04,  5.9888157e-04,  1.0983283e-03, -2.5841422e-04,\n",
              "        -1.9289710e-03, -1.6029478e-03, -5.1227928e-04,  2.1045045e-03,\n",
              "         2.1800189e-03, -1.5037671e-03, -8.2240772e-04, -1.0769258e-03,\n",
              "         2.5845184e-03,  6.9426035e-04, -6.9828826e-04, -2.1883044e-03,\n",
              "         1.8763701e-04,  2.0475169e-03, -1.7436814e-03, -1.6898330e-03,\n",
              "        -1.4253873e-04, -2.5532460e-03,  9.9624053e-04, -6.1045249e-04,\n",
              "        -1.8551636e-03,  2.0952330e-03, -5.0619245e-05,  2.6928677e-05,\n",
              "         5.1178795e-04,  3.5666351e-04,  7.8432809e-04, -8.3241874e-04,\n",
              "         1.4038906e-04,  2.2737789e-03,  2.6903017e-05, -4.1756014e-04,\n",
              "         9.8515535e-04,  1.7193052e-03,  7.9387188e-04, -1.2086524e-03,\n",
              "        -2.2389693e-03,  6.9193949e-04, -1.6800747e-03,  1.3098864e-04,\n",
              "        -1.0270006e-03,  1.2316615e-03, -2.9327304e-04, -2.9422622e-04,\n",
              "        -9.6730556e-04,  9.7202050e-04, -1.4668625e-03, -3.0309140e-05,\n",
              "        -6.5676548e-04,  1.0298586e-03, -1.0521243e-03,  4.6430601e-04,\n",
              "        -1.3815346e-03, -1.3198155e-04,  2.2090792e-03,  9.3832280e-04,\n",
              "         2.5372785e-03, -2.9775957e-04, -6.6162873e-04, -6.9939700e-04,\n",
              "        -2.3536258e-03,  4.2813306e-04,  1.8210456e-03,  1.1454225e-03,\n",
              "         2.2406601e-03, -1.2311359e-03,  1.7528402e-03, -8.7592378e-04],\n",
              "       dtype=float32),\n",
              " array([-3.10813077e-04,  5.85449510e-04,  6.74798444e-04,  7.90274935e-04,\n",
              "        -9.17964731e-04,  1.50120037e-03,  2.10127002e-03, -1.05090796e-04,\n",
              "        -5.42137772e-04, -1.96454208e-03, -1.51141849e-03,  8.31648416e-04,\n",
              "         2.00508861e-03,  3.62485211e-04,  6.47207116e-06, -4.21247532e-04,\n",
              "         3.00759007e-03, -2.24142088e-04, -1.30440539e-03,  2.08751182e-03,\n",
              "        -1.90043444e-04, -9.39787191e-04,  4.34685091e-04, -8.12917016e-04,\n",
              "         2.89305998e-03, -1.74383982e-03, -9.73652990e-04,  6.15398108e-04,\n",
              "        -1.77381386e-03, -2.47267098e-03, -7.52466847e-04, -2.09408841e-04,\n",
              "         2.10580952e-03,  7.55716756e-04, -2.00218079e-03, -2.06264114e-04,\n",
              "         1.18671183e-03,  4.06462641e-04, -2.83381116e-04, -3.81720532e-03,\n",
              "        -2.24153721e-03, -1.89439699e-04, -2.34093587e-03, -2.30192742e-03,\n",
              "         8.94287296e-05, -1.62356521e-03, -2.06090510e-03,  1.65066274e-03,\n",
              "        -1.60905416e-03,  5.41042064e-05,  3.11973388e-03, -1.12731184e-03,\n",
              "        -8.15987354e-04,  9.84475249e-04,  1.12524118e-04, -2.93902121e-04,\n",
              "        -1.71395938e-03, -8.88438488e-04, -1.03280856e-03,  9.22920066e-04,\n",
              "         1.02152757e-03,  3.38566629e-03, -1.95753900e-03, -1.00459950e-03,\n",
              "        -2.24204897e-03,  6.14750024e-04, -1.80728186e-03,  2.06735660e-03,\n",
              "        -1.28328614e-03, -2.35086540e-03,  2.20781032e-04,  1.09393545e-03,\n",
              "         2.66057741e-05, -1.21231820e-03, -1.01835385e-03, -9.31807794e-04,\n",
              "        -1.32208853e-03, -1.47799001e-04, -7.83411087e-05, -7.41020718e-04,\n",
              "         2.22135009e-03, -2.05994374e-03,  1.14877825e-03,  1.73074508e-03,\n",
              "        -9.83896432e-04,  8.91438976e-04,  1.96445780e-03,  6.20336330e-04,\n",
              "        -3.57547309e-04, -1.14894600e-03,  1.85150467e-03, -3.73001203e-05,\n",
              "        -1.59800565e-03,  9.76927811e-04,  2.45182746e-04,  6.03729335e-04,\n",
              "        -1.65876385e-03, -3.24864886e-05,  1.77919841e-03,  1.73405497e-04],\n",
              "       dtype=float32),\n",
              " array([ 4.0649725e-03,  1.7102815e-03,  1.6067134e-03, -1.6073361e-03,\n",
              "        -1.2051761e-04,  6.8850990e-04,  3.0416357e-03,  2.4024805e-03,\n",
              "        -3.7597674e-03,  2.3064618e-03,  2.2791459e-03,  2.4356614e-03,\n",
              "        -2.2625313e-03,  2.9323186e-04, -1.0899898e-03, -2.2743405e-03,\n",
              "        -4.4375021e-04, -1.7890424e-03, -4.1398657e-03, -4.3780199e-04,\n",
              "         2.1694043e-05, -2.5548707e-03,  1.0962924e-03,  4.9799075e-04,\n",
              "        -1.9036027e-04, -8.8026159e-04, -6.9994561e-04, -2.7771988e-03,\n",
              "         2.3960830e-03, -1.9670415e-04, -1.6016733e-03, -1.4262248e-03,\n",
              "         2.8074314e-03, -1.9449249e-03, -2.7331809e-04, -3.0314422e-03,\n",
              "         1.0329168e-03, -1.1664175e-03,  2.4373813e-03, -9.6383074e-04,\n",
              "         3.4227138e-04,  8.2308735e-04, -1.0374185e-03,  4.4793799e-04,\n",
              "        -1.3891744e-03, -8.1145100e-04,  1.0193083e-03,  2.4813073e-04,\n",
              "         9.2169346e-04,  3.7260476e-04,  2.8293394e-04, -1.1630156e-04,\n",
              "         1.1532477e-03, -9.1892667e-05, -1.5472115e-03, -5.8802660e-04,\n",
              "         1.3772297e-03,  4.1517774e-03, -9.2113449e-04,  1.5145937e-03,\n",
              "         3.2756999e-03, -3.2658181e-03, -1.4311883e-03, -8.7957428e-04,\n",
              "         1.9540519e-03, -2.5684270e-03,  2.1526553e-03,  2.1046239e-03,\n",
              "         6.1656855e-04, -1.4828929e-03,  2.2036650e-03, -9.9643692e-04,\n",
              "         1.7018637e-03, -4.0709894e-04,  2.4535207e-04, -2.0599044e-03,\n",
              "        -2.8300502e-03, -7.0547656e-04,  9.2323479e-04,  1.3474800e-03,\n",
              "         3.9872533e-04, -1.5498008e-04, -1.6823683e-03,  1.8994654e-04,\n",
              "        -2.2548996e-04,  1.7701667e-03,  8.2814012e-04,  2.4627530e-04,\n",
              "        -3.1955045e-04, -4.0102331e-04,  3.9322446e-03,  1.1947543e-03,\n",
              "         1.1262059e-03,  1.3179969e-04, -1.4720748e-03,  1.8956376e-03,\n",
              "        -1.6733420e-03,  1.3650088e-03, -1.8519738e-03, -9.5295033e-04],\n",
              "       dtype=float32),\n",
              " array([ 1.5311789e-03,  6.0457655e-04, -3.7953752e-05,  2.3845483e-03,\n",
              "         2.2840891e-03, -2.2545007e-04, -8.3771469e-05,  7.5553643e-04,\n",
              "        -1.1057823e-03, -3.0609799e-04, -1.1386491e-03, -6.3014997e-04,\n",
              "        -1.7916107e-03, -3.1352913e-04, -1.0967875e-03, -4.1976650e-03,\n",
              "        -1.6426512e-03, -1.0193628e-03, -8.6580322e-04, -2.4246883e-03,\n",
              "         3.3977453e-03,  5.7968555e-04, -9.2377886e-06,  1.2027590e-03,\n",
              "         9.9283829e-04, -6.1297294e-04,  1.4423500e-03, -1.4873044e-05,\n",
              "         4.6061625e-04, -3.6480953e-04, -7.5043557e-05, -5.7005073e-04,\n",
              "         3.9891180e-04,  6.7708934e-05, -6.3996343e-04,  2.3437601e-04,\n",
              "        -7.6592312e-04,  1.2810582e-04, -6.1579485e-04, -2.8265778e-03,\n",
              "         1.7465614e-03, -2.6108194e-03,  1.7215384e-03,  9.6185028e-04,\n",
              "        -1.5176820e-04, -8.0596941e-04, -5.4201589e-04, -4.8400494e-04,\n",
              "         7.1535871e-04,  4.7579085e-04, -6.4901472e-04,  1.6158447e-04,\n",
              "         7.1504922e-04, -1.4223988e-03, -6.8358757e-04, -6.5214001e-04,\n",
              "         4.6025217e-04,  2.0896466e-04, -3.2487442e-04,  6.5098552e-04,\n",
              "         1.0704707e-03,  8.6594251e-04,  8.4206602e-04, -1.9744514e-03,\n",
              "        -1.7043287e-03, -2.0397361e-03, -3.2719082e-04,  1.5610178e-03,\n",
              "        -1.8240614e-03,  1.5550682e-03,  6.8839866e-04,  3.5627245e-04,\n",
              "         1.3316210e-04,  5.0760439e-04,  1.5241033e-03,  3.2651590e-04,\n",
              "         3.4151366e-04, -2.4426103e-04, -3.7809001e-05,  1.0995144e-03,\n",
              "         2.6646460e-04,  3.5785526e-04, -5.9257494e-04, -9.3161128e-04,\n",
              "        -8.6639461e-04,  3.8857234e-04, -7.9202437e-04,  1.3387408e-03,\n",
              "         1.2001569e-03, -2.0187777e-03, -3.6034567e-04, -1.4924651e-03,\n",
              "         8.2852895e-04,  7.0201448e-04, -1.3473026e-03,  1.3143658e-03,\n",
              "         6.2318920e-04, -5.3218415e-04,  5.1292212e-04, -6.2565814e-04],\n",
              "       dtype=float32),\n",
              " array([-2.2488406e-03, -2.1899766e-03,  5.4443872e-04, -3.1896308e-04,\n",
              "        -1.0208548e-03, -4.8522255e-05,  7.2519179e-06,  2.9688973e-03,\n",
              "        -1.3892902e-03, -5.4232206e-04, -8.9080882e-04, -2.5491682e-03,\n",
              "        -1.2703488e-03, -8.3954225e-04,  3.5542002e-04,  6.6842185e-05,\n",
              "        -2.3632902e-03, -3.1549267e-03,  6.2117295e-04, -4.4311443e-03,\n",
              "         1.7348580e-03,  2.4200741e-03,  2.9866921e-04,  2.2672340e-03,\n",
              "         1.8322252e-04,  1.7647311e-04,  2.8478827e-03, -4.1984254e-04,\n",
              "        -1.7110588e-03, -9.0352038e-04,  8.4894680e-04,  1.1734811e-03,\n",
              "         3.7654194e-03, -1.6146572e-03,  1.5645637e-04,  1.8832344e-03,\n",
              "         1.3144789e-03, -5.1559298e-04, -2.3390637e-03,  1.4708920e-03,\n",
              "         4.9958006e-04, -9.9134666e-04, -1.8907557e-04,  2.3157862e-03,\n",
              "         3.3398760e-03, -4.8049306e-04, -2.0532850e-03, -1.3741192e-03,\n",
              "        -1.9490428e-04,  1.6861474e-03, -2.4848264e-03,  1.3354928e-03,\n",
              "        -1.7277418e-03, -2.3613684e-06,  2.5008610e-03, -2.1040260e-03,\n",
              "        -5.0031948e-03, -8.2360778e-04, -3.5382254e-04,  6.5170485e-04,\n",
              "        -1.5714442e-04, -3.6270008e-04,  2.5221156e-03,  3.8102840e-04,\n",
              "        -4.1610138e-03,  6.2190578e-04,  1.2228813e-04,  3.6887173e-04,\n",
              "        -2.0159876e-03,  1.8535184e-03,  4.2195888e-03,  3.9619338e-03,\n",
              "        -1.5519850e-05, -8.3310017e-04,  3.1610385e-03,  1.4984747e-05,\n",
              "         2.1796136e-03, -1.4582844e-03,  6.8570464e-04,  7.6454511e-04,\n",
              "        -1.6368909e-03, -9.6366275e-04, -2.0652863e-03,  2.8289065e-03,\n",
              "        -3.0323130e-03, -2.6834256e-04, -1.7328274e-03,  1.9538673e-03,\n",
              "         3.0302899e-03,  9.7501854e-04,  1.1231172e-03,  1.8986266e-03,\n",
              "         4.0972061e-03,  7.6705322e-04, -1.7852345e-03,  2.1378668e-03,\n",
              "        -1.0344659e-03, -1.9562524e-03,  2.0303652e-03,  1.7596898e-04],\n",
              "       dtype=float32),\n",
              " array([-1.9133089e-03, -4.8367519e-06, -2.1698265e-03, -2.2921477e-04,\n",
              "        -3.3202285e-03, -6.1253493e-04,  3.3279808e-05, -3.5275011e-03,\n",
              "         1.4776167e-03,  1.1203742e-04, -9.9637872e-04, -1.9047747e-03,\n",
              "         6.8337729e-05, -2.0778580e-03,  4.2552961e-04, -9.6212287e-04,\n",
              "        -3.9998023e-04,  2.9702744e-04, -9.3448878e-04,  1.0951526e-04,\n",
              "         1.5638261e-03, -1.8972645e-03,  1.5770083e-03, -9.1082975e-04,\n",
              "        -2.8901051e-03, -4.8727929e-04, -2.0347873e-03, -2.7230266e-03,\n",
              "        -2.1472904e-03,  9.2848047e-04, -1.4232122e-03, -3.0089825e-04,\n",
              "        -1.5600163e-03,  9.6274313e-04, -7.2890613e-04, -1.0692470e-03,\n",
              "        -2.0894076e-04, -3.5343557e-03,  7.0525345e-04, -3.8970064e-04,\n",
              "         9.4086776e-04,  2.2089956e-03,  2.9319883e-03, -1.1273713e-03,\n",
              "         2.8932679e-03, -2.8698714e-03, -1.1180583e-03, -5.8227178e-04,\n",
              "        -1.8210204e-04, -3.8910983e-04, -1.5447746e-03,  2.2444001e-03,\n",
              "        -3.6629419e-05,  8.3690719e-04, -6.0626003e-04, -1.0169082e-03,\n",
              "        -8.2123710e-04,  1.5041312e-03, -1.5338531e-03,  1.9258037e-03,\n",
              "        -2.3135568e-04, -1.3843497e-03, -2.1880320e-03, -1.5908200e-03,\n",
              "        -1.0545284e-03, -1.1226038e-03, -6.7872534e-05, -8.8601862e-04,\n",
              "         1.4593826e-03,  1.9568705e-03, -7.1705837e-04,  3.8280885e-04,\n",
              "         1.0591128e-03,  1.8260119e-03,  1.0403201e-03, -1.3084494e-03,\n",
              "         1.8490679e-03,  2.0914378e-03,  4.4118111e-05,  1.3525181e-03,\n",
              "        -2.8310297e-03, -2.1272388e-03, -4.8096231e-04, -8.0035155e-04,\n",
              "        -8.8347611e-04,  1.5984203e-03, -1.3691218e-03,  1.2423878e-03,\n",
              "         1.6070613e-04,  2.1407925e-04,  1.5125618e-03,  5.9215777e-04,\n",
              "        -1.2688113e-03, -3.9691373e-04, -3.7427202e-05,  1.0513876e-03,\n",
              "         2.5947834e-03, -7.4700598e-04,  1.8452033e-03, -5.7085080e-04],\n",
              "       dtype=float32),\n",
              " array([ 1.31526648e-03, -6.12986798e-04,  1.25156448e-03, -4.44645248e-03,\n",
              "        -1.68850564e-03, -1.57634891e-03,  3.66655970e-03,  1.74030801e-03,\n",
              "         1.36723230e-03, -1.39910728e-04, -2.40593124e-03,  4.02416103e-04,\n",
              "         7.92875013e-04, -1.78460521e-03,  2.25159660e-04, -4.39039786e-06,\n",
              "         3.82145925e-04,  3.02322558e-03,  2.02492205e-03, -3.59666580e-03,\n",
              "        -7.43000128e-04, -9.71752088e-05,  1.22524682e-03, -1.38102472e-03,\n",
              "         2.70478995e-05, -2.39546513e-04, -5.16422559e-03, -2.64612096e-03,\n",
              "        -2.14109244e-03,  9.24334046e-04,  1.71075008e-04,  1.94659585e-03,\n",
              "        -7.38324481e-04, -2.19151960e-03, -2.66404450e-03, -8.68404401e-04,\n",
              "        -3.58109013e-03, -2.76587147e-04, -1.65170780e-03, -2.47416156e-03,\n",
              "         2.49169115e-03, -3.34242382e-03,  2.57138745e-03,  9.16753488e-04,\n",
              "        -2.31982500e-04, -2.28073704e-03,  1.07922708e-03, -7.25690043e-03,\n",
              "         6.72033988e-04, -1.30302843e-03, -7.93626241e-04, -1.05755962e-03,\n",
              "        -1.33010629e-03, -1.61530101e-03,  1.75729685e-03, -2.38492806e-03,\n",
              "         2.25579413e-03,  2.30267923e-03, -2.66498653e-03, -4.70857718e-04,\n",
              "         1.83862157e-03, -1.13616465e-03,  1.56779529e-03,  3.34501907e-04,\n",
              "        -2.26451783e-03,  4.47594421e-03, -1.31580606e-03, -3.39670340e-03,\n",
              "        -8.73396115e-04, -6.94172806e-04, -4.48044296e-03,  1.32929638e-03,\n",
              "         1.25990761e-03, -1.86595868e-03,  2.56016850e-03,  2.50052568e-03,\n",
              "         1.84936856e-04,  5.10149344e-04, -1.24627433e-03,  6.66633132e-04,\n",
              "         9.63423459e-04,  3.15365178e-05, -7.35607638e-04, -1.01533614e-03,\n",
              "         2.64087063e-03, -7.16212206e-04, -3.60671926e-04,  1.94610306e-03,\n",
              "         6.44390413e-04, -3.56519478e-04,  2.09818291e-03, -1.21278405e-04,\n",
              "        -6.63923740e-04, -1.42542413e-03,  1.36071735e-03, -1.24215512e-04,\n",
              "         2.49991938e-03,  3.13671166e-03,  1.99806440e-04, -2.07083789e-03],\n",
              "       dtype=float32),\n",
              " array([-1.3736957e-03,  1.0711616e-03,  9.8281435e-04,  2.7040667e-03,\n",
              "        -5.1675853e-04, -1.5215515e-03,  1.1914498e-03,  1.9759294e-03,\n",
              "        -2.0099711e-03,  2.1146475e-03, -1.6820310e-03, -3.2274635e-04,\n",
              "        -2.3013772e-03,  2.3228789e-03, -2.2749617e-03,  7.7373273e-04,\n",
              "        -3.5122960e-04,  1.5210027e-03,  1.1925449e-04, -2.0231297e-03,\n",
              "         1.7613766e-03,  2.0750668e-03,  1.2171393e-03, -1.6937120e-03,\n",
              "        -6.1591924e-04,  2.1356554e-03, -1.2341442e-03, -2.2096282e-03,\n",
              "         1.7461483e-04,  7.6995551e-05,  1.7140195e-03,  5.6994910e-04,\n",
              "        -5.5712543e-04, -7.3564326e-04, -2.1307473e-03,  2.4425450e-03,\n",
              "        -1.4464982e-05, -1.4554686e-03, -3.0954820e-03, -1.6629153e-03,\n",
              "         1.6795583e-03, -1.4027482e-03, -1.1227783e-03, -1.0631104e-03,\n",
              "         3.8654709e-04,  1.5022259e-03, -1.3182194e-03, -2.0603375e-03,\n",
              "         1.0825467e-03, -1.1785973e-03,  2.1111451e-03, -3.0055561e-03,\n",
              "        -4.7068350e-04,  4.5488268e-04, -8.2265818e-04, -1.7267095e-03,\n",
              "        -9.8110188e-04, -3.8301924e-03, -6.4785825e-05, -2.3466074e-03,\n",
              "        -1.0253035e-03,  4.7043126e-04,  3.4716949e-03, -2.6078752e-04,\n",
              "         1.3277456e-03,  3.1547801e-04, -3.2063556e-04,  2.8078078e-04,\n",
              "        -2.2784201e-03,  1.5384486e-03, -1.9150357e-03,  1.2192904e-03,\n",
              "        -1.6629875e-03, -6.5236789e-04,  8.0898090e-04, -1.0174119e-03,\n",
              "        -1.3017132e-03, -6.9915620e-04,  8.8846695e-04,  1.3142085e-04,\n",
              "         1.2529234e-04, -3.9415318e-07, -2.2049099e-03, -8.9916156e-04,\n",
              "         4.6650189e-04, -1.1781122e-03,  7.1603223e-04, -1.2925623e-03,\n",
              "         6.6925550e-04,  1.2407451e-03, -7.9885626e-04, -4.1511544e-04,\n",
              "         3.4209836e-04, -1.7303966e-03, -2.3912700e-04, -6.7216798e-04,\n",
              "        -6.4985181e-04,  2.6676997e-03,  1.4203542e-06,  1.5084380e-03],\n",
              "       dtype=float32),\n",
              " array([-3.3822879e-03,  1.0173995e-03,  1.2160746e-03,  1.7014303e-03,\n",
              "        -2.2184327e-03,  1.5819245e-03,  1.8015534e-04,  3.0172730e-03,\n",
              "        -2.8240599e-04, -1.2069020e-03, -2.2841997e-03, -2.2818607e-03,\n",
              "         1.4514792e-03,  5.5857137e-04,  8.7198958e-04,  3.1840062e-04,\n",
              "         8.8438275e-05,  1.8615621e-03, -8.5710408e-04,  1.4340649e-04,\n",
              "        -6.5529067e-04, -1.5641549e-03,  1.8964285e-03, -2.2148595e-03,\n",
              "        -2.6932072e-03,  1.9135252e-03, -1.4385829e-03, -3.6485234e-04,\n",
              "        -9.8612357e-04,  1.8221634e-03,  2.4884359e-03, -7.3957496e-04,\n",
              "         2.7800510e-03, -6.9551001e-04,  1.6257744e-03, -1.6506101e-05,\n",
              "         2.2021173e-03,  1.0263681e-03,  2.2577289e-03,  7.2139030e-04,\n",
              "         2.7662979e-03, -1.4792931e-03, -1.8314039e-03,  2.4736251e-03,\n",
              "        -7.9811784e-05,  1.2389404e-03,  2.3141031e-03,  3.3220378e-04,\n",
              "         1.7067175e-03, -3.7619164e-03,  1.7198423e-03, -2.3448840e-03,\n",
              "         6.3480373e-04,  3.9512822e-03, -1.1730185e-03,  3.3609935e-03,\n",
              "         1.1368794e-03, -3.8463110e-04, -5.1092193e-04,  5.3605711e-04,\n",
              "        -1.2533354e-03,  9.5894170e-04,  3.9719002e-04, -1.0933201e-03,\n",
              "         4.4752494e-05, -1.7105577e-03,  2.7470465e-04,  3.2074717e-04,\n",
              "        -1.8552683e-03, -1.1448578e-03, -2.0032411e-03, -8.0855383e-04,\n",
              "         2.5611245e-03,  1.3001218e-03,  3.5832054e-04,  3.7323020e-04,\n",
              "        -1.4583381e-03,  4.5067284e-04, -9.3649171e-04, -5.4649834e-04,\n",
              "        -1.7562243e-03, -1.6502879e-03,  1.9488614e-03, -4.9656816e-04,\n",
              "        -2.5676596e-03, -2.2443039e-03, -1.8614293e-03, -7.9522299e-04,\n",
              "         9.6354680e-04, -6.8054843e-04,  3.1462703e-03,  1.0565111e-03,\n",
              "         4.4509914e-05, -1.9058952e-03,  1.9935656e-03,  2.1259987e-03,\n",
              "         6.6305121e-04, -1.4690229e-03,  9.2113274e-04,  1.5468750e-03],\n",
              "       dtype=float32),\n",
              " array([ 2.4705131e-03,  1.8975906e-03, -2.2369791e-04, -2.2645507e-03,\n",
              "        -1.2895032e-03, -4.5650810e-04, -1.4582974e-03,  1.1285737e-03,\n",
              "         5.9637334e-03, -1.6763360e-04,  2.7372169e-03,  6.4038474e-04,\n",
              "        -5.1652235e-03, -2.0900960e-03, -1.5209720e-03,  1.9568442e-03,\n",
              "         2.3377652e-03, -2.1298344e-03, -4.5404215e-03,  3.1512373e-03,\n",
              "        -2.3893293e-03, -1.7715914e-03, -9.5256034e-04, -2.4046306e-03,\n",
              "         2.3579132e-03, -1.3598576e-03,  1.7910935e-03, -2.4471360e-03,\n",
              "         1.9321323e-03, -4.2705592e-03,  2.2010810e-03,  1.9793962e-03,\n",
              "         8.7608954e-05,  2.3153862e-04,  7.1611925e-04,  1.9526515e-03,\n",
              "        -2.1920546e-03, -1.7942202e-03,  5.6218593e-03, -1.4898924e-03,\n",
              "        -2.2436304e-03,  3.4373093e-03,  3.3431873e-04, -2.1005112e-03,\n",
              "         8.4902643e-04, -1.9168414e-03,  4.0929867e-03,  5.9733883e-04,\n",
              "        -1.8234119e-03, -1.6477188e-03,  1.5139277e-03,  3.6471139e-03,\n",
              "         1.9006844e-03,  3.3690953e-03, -3.0439910e-03,  6.5465742e-03,\n",
              "         4.2540656e-04,  9.8274718e-04,  2.3562626e-03,  1.4006511e-03,\n",
              "        -1.2052713e-03, -1.7751846e-04,  1.1511034e-03, -1.5472248e-04,\n",
              "         1.7194699e-03,  3.0204186e-03, -9.3680993e-04,  1.7967399e-03,\n",
              "        -3.4891958e-03, -8.2560444e-05, -2.5883885e-03,  2.4953056e-03,\n",
              "        -1.9052264e-03,  3.2401254e-04,  1.7976804e-03, -1.6213113e-03,\n",
              "        -8.2834082e-04, -2.8854432e-03, -5.4348412e-04, -3.1881389e-04,\n",
              "         2.5055287e-04,  4.6543577e-03,  3.3651129e-03, -3.3864118e-03,\n",
              "        -3.8271579e-03, -3.9646467e-03, -1.2062599e-03, -1.4487443e-03,\n",
              "        -1.3644585e-03, -2.3556038e-04, -7.1500783e-04, -3.3219699e-03,\n",
              "        -2.7356821e-03,  1.5366931e-03, -3.6972956e-04, -5.6905003e-04,\n",
              "         7.8942551e-04, -6.8222842e-04, -1.7329475e-03, -1.0505834e-03],\n",
              "       dtype=float32),\n",
              " array([ 2.38202396e-03,  2.86615593e-03,  1.69716158e-03,  2.51524989e-03,\n",
              "        -9.31587478e-04,  3.66566295e-04, -1.09917775e-03,  8.80056003e-04,\n",
              "         1.37436809e-03, -1.45126798e-03,  2.39197887e-03, -1.17771327e-03,\n",
              "        -1.50635606e-03, -1.07979984e-03, -3.30573088e-03, -2.13935529e-03,\n",
              "         1.36456406e-03, -1.42693403e-03, -5.77226339e-04, -3.98990093e-03,\n",
              "        -3.03033786e-03, -7.36126269e-04, -6.80653538e-05, -4.07533313e-04,\n",
              "        -2.72073387e-03, -7.16592418e-04, -1.71281211e-03, -1.09499437e-03,\n",
              "        -3.72332346e-04,  9.83305159e-04, -3.94346239e-03, -1.42115168e-03,\n",
              "         9.26870853e-04, -3.76990938e-04, -1.85818516e-03, -1.10245812e-04,\n",
              "        -4.93929081e-04,  6.22747582e-04,  2.46015075e-03, -2.27356283e-03,\n",
              "        -1.43510930e-03, -2.90930388e-03,  1.17038516e-03,  1.10453600e-03,\n",
              "        -1.12835485e-04,  2.20909296e-03,  9.09982482e-04, -1.10025587e-03,\n",
              "         3.23744491e-04,  3.23052448e-03,  4.04763618e-04, -1.61775819e-03,\n",
              "        -1.45885337e-03, -3.66422668e-04, -1.15925784e-03, -2.58381071e-04,\n",
              "         8.55645165e-04, -2.48525036e-03, -1.66619022e-03, -1.87145476e-03,\n",
              "        -1.99723965e-03,  2.06786644e-04,  1.26236142e-03, -1.89490907e-03,\n",
              "        -2.84378720e-03, -4.72059939e-04,  3.12152522e-04,  1.59151747e-03,\n",
              "         1.39726762e-04, -4.55926842e-04, -3.59963905e-03, -1.32349029e-03,\n",
              "         1.10188604e-03, -9.32333292e-04,  2.19850894e-03, -1.33721763e-03,\n",
              "        -2.30054278e-03, -1.84303179e-04,  8.65964510e-04, -1.18576491e-03,\n",
              "        -1.04322738e-03,  2.30956124e-03, -1.95216504e-03, -2.13729858e-04,\n",
              "         1.87783421e-03,  1.00519648e-03, -1.29248234e-04,  5.03835501e-04,\n",
              "         2.08593928e-03,  2.30555706e-05,  3.50213813e-04, -1.45627616e-03,\n",
              "         1.11419312e-03, -5.85909875e-04,  2.22195522e-03, -7.23530480e-04,\n",
              "         4.09901433e-04, -7.94175721e-04, -1.51381094e-03, -8.29121622e-04],\n",
              "       dtype=float32),\n",
              " array([-4.4441833e-03,  1.2997293e-03, -3.6670254e-03,  3.9436454e-03,\n",
              "         2.0542024e-03, -2.3228195e-03,  1.2739469e-05,  3.6920240e-04,\n",
              "        -6.1275161e-05,  4.7425769e-04,  2.1260236e-03,  1.0757219e-03,\n",
              "        -2.7475026e-03,  9.8309794e-04, -1.4546711e-03,  3.6803123e-03,\n",
              "        -2.4280944e-03, -6.0350465e-04,  1.8950722e-03, -4.0527312e-03,\n",
              "        -1.4076264e-03,  1.5768062e-03,  3.4065167e-03, -5.5189059e-05,\n",
              "         1.9611747e-03,  5.6374457e-04, -1.9368238e-03,  3.9725080e-03,\n",
              "        -4.7307153e-04, -2.3248880e-03,  3.3349539e-03, -1.6385599e-03,\n",
              "         2.3521767e-03,  2.5864930e-03, -1.9222196e-03,  2.2149924e-03,\n",
              "         1.6226608e-03,  1.0703985e-03,  1.9949339e-03,  2.8482215e-03,\n",
              "         4.6127601e-04, -7.1435695e-04, -9.1443193e-04, -1.8726280e-03,\n",
              "         1.0700810e-03, -1.4670138e-05, -3.8731928e-04,  1.9092411e-04,\n",
              "         1.8179275e-03,  2.0552159e-03,  2.6868482e-03,  1.3895261e-03,\n",
              "         1.8296645e-03,  1.0336941e-03,  6.3211023e-04, -1.4688884e-03,\n",
              "         1.8892412e-03, -2.2008026e-03,  2.3361701e-03, -1.4246891e-04,\n",
              "        -1.3844656e-03,  2.9074415e-04,  2.9993607e-03,  1.3135609e-04,\n",
              "         1.8670759e-04, -1.0174044e-03, -2.4366262e-04,  8.0973824e-04,\n",
              "        -1.2545509e-03,  2.7836715e-03, -4.3405062e-03,  1.5478547e-03,\n",
              "        -1.6521442e-03, -1.4569754e-03,  2.0833783e-04, -2.3234326e-03,\n",
              "         3.7195865e-04, -2.7150760e-04,  8.6964725e-04, -1.2900386e-03,\n",
              "        -9.6757559e-04, -2.3635712e-03, -2.1226220e-03,  4.8402292e-03,\n",
              "        -4.9999682e-05, -2.1849109e-03, -1.9661379e-03, -1.0606376e-03,\n",
              "         4.2077067e-04,  1.6545800e-03, -2.0746742e-03,  2.8971462e-03,\n",
              "         5.5494671e-05,  4.8321113e-04,  3.6249987e-03, -2.3378998e-03,\n",
              "         7.7117066e-04,  4.4356366e-03,  1.8354378e-03,  4.9836282e-04],\n",
              "       dtype=float32),\n",
              " array([-2.9746242e-04, -6.0786947e-04, -3.4118204e-03,  2.0535241e-03,\n",
              "         2.2434273e-03,  6.4607692e-04, -9.2475944e-05,  2.3295251e-03,\n",
              "        -1.3696123e-04, -2.8091699e-03, -4.7601320e-04,  2.9027814e-04,\n",
              "        -1.6707424e-03, -9.1316469e-04,  8.8980637e-04,  2.0377232e-04,\n",
              "         2.0164121e-03, -4.8803315e-03,  1.9635311e-03, -2.4163448e-03,\n",
              "        -1.3723682e-03,  1.3614314e-04, -4.8625743e-04,  1.8821962e-05,\n",
              "         1.2456781e-03,  7.7823934e-06, -5.1509979e-04,  5.0938322e-04,\n",
              "        -1.4888929e-03,  1.1051559e-03,  1.9402594e-03, -1.1098369e-03,\n",
              "         1.6359092e-03, -6.9917290e-04,  1.8469930e-04,  5.7190127e-04,\n",
              "        -2.5759747e-03,  7.7377318e-04, -1.7504874e-05, -1.2120263e-03,\n",
              "         1.0456886e-03, -1.2805245e-03, -7.5708487e-04,  1.2490052e-03,\n",
              "         5.8915454e-04, -2.2136173e-03, -1.3201080e-03, -9.3975960e-04,\n",
              "         1.9499370e-03,  2.5110724e-03, -6.8181573e-04,  2.0131308e-03,\n",
              "         1.3992756e-03, -5.1850511e-04,  2.9389164e-03, -6.0984812e-04,\n",
              "        -8.4409490e-04,  1.5565032e-03,  1.6058290e-04,  9.4229961e-04,\n",
              "        -5.7805999e-04, -4.3083847e-04,  7.4366957e-04, -1.9219743e-04,\n",
              "        -2.2019332e-03,  1.3081740e-04,  5.6786311e-04,  1.2649627e-03,\n",
              "        -5.8456493e-04,  1.0120448e-03, -6.7171706e-05,  2.9193810e-03,\n",
              "         3.4255066e-03,  1.2483275e-04,  2.1633848e-03, -8.8836730e-04,\n",
              "         3.1692702e-03,  3.0318066e-03,  2.9746951e-03, -1.6604153e-03,\n",
              "        -1.8192712e-03, -1.8088879e-03, -5.1620428e-04,  6.2483328e-04,\n",
              "         2.9233997e-03, -1.9551348e-03,  1.0313868e-03,  1.1305226e-04,\n",
              "         1.5196424e-03,  5.5842788e-04, -4.1035470e-05,  1.5899797e-03,\n",
              "         3.2797430e-03,  3.0405235e-03,  1.5297529e-03, -7.6008617e-04,\n",
              "        -2.2271718e-03,  2.8315377e-03,  3.0753093e-03,  2.5314188e-03],\n",
              "       dtype=float32),\n",
              " array([-1.6572818e-03,  4.6903943e-04,  2.0917847e-04, -3.5934467e-05,\n",
              "         4.6818264e-04, -8.7595655e-04, -1.5555123e-03,  1.2518474e-03,\n",
              "         7.8322418e-04, -7.2504510e-04,  2.8938523e-03,  3.0645728e-04,\n",
              "         4.1706651e-04, -1.7240664e-03,  1.0983690e-03,  1.0042631e-03,\n",
              "         5.8993412e-04, -2.6697810e-03, -1.0752600e-03, -1.0913647e-03,\n",
              "        -1.8918873e-03,  1.9838664e-04, -8.4575277e-04, -1.0614489e-03,\n",
              "        -1.2061574e-03,  1.3759083e-03, -8.3406433e-04, -8.7149261e-04,\n",
              "         5.3249684e-04,  7.3735637e-04, -4.0834246e-04,  1.6181775e-03,\n",
              "         1.2803642e-05,  8.9245616e-04, -6.0391880e-04,  4.5735837e-04,\n",
              "        -5.5571733e-04,  5.0168921e-04, -6.3409250e-05,  3.0685682e-04,\n",
              "        -1.0271131e-04, -2.8787768e-03, -5.8414153e-04, -4.2581503e-04,\n",
              "         6.9377845e-04, -1.1500388e-03,  4.1052859e-04, -7.9935457e-04,\n",
              "         2.2836757e-04,  1.0533119e-03,  1.0888884e-03,  2.7227803e-04,\n",
              "         5.9184729e-04, -4.0972020e-04,  4.3898090e-04, -7.4456906e-04,\n",
              "         2.3626531e-03, -2.7463661e-04,  1.3377651e-05,  1.7173596e-03,\n",
              "        -2.1498469e-03,  2.8129912e-04, -3.2927530e-04, -2.9853458e-04,\n",
              "        -6.9084467e-04,  7.1371644e-05,  6.3635717e-04,  2.4767620e-03,\n",
              "        -4.1953221e-04,  1.3425029e-03,  1.0037527e-03,  4.3593530e-04,\n",
              "         6.2093786e-05, -7.8959041e-04,  1.0237974e-03,  1.0042512e-03,\n",
              "         1.2048198e-03, -7.2917616e-04, -6.8567513e-04,  4.8121487e-04,\n",
              "         3.7974617e-04, -6.5667008e-04, -2.3210242e-04,  9.3068153e-04,\n",
              "         3.4472073e-04,  1.3342731e-03, -1.0217180e-03,  1.4289094e-03,\n",
              "         1.3441714e-03,  1.0320611e-03, -4.2474057e-04,  7.8585744e-04,\n",
              "        -1.0197993e-03,  2.0130191e-03,  1.3255497e-03,  2.1614353e-03,\n",
              "        -3.3394605e-04, -4.3385776e-04, -8.1574131e-04, -6.2260748e-05],\n",
              "       dtype=float32),\n",
              " array([-1.77375681e-03,  2.25725831e-04, -1.63626770e-04, -9.06214234e-04,\n",
              "        -7.00361270e-04, -8.24027404e-04, -4.02291073e-04,  2.07875899e-04,\n",
              "        -1.57590013e-03, -1.31548580e-03,  1.59333216e-03, -3.50784208e-03,\n",
              "         1.01596210e-03,  5.57740685e-04, -5.59641812e-05, -9.01836436e-04,\n",
              "        -8.83218454e-05,  7.46677862e-04, -9.20202350e-04, -1.28102931e-03,\n",
              "        -6.43335865e-04,  8.22815055e-05,  8.03321775e-04,  2.89912598e-04,\n",
              "         9.23926069e-04,  5.10496939e-05, -8.03764386e-04, -5.94474142e-04,\n",
              "         3.80715705e-04, -1.77559059e-03, -3.76007112e-04, -1.01036334e-04,\n",
              "         2.15155212e-03,  6.07795664e-04,  3.45458480e-04, -9.39757680e-04,\n",
              "         7.93705185e-05, -1.57987815e-03, -2.28241901e-03, -8.66324466e-04,\n",
              "         7.76878907e-04,  1.12743082e-03,  4.34940186e-04,  1.36893580e-03,\n",
              "         3.32104042e-04, -1.54704647e-03, -3.14451288e-03,  1.08495320e-03,\n",
              "        -2.06288634e-04, -1.10352696e-04,  7.57799949e-04, -2.58488534e-03,\n",
              "         6.97661075e-04, -1.12473418e-03,  6.12729287e-04,  1.06286956e-03,\n",
              "         1.09646912e-03, -5.96351980e-04,  1.17503572e-03,  1.90667197e-04,\n",
              "         3.68707901e-04, -2.86150514e-03, -2.04306169e-04, -2.69888261e-07,\n",
              "        -3.69821582e-03,  1.38111890e-03, -5.20987902e-04,  6.73058035e-04,\n",
              "        -9.67884785e-04, -7.13565678e-04, -1.03043276e-03,  3.10237898e-04,\n",
              "         2.51866807e-03,  7.85095617e-05,  4.14458307e-04,  2.99397693e-03,\n",
              "         2.60895654e-03, -1.03931106e-03, -2.88128597e-03,  1.25620735e-03,\n",
              "        -1.22915814e-03,  1.97398957e-04, -1.42549549e-03,  7.33456109e-04,\n",
              "         1.48969732e-04,  1.66485843e-03, -8.71422293e-04, -5.03025716e-04,\n",
              "         5.47240343e-05,  1.59032422e-03,  3.48207628e-04,  6.73121132e-04,\n",
              "        -7.21031334e-04, -4.37524694e-04,  2.84409523e-03,  1.28182885e-03,\n",
              "         1.00544258e-03,  7.63992080e-04,  9.41693783e-04, -5.84726338e-04],\n",
              "       dtype=float32),\n",
              " array([ 5.4940075e-04, -3.5923548e-04, -1.3076320e-03, -1.6631434e-03,\n",
              "        -1.6146322e-03, -1.5173827e-03,  2.0579637e-03, -6.5978779e-04,\n",
              "        -1.2296508e-03,  8.0167333e-04, -1.9534682e-03,  2.7042378e-03,\n",
              "        -1.9542461e-03, -1.9937616e-03, -4.6146783e-04, -2.7114823e-03,\n",
              "         5.3058250e-04, -2.3785138e-03,  5.1039527e-04, -2.9290509e-03,\n",
              "         2.2939353e-03,  6.3245930e-04,  3.0309672e-03,  3.7486741e-04,\n",
              "        -3.2370703e-03, -9.9441712e-04, -6.8634283e-04, -1.6415669e-04,\n",
              "        -1.9040267e-03,  2.6686892e-03,  1.7610042e-03,  3.4343188e-03,\n",
              "        -7.8733650e-04, -2.5555320e-04,  1.1772898e-03,  3.8963729e-03,\n",
              "         2.2888619e-04,  4.4362215e-04, -1.5640572e-03, -1.1098197e-03,\n",
              "        -1.1236112e-03, -1.5712476e-03,  3.1840533e-04,  1.4028101e-03,\n",
              "        -1.1604875e-03, -6.1959712e-05,  2.3221242e-04,  5.4807647e-04,\n",
              "        -4.1122866e-04,  4.5501467e-04, -5.7992834e-04, -2.5416529e-04,\n",
              "        -1.0660222e-03,  2.3494180e-05, -3.7634533e-03,  1.8574729e-03,\n",
              "         4.7374717e-05, -2.6645190e-03, -1.1725042e-03, -1.5734321e-03,\n",
              "         4.6490633e-04,  1.2379816e-03, -6.9205667e-04,  6.9217163e-04,\n",
              "        -1.2184874e-03, -3.0963635e-04,  7.6667247e-06,  1.0112101e-03,\n",
              "        -1.5861703e-03,  1.4584533e-04, -8.8345283e-04,  2.2765900e-05,\n",
              "         5.0377316e-04,  1.3592523e-03, -1.9923011e-03,  2.4249379e-03,\n",
              "         2.0049126e-03, -8.0746046e-04, -2.0066411e-03,  6.1928399e-04,\n",
              "        -8.5423514e-04, -1.0528312e-03,  2.1938139e-03, -5.4469967e-04,\n",
              "        -1.0361277e-03, -2.4260248e-03, -1.5114641e-03,  3.1262054e-03,\n",
              "        -2.4156431e-03, -2.8482778e-03,  3.8891509e-03,  2.7318248e-03,\n",
              "         1.0658577e-03, -9.8664001e-05,  2.1969373e-03, -3.3946289e-04,\n",
              "         1.3725224e-03,  1.6935011e-04, -1.0839492e-03, -1.1862944e-03],\n",
              "       dtype=float32),\n",
              " array([-1.6493568e-03, -2.1696491e-03,  2.4662833e-03,  3.7383868e-03,\n",
              "         4.1833767e-04, -4.6542846e-04,  3.6183823e-04,  3.5830068e-03,\n",
              "         1.1330826e-03, -1.2973686e-03, -3.4478819e-03, -5.6656660e-05,\n",
              "         1.7192345e-03, -1.8552439e-03, -1.0577929e-03,  1.4377366e-04,\n",
              "         9.7029406e-04,  2.3614338e-03,  2.1488657e-03,  2.3534863e-04,\n",
              "        -4.0539014e-03, -1.3117866e-03,  1.4633894e-03, -1.4859409e-03,\n",
              "         3.7515501e-03, -6.6292268e-04, -5.7173247e-04,  8.8785094e-04,\n",
              "        -7.8872888e-04,  1.3956489e-03,  3.8632232e-05,  1.1404768e-03,\n",
              "         2.5653697e-03,  2.2645413e-03, -3.0508460e-03,  9.9048158e-04,\n",
              "        -8.0446823e-04, -2.3561674e-03, -4.1360143e-03, -1.3393295e-03,\n",
              "         1.6657220e-03, -2.1067958e-03, -8.8211667e-04, -7.7625191e-05,\n",
              "         4.2876038e-03, -2.9135120e-04,  1.6122627e-03, -3.9728107e-03,\n",
              "        -5.3958548e-04,  1.2259401e-03, -5.3195906e-04,  5.2627951e-05,\n",
              "         1.1086543e-03,  1.8033148e-03, -4.4054911e-04,  2.3158693e-03,\n",
              "        -2.9537976e-03,  6.8588136e-04, -9.9138857e-04, -3.2830350e-03,\n",
              "        -7.4734382e-04,  3.6357913e-05,  1.4235344e-03,  1.5910297e-04,\n",
              "        -1.4359587e-03, -1.0188323e-03,  2.7050169e-03, -6.2400155e-04,\n",
              "        -1.4136099e-04, -1.7217490e-04,  2.3870582e-03,  2.2641195e-03,\n",
              "        -2.7702865e-04, -3.1400681e-04,  2.4988160e-03,  8.7655085e-04,\n",
              "         3.8528905e-04, -1.6439790e-03, -1.0538428e-03, -1.2496093e-03,\n",
              "         1.5976758e-03, -5.0735899e-04, -1.6922989e-03,  2.3988553e-03,\n",
              "        -1.9200993e-03, -9.3405932e-04, -9.3827891e-04,  2.4357128e-04,\n",
              "        -4.2623456e-04,  4.6464775e-04,  2.6686201e-03,  2.0177946e-03,\n",
              "        -2.0802302e-04, -2.1189789e-04, -1.7084996e-05,  2.3137846e-03,\n",
              "         1.1452128e-03,  1.6515328e-03, -2.9535510e-03, -1.6777241e-03],\n",
              "       dtype=float32)]"
            ]
          },
          "metadata": {},
          "execution_count": 9
        }
      ]
    },
    {
      "cell_type": "code",
      "source": [],
      "metadata": {
        "id": "u-RxlfTqtPnV"
      },
      "execution_count": 9,
      "outputs": []
    },
    {
      "cell_type": "markdown",
      "source": [
        "4. Rank Sentences Based on Keywords and Similarity\n",
        "- We rank sentences by their relevance to the extracted keywords and the similarity of their embeddings to one another."
      ],
      "metadata": {
        "id": "PLokYam9xFFt"
      }
    },
    {
      "cell_type": "code",
      "source": [
        "from sklearn.metrics.pairwise import cosine_similarity\n",
        "import numpy as np\n",
        "\n",
        "def rank_sentences(sentences, keywords, sentence_embeddings):\n",
        "    # Rank based on keyword occurrence\n",
        "    keyword_sentences = [(sentence, sum(sentence.count(keyword[0]) for keyword in keywords)) for sentence in sentences]\n",
        "\n",
        "    # Rank based on similarity (optional, more for extractive purposes)\n",
        "    if sentence_embeddings:\n",
        "        similarity_matrix = cosine_similarity(sentence_embeddings)\n",
        "        similarity_scores = similarity_matrix.sum(axis=1)\n",
        "        combined_ranking = [(sentence, keyword_score + similarity_score) for (sentence, keyword_score), similarity_score in zip(keyword_sentences, similarity_scores)]\n",
        "    else:\n",
        "        combined_ranking = keyword_sentences\n",
        "\n",
        "    # Sort sentences by combined score\n",
        "    ranked_sentences = sorted(combined_ranking, key=lambda x: x[1], reverse=True)\n",
        "\n",
        "    return ranked_sentences\n",
        "\n"
      ],
      "metadata": {
        "id": "pxPN0k7atPiZ"
      },
      "execution_count": 10,
      "outputs": []
    },
    {
      "cell_type": "code",
      "source": [
        "ranked_sentences = rank_sentences(preprocessed_text, keywords, sentence_embeddings)\n",
        "ranked_sentences"
      ],
      "metadata": {
        "colab": {
          "base_uri": "https://localhost:8080/"
        },
        "id": "brJSVEQktPfB",
        "outputId": "2cfb4e0f-9ef2-4691-ed7a-f99ea950c93a"
      },
      "execution_count": 11,
      "outputs": [
        {
          "output_type": "execute_result",
          "data": {
            "text/plain": [
              "[('1887 french mathematician henri poincaré showed newton ’ theory gravity could perfectly predict two planetary bodies would orbit mutual attraction adding third body mix rendered equations unsolvable',\n",
              "  9.23914623260498),\n",
              " ('created mathematical model supplied set numbers representing current weather could predict weather minutes advance',\n",
              "  7.527207374572754),\n",
              " ('lorenz utilising new-found power computers attempt accurately predict weather',\n",
              "  6.4801695346832275),\n",
              " ('case weather prediction horizon nowadays one week thanks ever-improving measuring instruments models',\n",
              "  6.367793560028076),\n",
              " ('computer program running lorenz could produce long-term forecasts feeding predicted weather back computer run forecasting future.accurate minute-by-minute forecasts added days weeks',\n",
              "  6.196478843688965),\n",
              " ('two weeks believed limit could ever achieve however much better computers software get',\n",
              "  6.0695788860321045),\n",
              " ('meant tiny errors measurement current weather would stay tiny relentlessly increased size time fed back computer completely swamped predictions',\n",
              "  5.471256732940674),\n",
              " ('one day lorenz decided rerun one forecasts', 5.428025722503662),\n",
              " ('starting weather conditions virtually identical', 5.008862733840942),\n",
              " ('best three bodies predict movements moment moment feed predictions back equations … though dance planets lengthy prediction horizon effects chaos ignored intricate interplay gravitation tugs among planets large influence trajectories asteroids',\n",
              "  4.7690863609313965),\n",
              " ('case lorenz ’ equations causing errors steadily grow time',\n",
              "  4.722980499267578),\n",
              " ('interests saving time decided start scratch instead took computer ’ prediction halfway first run used starting point',\n",
              "  4.599942684173584),\n",
              " ('although computer ’ new predictions started two sets predictions soon began diverging drastically',\n",
              "  4.498040199279785),\n",
              " ('first chaotic system discovered long chaos theory', 4.46635365486145),\n",
              " ('matter consistent first shot break smallest differences speed angle strike white ball cause pack billiards scatter wildly different directions every time',\n",
              "  4.452732801437378),\n",
              " ('systems behave nicely without chaotic effects small differences produce small effects',\n",
              "  4.442891359329224),\n",
              " ('smallest differences producing large effects hallmark chaotic system',\n",
              "  4.277419090270996),\n",
              " ('keeping eye asteroids difficult worthwhile since chaotic effects may one day fling unwelcome surprise way',\n",
              "  4.195662498474121),\n",
              " ('difference one part thousand sort difference flap butterfly ’ wing might make breeze face',\n",
              "  3.5750999450683594),\n",
              " ('lorenz found seeds chaos', 3.4611141681671143),\n",
              " ('rate tiny differences stack provides chaotic system prediction horizon length time beyond longer accurately forecast behaviour',\n",
              "  3.079813003540039),\n",
              " ('first glance appears random behaviour completely deterministic seems random imperceptible changes making difference',\n",
              "  3.011192560195923),\n",
              " ('lorenz famously illustrated effect analogy butterfly flapping wings thereby causing formation hurricane half world away',\n",
              "  2.6307088136672974),\n",
              " ('flip side also divert external surprises steering comets away potential collision earth',\n",
              "  2.596940040588379),\n",
              " ('lorenz started second run number 0.506 original run used number 0.506127',\n",
              "  2.135995388031006),\n",
              " ('two predictions anything', 2.084109306335449),\n",
              " ('surprisingly solar system chaotic system prediction horizon hundred million years',\n",
              "  2.0755367279052734),\n",
              " ('well-earned coffee break returned discover something unexpected',\n",
              "  1.763897955417633),\n",
              " ('1961 meteorologist name edward lorenz made profound discovery',\n",
              "  1.5349479913711548),\n",
              " ('worth noting laws physics determine billiard balls move precise unambiguous allow room randomness',\n",
              "  1.2191485166549683),\n",
              " ('gone wrong', 1.0588966608047485),\n",
              " ('nice way see “ butterfly effect ” game pool billiards', 0.9880290031433105),\n",
              " ('lorenz soon realised computer printing predictions three decimal places actually crunching numbers internally using six decimal places',\n",
              "  0.7536181211471558),\n",
              " ('50 years ago 18 hours', -0.6785022616386414)]"
            ]
          },
          "metadata": {},
          "execution_count": 11
        }
      ]
    },
    {
      "cell_type": "code",
      "source": [],
      "metadata": {
        "id": "sZKq04XvtPX-"
      },
      "execution_count": 11,
      "outputs": []
    },
    {
      "cell_type": "markdown",
      "source": [
        "5. Generate Abstractive Summary\n",
        "- Finally, we can create an abstractive summary by paraphrasing and rephrasing the top-ranked sentences."
      ],
      "metadata": {
        "id": "8YqqI3MGyQQs"
      }
    },
    {
      "cell_type": "code",
      "source": [
        "import random\n",
        "\n",
        "def paraphrase_sentence(sentence):\n",
        "    words = word_tokenize(sentence)\n",
        "    random.shuffle(words)\n",
        "    paraphrased_sentence = ' '.join(words)\n",
        "    return paraphrased_sentence\n",
        "\n",
        "def generate_abstractive_summary(ranked_sentences, num_sentences=3):\n",
        "    top_sentences = [sentence[0] for sentence in ranked_sentences[:num_sentences]]\n",
        "    paraphrased_sentences = [paraphrase_sentence(sentence) for sentence in top_sentences]\n",
        "    summary = ' '.join(paraphrased_sentences)\n",
        "    return summary\n"
      ],
      "metadata": {
        "id": "DCDepHm5tPHW"
      },
      "execution_count": 12,
      "outputs": []
    },
    {
      "cell_type": "code",
      "source": [
        "summary = generate_abstractive_summary(ranked_sentences)\n",
        "summary"
      ],
      "metadata": {
        "colab": {
          "base_uri": "https://localhost:8080/",
          "height": 103
        },
        "id": "Fptka3xNylgp",
        "outputId": "ae0e78da-a913-436c-85ab-db591a6c8e79"
      },
      "execution_count": 13,
      "outputs": [
        {
          "output_type": "execute_result",
          "data": {
            "text/plain": [
              "'bodies french third planetary poincaré theory newton henri equations 1887 mix unsolvable predict adding body mathematician mutual gravity orbit would perfectly rendered two attraction ’ could showed current numbers model created set mathematical predict weather representing advance supplied could minutes weather weather new-found computers lorenz accurately attempt power utilising predict'"
            ],
            "application/vnd.google.colaboratory.intrinsic+json": {
              "type": "string"
            }
          },
          "metadata": {},
          "execution_count": 13
        }
      ]
    },
    {
      "cell_type": "code",
      "source": [
        "\"\"\"\n",
        "Summary=\n",
        "        equations adding predict would bodies mathematician unsolvable perfectly theory attraction orbit 1887 henri mutual rendered planetary two\n",
        "        french body gravity mix newton could poincaré third ’ showed supplied minutes representing predict set created model numbers mathematical\n",
        "        weather weather current could advance lorenz attempt accurately weather utilising predict power computers new-found\n",
        "\"\"\""
      ],
      "metadata": {
        "colab": {
          "base_uri": "https://localhost:8080/",
          "height": 103
        },
        "id": "BSfZqYZf0IYu",
        "outputId": "043c975e-f47d-4d1d-d4db-04cc84ce6c37"
      },
      "execution_count": 14,
      "outputs": [
        {
          "output_type": "execute_result",
          "data": {
            "text/plain": [
              "'\\nSummary=\\n        equations adding predict would bodies mathematician unsolvable perfectly theory attraction orbit 1887 henri mutual rendered planetary two \\n        french body gravity mix newton could poincaré third ’ showed supplied minutes representing predict set created model numbers mathematical \\n        weather weather current could advance lorenz attempt accurately weather utilising predict power computers new-found\\n'"
            ],
            "application/vnd.google.colaboratory.intrinsic+json": {
              "type": "string"
            }
          },
          "metadata": {},
          "execution_count": 14
        }
      ]
    },
    {
      "cell_type": "markdown",
      "source": [
        "The generated summary is not a good summary of the input text (as expected).\n",
        "\n",
        "- What the summary is focusing on:\n",
        "> - The summary primarily highlights the concept of chaos theory and its impact on weather prediction.\n",
        "> - It mentions Edward Lorenz's work with computer models and the butterfly effect.\n",
        "> - It also briefly touches upon the solar system as a chaotic system.\n",
        "\n",
        "* What the summary is missing:\n",
        "> - The detailed explanation of Lorenz's experiment:\n",
        "  > > * The text provides a step-by-step account of how Lorenz discovered chaos, including the specific details of his computer model, the rounding error, and the resulting divergence in predictions.\n",
        "  > > *This is crucial to understanding the core concept of chaos theory.\n",
        "> - The connection between chaos and determinism:\n",
        "  > > * The text emphasizes that chaotic systems, while seemingly random, are actually governed by deterministic laws.\n",
        "    > > * The summary completely omits this important point.\n",
        "> - The prediction horizon and its implications:\n",
        "  > > * The text explains the concept of the prediction horizon and its relevance to weather forecasting and the solar system.\n",
        "  > > * The summary mentions the prediction horizon in relation to the solar system but fails to connect it to the broader theme of chaos theory's limitations on predictability.\n",
        "> - The role of chaos in the solar system and asteroid trajectories:\n",
        "  > > * The text discusses how chaos affects the solar system, particularly the movement of asteroids.\n",
        "  > > * The summary briefly mentions the solar system as chaotic but neglects the specific implications for asteroids and potential collisions with Earth.\n",
        "\n",
        "- What it lacks:\n",
        "> - Clarity and coherence:\n",
        "  > > * The summary feels disjointed and lacks a clear flow of ideas.\n",
        "  > > * The sentences are poorly connected, making it difficult to follow the overall narrative.\n",
        "> - Comprehensiveness:\n",
        "  > > * The summary fails to capture the full scope of the text, omitting key concepts and examples that are crucial for understanding chaos theory.\n",
        "> - Accuracy:\n",
        "  > > * The summary oversimplifies some aspects of chaos theory, potentially leading to misunderstandings.\n",
        "\n",
        "In essence, the summary provides a very superficial overview of chaos theory, focusing mainly on its impact on weather prediction. It misses out on the rich details, explanations, and connections that make the original text informative and engaging."
      ],
      "metadata": {
        "id": "cHehu9_t1FA-"
      }
    },
    {
      "cell_type": "code",
      "source": [],
      "metadata": {
        "id": "6QpDGIH-zC3C"
      },
      "execution_count": 14,
      "outputs": []
    },
    {
      "cell_type": "markdown",
      "source": [
        "Lets incooporate some Evaluation:\n",
        "\n",
        "To evaluate the quality of the summaries generated by our extractive summarization algorithm, we can use several evaluation metrics. The most widely used evaluation metric for summarization tasks is ROUGE (Recall-Oriented Understudy for Gisting Evaluation). Other evaluation metrics include BLEU (Bilingual Evaluation Understudy) and METEOR (Metric for Evaluation of Translation with Explicit ORdering).\n",
        "\n",
        "Evaluation Metrics for Summarization\n",
        "- ROUGE (Recall-Oriented Understudy for Gisting Evaluation):\n",
        "    * ROUGE-1: Measures the overlap of unigrams (single words) between the generated summary and a reference summary.\n",
        "    * ROUGE-2: Measures the overlap of bigrams (two consecutive words).\n",
        "    * ROUGE-L: Measures the longest common subsequence (LCS) between the generated and reference summaries, capturing the in-sequence overlap.\n",
        "- BLEU (Bilingual Evaluation Understudy):\n",
        "    * Primarily used for machine translation but can be adapted for summarization.\n",
        "    * Measures n-gram precision of a generated text concerning one or more reference texts.\n",
        "- METEOR (Metric for Evaluation of Translation with Explicit ORdering):\n",
        "    * Designed to improve BLEU by addressing problems like synonymy and stemming.\n",
        "    * It considers unigram matches between generated and reference summaries, applying stemming and synonymy matching.\n"
      ],
      "metadata": {
        "id": "aECv-5mOzDPL"
      }
    },
    {
      "cell_type": "code",
      "source": [
        "!pip install rouge-score\n",
        "\n",
        "from rouge_score import rouge_scorer"
      ],
      "metadata": {
        "colab": {
          "base_uri": "https://localhost:8080/"
        },
        "id": "IG3_CadZ6sOg",
        "outputId": "0f387834-40fc-47e8-b795-c37609c6e078"
      },
      "execution_count": 15,
      "outputs": [
        {
          "output_type": "stream",
          "name": "stdout",
          "text": [
            "Requirement already satisfied: rouge-score in /usr/local/lib/python3.10/dist-packages (0.1.2)\n",
            "Requirement already satisfied: absl-py in /usr/local/lib/python3.10/dist-packages (from rouge-score) (1.4.0)\n",
            "Requirement already satisfied: nltk in /usr/local/lib/python3.10/dist-packages (from rouge-score) (3.8.1)\n",
            "Requirement already satisfied: numpy in /usr/local/lib/python3.10/dist-packages (from rouge-score) (1.26.4)\n",
            "Requirement already satisfied: six>=1.14.0 in /usr/local/lib/python3.10/dist-packages (from rouge-score) (1.16.0)\n",
            "Requirement already satisfied: click in /usr/local/lib/python3.10/dist-packages (from nltk->rouge-score) (8.1.7)\n",
            "Requirement already satisfied: joblib in /usr/local/lib/python3.10/dist-packages (from nltk->rouge-score) (1.4.2)\n",
            "Requirement already satisfied: regex>=2021.8.3 in /usr/local/lib/python3.10/dist-packages (from nltk->rouge-score) (2024.5.15)\n",
            "Requirement already satisfied: tqdm in /usr/local/lib/python3.10/dist-packages (from nltk->rouge-score) (4.66.5)\n"
          ]
        }
      ]
    },
    {
      "cell_type": "code",
      "source": [
        "def calculate_rouge_scores1(generated_summary, reference_summary):\n",
        "    \"\"\"\n",
        "    Calculate ROUGE scores for a generated summary compared to a reference summary.\n",
        "\n",
        "    Args:\n",
        "        generated_summary (str): The generated summary to evaluate.\n",
        "        reference_summary (str): The reference summary for comparison.\n",
        "\n",
        "    Returns:\n",
        "        dict: A dictionary containing ROUGE-1, ROUGE-2, and ROUGE-L scores.\n",
        "    \"\"\"\n",
        "    # Initialize the ROUGE scorer with ROUGE-1, ROUGE-2, and ROUGE-L\n",
        "    scorer = rouge_scorer.RougeScorer(['rouge1', 'rouge2', 'rougeL'], use_stemmer=True)\n",
        "\n",
        "    # Calculate ROUGE scores\n",
        "    scores = scorer.score(reference_summary, generated_summary)\n",
        "\n",
        "    # Print the ROUGE scores\n",
        "    print(\"ROUGE Scores:\")\n",
        "    print(f\"ROUGE-1: {scores['rouge1'].precision:.3f}\")\n",
        "    print(f\"ROUGE-2: {scores['rouge2'].precision:.3f}\")\n",
        "    print(f\"ROUGE-L: {scores['rougeL'].precision:.3f}\")\n",
        "\n",
        "    return scores\n"
      ],
      "metadata": {
        "id": "oKC9yla86sLZ"
      },
      "execution_count": 16,
      "outputs": []
    },
    {
      "cell_type": "code",
      "source": [
        "reference_summary = \"\"\"Chaos theory is a field of study in mathematics that examines the behavior of dynamical systems that are highly sensitive to initial conditions.\n",
        "This sensitivity is popularly referred to as the butterfly effect, where a small change in one state of a deterministic nonlinear system can result in large differences in a later state.\n",
        "Edward Lorenz, a meteorologist, made significant contributions to chaos theory through his work on weather prediction models. He discovered that even tiny errors in the initial\n",
        "measurements of weather conditions could lead to drastically different forecasts over time. This finding highlighted the inherent limitations in predicting the long-term behavior of\n",
        "chaotic systems. The concept of a prediction horizon emerged, representing the time limit beyond which accurate predictions become impossible due to the exponential growth of errors.\n",
        "Chaos theory has implications beyond weather forecasting. For instance, the three-body problem in celestial mechanics demonstrates the chaotic nature of gravitational interactions\n",
        "between three or more celestial bodies. Even with precise initial conditions, predicting the long-term trajectories of these bodies becomes increasingly difficult due to the\n",
        "sensitivity to initial conditions.\"\"\"\n",
        "\n",
        "# Calculate and display ROUGE scores\n",
        "calculate_rouge_scores1(summary, reference_summary)"
      ],
      "metadata": {
        "colab": {
          "base_uri": "https://localhost:8080/"
        },
        "id": "T3IIvYle6sIy",
        "outputId": "f380a5ab-7121-4490-973b-8bf99f24040f"
      },
      "execution_count": 17,
      "outputs": [
        {
          "output_type": "stream",
          "name": "stdout",
          "text": [
            "ROUGE Scores:\n",
            "ROUGE-1: 0.300\n",
            "ROUGE-2: 0.000\n",
            "ROUGE-L: 0.140\n"
          ]
        },
        {
          "output_type": "execute_result",
          "data": {
            "text/plain": [
              "{'rouge1': Score(precision=0.3, recall=0.08196721311475409, fmeasure=0.12875536480686695),\n",
              " 'rouge2': Score(precision=0.0, recall=0.0, fmeasure=0.0),\n",
              " 'rougeL': Score(precision=0.14, recall=0.03825136612021858, fmeasure=0.06008583690987125)}"
            ]
          },
          "metadata": {},
          "execution_count": 17
        }
      ]
    },
    {
      "cell_type": "code",
      "source": [
        "def calculate_rouge_scores2(generated_summary, original_text):\n",
        "    \"\"\"\n",
        "    Evaluates the quality of a generated summary using ROUGE scores, even without a reference summary.\n",
        "\n",
        "    This function calculates ROUGE scores by comparing the generated summary against the original text,\n",
        "    serving as a pseudo-reference. While not ideal, it provides a relative measure of how well the\n",
        "    summary captures the salient information from the original text.\n",
        "\n",
        "    Args:\n",
        "        generated_summary (str): The summary generated by the summarization algorithm.\n",
        "        original_text (str): The original text from which the summary was generated.\n",
        "\n",
        "    Returns:\n",
        "        dict: A dictionary containing ROUGE-1, ROUGE-2, and ROUGE-L scores.\n",
        "    \"\"\"\n",
        "    scorer = rouge_scorer.RougeScorer(['rouge1', 'rouge2', 'rougeL'], use_stemmer=True)\n",
        "    # Calculate ROUGE scores\n",
        "    scores = scorer.score(original_text, generated_summary)\n",
        "\n",
        "    # Print the ROUGE scores\n",
        "    print(\"ROUGE Scores:\")\n",
        "    print(f\"ROUGE-1: {scores['rouge1'].precision:.3f}\")\n",
        "    print(f\"ROUGE-2: {scores['rouge2'].precision:.3f}\")\n",
        "    print(f\"ROUGE-L: {scores['rougeL'].precision:.3f}\")\n",
        "    return scores\n",
        "\n"
      ],
      "metadata": {
        "id": "h--GLOEN6sF6"
      },
      "execution_count": 18,
      "outputs": []
    },
    {
      "cell_type": "code",
      "source": [
        "# Evaluate the generated summary\n",
        "calculate_rouge_scores1(summary, text)"
      ],
      "metadata": {
        "colab": {
          "base_uri": "https://localhost:8080/"
        },
        "id": "j3eVrsNZ6sDk",
        "outputId": "e0803523-e651-4a1c-be17-b3f2e16fa2b0"
      },
      "execution_count": 19,
      "outputs": [
        {
          "output_type": "stream",
          "name": "stdout",
          "text": [
            "ROUGE Scores:\n",
            "ROUGE-1: 1.000\n",
            "ROUGE-2: 0.041\n",
            "ROUGE-L: 0.280\n"
          ]
        },
        {
          "output_type": "execute_result",
          "data": {
            "text/plain": [
              "{'rouge1': Score(precision=1.0, recall=0.06596306068601583, fmeasure=0.12376237623762378),\n",
              " 'rouge2': Score(precision=0.04081632653061224, recall=0.002642007926023778, fmeasure=0.004962779156327543),\n",
              " 'rougeL': Score(precision=0.28, recall=0.018469656992084433, fmeasure=0.034653465346534656)}"
            ]
          },
          "metadata": {},
          "execution_count": 19
        }
      ]
    },
    {
      "cell_type": "code",
      "source": [],
      "metadata": {
        "id": "GgL92OEw70no"
      },
      "execution_count": 19,
      "outputs": []
    },
    {
      "cell_type": "markdown",
      "source": [
        "##### **Incorporating BLEU and METEOR Scores for Evaluation**\n",
        "Now we will evaluate the quality of generated text summaries using two additional evaluation metrics: `BLEU (Bilingual Evaluation Understudy)` and `METEOR (Metric for Evaluation of Translation with Explicit ORdering)`. These metrics complement ROUGE by providing different perspectives on text similarity:\n",
        "\n",
        "- `BLEU Score`: Measures how close the generated summary is to the reference summary by comparing n-grams.\n",
        "- `METEOR Score`: Considers synonymy, stemming, and word order, providing a more nuanced evaluation of the generated summary's alignment with the reference summary.\n",
        "\n",
        "The functions provided will calculate `BLEU` and `METEOR` scores for a generated summary compared to a reference summary. Both scores will help us assess the generated summaries' fluency, informativeness, and relevance more comprehensively."
      ],
      "metadata": {
        "id": "afJUtKkt78Zy"
      }
    },
    {
      "cell_type": "code",
      "source": [
        "from nltk.translate.bleu_score import sentence_bleu, SmoothingFunction\n",
        "from nltk.translate.meteor_score import meteor_score\n",
        "\n",
        "def calculate_bleu_score(generated_summary, reference_summary):\n",
        "    \"\"\"\n",
        "    Calculate BLEU score for a generated summary compared to a reference summary.\n",
        "\n",
        "    Args:\n",
        "        generated_summary (str): The generated summary to evaluate.\n",
        "        reference_summary (str): The reference summary for comparison.\n",
        "\n",
        "    Returns:\n",
        "        float: The BLEU score.\n",
        "    \"\"\"\n",
        "    # Tokenize the summaries\n",
        "    generated_tokens = word_tokenize(generated_summary)\n",
        "    reference_tokens = [word_tokenize(reference_summary)]\n",
        "\n",
        "    # Calculate BLEU score with smoothing\n",
        "    bleu_score = sentence_bleu(reference_tokens, generated_tokens, smoothing_function=SmoothingFunction().method1)\n",
        "\n",
        "    # Print the BLEU score\n",
        "    print(\"BLEU Score:\", bleu_score)\n",
        "\n",
        "    return bleu_score\n",
        "\n",
        "def calculate_meteor_score(generated_summary, reference_summary):\n",
        "    \"\"\"\n",
        "    Calculate METEOR score for a generated summary compared to a reference summary.\n",
        "\n",
        "    Args:\n",
        "        generated_summary (str): The generated summary to evaluate.\n",
        "        reference_summary (str): The reference summary for comparison.\n",
        "\n",
        "    Returns:\n",
        "        float: The METEOR score.\n",
        "    \"\"\"\n",
        "    # Tokenize the summaries\n",
        "    generated_tokens = word_tokenize(generated_summary)\n",
        "    reference_tokens = word_tokenize(reference_summary)\n",
        "\n",
        "    # Calculate METEOR score\n",
        "    meteor_score_value = meteor_score([' '.join(reference_tokens)], ' '.join(generated_tokens))\n",
        "\n",
        "    # Print the METEOR score\n",
        "    print(\"METEOR Score:\", meteor_score_value)\n",
        "\n",
        "    return meteor_score_value\n",
        "\n",
        "\n",
        "def calculate_meteor_score(generated_summary, reference_summary):\n",
        "    \"\"\"\n",
        "    Calculate METEOR score for a generated summary compared to a reference summary.\n",
        "\n",
        "    Args:\n",
        "        generated_summary (str): The generated summary to evaluate.\n",
        "        reference_summary (str): The reference summary for comparison.\n",
        "\n",
        "    Returns:\n",
        "        float: The METEOR score.\n",
        "    \"\"\"\n",
        "    # Tokenize the summaries\n",
        "    generated_tokens = word_tokenize(generated_summary)\n",
        "    reference_tokens = word_tokenize(reference_summary)\n",
        "\n",
        "    # Calculate METEOR score using tokenized inputs\n",
        "    meteor_score_value = meteor_score([reference_tokens], generated_tokens)  # Pass lists of tokens\n",
        "\n",
        "    # Print the METEOR score\n",
        "    print(\"METEOR Score:\", meteor_score_value)\n",
        "\n",
        "    return meteor_score_value"
      ],
      "metadata": {
        "id": "hMwFWwGs70kf"
      },
      "execution_count": 20,
      "outputs": []
    },
    {
      "cell_type": "code",
      "source": [],
      "metadata": {
        "id": "0Ph-emDP70h6"
      },
      "execution_count": 20,
      "outputs": []
    },
    {
      "cell_type": "code",
      "source": [
        "# Calculate and display BLEU score\n",
        "bleu_score = calculate_bleu_score(summary, reference_summary)\n",
        "\n",
        "# Calculate and display METEOR score\n",
        "meteor_score_value = calculate_meteor_score(summary, reference_summary)\n"
      ],
      "metadata": {
        "colab": {
          "base_uri": "https://localhost:8080/"
        },
        "id": "4XD_v26s8GcD",
        "outputId": "4e255c8b-b285-424d-8b2b-3c6392474442"
      },
      "execution_count": 21,
      "outputs": [
        {
          "output_type": "stream",
          "name": "stdout",
          "text": [
            "BLEU Score: 0.0003282420509515036\n",
            "METEOR Score: 0.04709141274238226\n"
          ]
        }
      ]
    },
    {
      "cell_type": "code",
      "source": [],
      "metadata": {
        "id": "FQffKuz_6sAw"
      },
      "execution_count": 21,
      "outputs": []
    },
    {
      "cell_type": "markdown",
      "source": [
        "**ROUGE Score Evaluation**\n",
        "\n",
        "`calculate_rouge_scores2 Results:`\n",
        "> - ROUGE-1 Precision: 0.300 (30%)\n",
        "> - ROUGE-2 Precision: 0.000 (0%)\n",
        "> - ROUGE-L Precision: 0.160 (16%)\n",
        "\n",
        "Explanation:\n",
        "\n",
        "- The `ROUGE-1` precision score of 0.30 indicates that 30% of the unigrams in the generated summary are also found in the reference summary. This shows a moderate overlap in terms of individual words.\n",
        "- The `ROUGE-2` precision score of 0.0 indicates no overlap of bigrams, which means the generated summary fails to match any two consecutive words from the reference summary. This suggests that the generated summary is missing some contextual or consecutive word relationships present in the reference summary.\n",
        "- The `ROUGE-L` precision score of 0.16 shows a 16% overlap in the longest common subsequences, which is relatively low and indicates that the generated summary is not very well aligned with the reference summary in terms of structure and fluency.\n",
        "\n",
        "These scores suggest that while there is some overlap in vocabulary, the generated summary lacks the more nuanced context and structural elements necessary for a high-quality summary.\n",
        "\n",
        "`calculate_rouge_scores2 Results:`\n",
        "> - ROUGE-1 Precision: 1.000 (100%)\n",
        "> - ROUGE-2 Precision: 0.020 (2%)\n",
        "> - ROUGE-L Precision: 0.260 (26%)\n",
        "\n",
        "Explanation:\n",
        "\n",
        "- The `ROUGE-1` precision score of 1.0 (100%) is misleading and suggests that the generated summary contains all the unigrams found in the original text. This is because the generated summary is compared to the original text itself, leading to artificially high precision.\n",
        "- The `ROUGE-2` precision score of 0.02 (2%) is still low, reinforcing that there is minimal overlap in terms of bigrams.\n",
        "- The `ROUGE-L` precision score of 0.26 (26%) indicates slightly better structural overlap but is still not substantial.\n",
        "\n",
        "These scores suggest that comparing the generated summary to the original text does not provide meaningful evaluation metrics. It artificially inflates unigram precision but does not align well with expected human judgments of summary quality.\n",
        "\n",
        "**BLEU Score Evaluation**\n",
        "The BLEU (Bilingual Evaluation Understudy) score measures the n-gram overlap between the generated and reference summaries, with a focus on precision.\n",
        "\n",
        "- BLEU Score: 0.000328\n",
        "\n",
        "Explanation:\n",
        "> - A `BLEU` score close to zero indicates that there is virtually no overlap between the generated summary and the reference summary.\n",
        "> - `BLEU` scores are usually higher when there is a good match of both words and their order.\n",
        "> - The extremely low score here suggests the generated summary diverges significantly from the reference summary in both content and structure.\n",
        "\n",
        "**METEOR Score Evaluation**\n",
        "The METEOR (Metric for Evaluation of Translation with Explicit ORdering) score evaluates summary quality based on the alignment of unigrams, stemming, and synonymy, incorporating both precision and recall.\n",
        "\n",
        "- METEOR Score: 0.047\n",
        "\n",
        "Explanation:\n",
        "\n",
        "> - The `METEOR` score of 0.047 is very low, indicating poor alignment between the generated and reference summaries.\n",
        "> - This score considers not only the exact matches of words but also similar meanings.\n",
        "> - The low score suggests that the generated summary does not capture the meaning of the original well, nor does it present a semantically coherent summary.\n",
        "\n",
        "**Overall Conclusion**\n",
        "\n",
        "- The ROUGE, BLEU, and METEOR scores collectively suggest that the generated summary does not effectively capture the key points, context, or structure of the original text.\n",
        "- The generated summary appears to lack coherence, relevant vocabulary, and structured flow, which are essential for effective summarization.\n",
        "- Further refinement is needed in the summarization model, possibly by using more sophisticated abstractive techniques like transformer-based models (e.g., `BERT, GPT`) to generate summaries that are closer to human judgment and align better with reference texts.\n"
      ],
      "metadata": {
        "id": "uV0UfKlz-rHq"
      }
    },
    {
      "cell_type": "code",
      "source": [],
      "metadata": {
        "id": "fGdUNUUw7EBc"
      },
      "execution_count": 21,
      "outputs": []
    },
    {
      "cell_type": "code",
      "source": [],
      "metadata": {
        "id": "1p4a96Sn7D-V"
      },
      "execution_count": 21,
      "outputs": []
    },
    {
      "cell_type": "markdown",
      "source": [
        "Let's build An Abstractive Text Summarization model from scratch using a sequence-to-sequence (Seq2Seq) architecture.\n",
        "\n",
        "#### **What is Sequence-to-Sequence `(Seq2Seq)` architecture?**\n",
        "\n",
        "- Sequence-to-Sequence `(Seq2Seq) `architecture is a type of neural network designed for tasks where the input and output are sequences of varying lengths.\n",
        "- It's particularly well-suited for natural language processing tasks like machine translation, text summarization, and chatbot conversations.\n",
        "\n",
        "**Key Components:**\n",
        "\n",
        "- **Encoder:** The encoder processes the input sequence, token by token, and compresses the information into a fixed-length vector called the `\"context\"` or `\"thought\"` vector. This vector aims to encapsulate the entire meaning of the input sequence.\n",
        "\n",
        "- **Decoder:** The decoder takes the context vector from the encoder and generates the output sequence, token by token. It uses the information in the context vector to predict the next most likely token in the output sequence, conditioned on the tokens generated so far.\n",
        "\n",
        "**How it works:**\n",
        "- The input sequence is fed into the encoder, which processes each token and updates its internal state.\n",
        "- After processing the entire input sequence, the final state of the encoder becomes the context vector.\n",
        "- The context vector is passed to the decoder as its initial state.\n",
        "- The decoder starts generating the output sequence, using the context vector and the previously generated tokens to predict the next token.\n",
        "- This process continues until the decoder generates an end-of-sequence token or reaches a maximum length.\n",
        "\n",
        "**Advantages:**\n",
        "- Handles variable-length input and output sequences.\n",
        "- Can learn complex relationships between input and output sequences.\n",
        "- Has been successfully applied to a wide range of NLP tasks.\n",
        "\n",
        "**Limitations:**\n",
        "- The fixed-length context vector can be a bottleneck for long sequences, as it might not capture all the necessary information.  \n",
        "- Can be computationally expensive to train, especially for large models and long sequences.\n",
        "\n",
        "**Advancements:**\n",
        "- Attention mechanisms have been introduced to overcome the limitations of the fixed-length context vector, allowing the decoder to focus on relevant parts of the input sequence at each step.\n",
        "- Transformer models, based on the attention mechanism, have achieved state-of-the-art results on many NLP tasks, surpassing traditional Seq2Seq models.\n",
        "\n",
        "Overall, Seq2Seq architecture is a powerful tool for handling sequential data and has significantly impacted the field of natural language processing.\n",
        "\n"
      ],
      "metadata": {
        "id": "KfESblx8Gq2h"
      }
    },
    {
      "cell_type": "code",
      "source": [
        "import numpy as np\n",
        "import pandas as pd\n",
        "import matplotlib.pyplot as plt\n",
        "\n",
        "import tensorflow as tf\n",
        "from tensorflow.keras.layers import Input, LSTM, Embedding, Dense, Concatenate, TimeDistributed\n",
        "from tensorflow.keras.models import Model\n",
        "from tensorflow.keras.callbacks import EarlyStopping\n",
        "from tensorflow.keras.preprocessing.text import Tokenizer\n",
        "from tensorflow.keras.preprocessing.sequence import pad_sequences\n",
        "from tensorflow.keras.utils import to_categorical\n",
        "from tensorflow.keras import mixed_precision\n",
        "\n",
        "\n",
        "# Set random seed for reproducibility\n",
        "tf.random.set_seed(42)\n",
        "\n",
        "# Hyperparameters\n",
        "max_text_len = 400   # Maximum length of input text\n",
        "max_summary_len = 100  # Maximum length of summary\n",
        "embedding_dim = 50   # Embedding dimension size\n",
        "latent_dim = 100   # LSTM units\n",
        "\n"
      ],
      "metadata": {
        "id": "E7hIfZpy6r9U"
      },
      "execution_count": 22,
      "outputs": []
    },
    {
      "cell_type": "code",
      "source": [],
      "metadata": {
        "id": "qEY-nLsxXPrk"
      },
      "execution_count": 22,
      "outputs": []
    },
    {
      "cell_type": "markdown",
      "source": [
        "\n",
        "1. Load and Prepare the Dataset:\n",
        "- We'll use the datasets library from Hugging Face to load a dataset containing text-summary pairs. For this, we will use the popular \"CNN/DailyMail\" dataset."
      ],
      "metadata": {
        "id": "umtxbKBfXQXR"
      }
    },
    {
      "cell_type": "code",
      "source": [
        "# Hugging Face Datasets. The dataset is available for Python via the datasets library from Hugging Face.\n",
        "!pip install datasets\n",
        "from datasets import load_dataset"
      ],
      "metadata": {
        "colab": {
          "base_uri": "https://localhost:8080/"
        },
        "id": "Y9O2CGkG6r6Q",
        "outputId": "19d3f3fd-8952-43c2-a413-d936d1589de9"
      },
      "execution_count": 23,
      "outputs": [
        {
          "output_type": "stream",
          "name": "stdout",
          "text": [
            "Requirement already satisfied: datasets in /usr/local/lib/python3.10/dist-packages (2.21.0)\n",
            "Requirement already satisfied: filelock in /usr/local/lib/python3.10/dist-packages (from datasets) (3.15.4)\n",
            "Requirement already satisfied: numpy>=1.17 in /usr/local/lib/python3.10/dist-packages (from datasets) (1.26.4)\n",
            "Requirement already satisfied: pyarrow>=15.0.0 in /usr/local/lib/python3.10/dist-packages (from datasets) (17.0.0)\n",
            "Requirement already satisfied: dill<0.3.9,>=0.3.0 in /usr/local/lib/python3.10/dist-packages (from datasets) (0.3.8)\n",
            "Requirement already satisfied: pandas in /usr/local/lib/python3.10/dist-packages (from datasets) (2.1.4)\n",
            "Requirement already satisfied: requests>=2.32.2 in /usr/local/lib/python3.10/dist-packages (from datasets) (2.32.3)\n",
            "Requirement already satisfied: tqdm>=4.66.3 in /usr/local/lib/python3.10/dist-packages (from datasets) (4.66.5)\n",
            "Requirement already satisfied: xxhash in /usr/local/lib/python3.10/dist-packages (from datasets) (3.5.0)\n",
            "Requirement already satisfied: multiprocess in /usr/local/lib/python3.10/dist-packages (from datasets) (0.70.16)\n",
            "Requirement already satisfied: fsspec<=2024.6.1,>=2023.1.0 in /usr/local/lib/python3.10/dist-packages (from fsspec[http]<=2024.6.1,>=2023.1.0->datasets) (2024.6.1)\n",
            "Requirement already satisfied: aiohttp in /usr/local/lib/python3.10/dist-packages (from datasets) (3.10.5)\n",
            "Requirement already satisfied: huggingface-hub>=0.21.2 in /usr/local/lib/python3.10/dist-packages (from datasets) (0.24.6)\n",
            "Requirement already satisfied: packaging in /usr/local/lib/python3.10/dist-packages (from datasets) (24.1)\n",
            "Requirement already satisfied: pyyaml>=5.1 in /usr/local/lib/python3.10/dist-packages (from datasets) (6.0.2)\n",
            "Requirement already satisfied: aiohappyeyeballs>=2.3.0 in /usr/local/lib/python3.10/dist-packages (from aiohttp->datasets) (2.4.0)\n",
            "Requirement already satisfied: aiosignal>=1.1.2 in /usr/local/lib/python3.10/dist-packages (from aiohttp->datasets) (1.3.1)\n",
            "Requirement already satisfied: attrs>=17.3.0 in /usr/local/lib/python3.10/dist-packages (from aiohttp->datasets) (24.2.0)\n",
            "Requirement already satisfied: frozenlist>=1.1.1 in /usr/local/lib/python3.10/dist-packages (from aiohttp->datasets) (1.4.1)\n",
            "Requirement already satisfied: multidict<7.0,>=4.5 in /usr/local/lib/python3.10/dist-packages (from aiohttp->datasets) (6.0.5)\n",
            "Requirement already satisfied: yarl<2.0,>=1.0 in /usr/local/lib/python3.10/dist-packages (from aiohttp->datasets) (1.9.4)\n",
            "Requirement already satisfied: async-timeout<5.0,>=4.0 in /usr/local/lib/python3.10/dist-packages (from aiohttp->datasets) (4.0.3)\n",
            "Requirement already satisfied: typing-extensions>=3.7.4.3 in /usr/local/lib/python3.10/dist-packages (from huggingface-hub>=0.21.2->datasets) (4.12.2)\n",
            "Requirement already satisfied: charset-normalizer<4,>=2 in /usr/local/lib/python3.10/dist-packages (from requests>=2.32.2->datasets) (3.3.2)\n",
            "Requirement already satisfied: idna<4,>=2.5 in /usr/local/lib/python3.10/dist-packages (from requests>=2.32.2->datasets) (3.8)\n",
            "Requirement already satisfied: urllib3<3,>=1.21.1 in /usr/local/lib/python3.10/dist-packages (from requests>=2.32.2->datasets) (2.0.7)\n",
            "Requirement already satisfied: certifi>=2017.4.17 in /usr/local/lib/python3.10/dist-packages (from requests>=2.32.2->datasets) (2024.8.30)\n",
            "Requirement already satisfied: python-dateutil>=2.8.2 in /usr/local/lib/python3.10/dist-packages (from pandas->datasets) (2.8.2)\n",
            "Requirement already satisfied: pytz>=2020.1 in /usr/local/lib/python3.10/dist-packages (from pandas->datasets) (2024.1)\n",
            "Requirement already satisfied: tzdata>=2022.1 in /usr/local/lib/python3.10/dist-packages (from pandas->datasets) (2024.1)\n",
            "Requirement already satisfied: six>=1.5 in /usr/local/lib/python3.10/dist-packages (from python-dateutil>=2.8.2->pandas->datasets) (1.16.0)\n"
          ]
        }
      ]
    },
    {
      "cell_type": "code",
      "source": [
        "# Load the CNN/DailyMail dataset with 'default' configuration\n",
        "dataset = load_dataset(\"cnn_dailymail\", \"default\")\n",
        "print(dataset.keys())\n",
        "\n",
        "# \"\"\"\n",
        "# The above returns the following:\n",
        "\n",
        "# dict_keys(['validation', 'test'])\n",
        "\n",
        "# \"\"\"\n"
      ],
      "metadata": {
        "colab": {
          "base_uri": "https://localhost:8080/"
        },
        "id": "rrqLToyMW_Yo",
        "outputId": "05ed7dd4-26c7-4999-c37d-d6e6432b8eb2"
      },
      "execution_count": 24,
      "outputs": [
        {
          "output_type": "stream",
          "name": "stdout",
          "text": [
            "dict_keys(['validation', 'test'])\n"
          ]
        }
      ]
    },
    {
      "cell_type": "code",
      "source": [],
      "metadata": {
        "id": "qygDsg2-e9q-"
      },
      "execution_count": 24,
      "outputs": []
    },
    {
      "cell_type": "markdown",
      "source": [
        "- Since the CNN/DailyMail dataset has only 'validation' and 'test' splits available, we need to create a training split from the validation set. We'll split the validation set into training and validation subsets.\n"
      ],
      "metadata": {
        "id": "mtEc6MLocUi9"
      }
    },
    {
      "cell_type": "code",
      "source": [
        "from sklearn.model_selection import train_test_split\n",
        "from datasets import Dataset\n",
        "\n",
        "# Extract the 'test' set\n",
        "test_dataset = dataset['test']\n",
        "\n",
        "# Extract the 'validation' set\n",
        "validation_set = dataset['validation']\n",
        "\n",
        "# Convert to a Pandas DataFrame for easy manipulation\n",
        "df = validation_set.to_pandas()\n",
        "\n",
        "# Split the validation set into new train and validation sets\n",
        "train_df, valid_df = train_test_split(df, test_size=0.2, random_state=42)\n",
        "\n",
        "# Convert back to datasets\n",
        "train_dataset = Dataset.from_pandas(train_df)\n",
        "valid_dataset = Dataset.from_pandas(valid_df)\n"
      ],
      "metadata": {
        "id": "hprUGNeEeImm"
      },
      "execution_count": 25,
      "outputs": []
    },
    {
      "cell_type": "code",
      "source": [],
      "metadata": {
        "id": "JV5pYRe_YBBW"
      },
      "execution_count": 25,
      "outputs": []
    },
    {
      "cell_type": "code",
      "source": [
        "# Extract the texts and summaries from the training dataset\n",
        "texts = [example['article'] for example in train_dataset]\n",
        "summaries = [example['highlights'] for example in train_dataset]\n",
        "\n",
        "# Preprocessing function to clean the texts (e.g., remove punctuation, lowercase)\n",
        "def preprocess_text(text):\n",
        "  \"\"\"\n",
        "  Preprocesses the input text by removing punctuation, converting to lowercase, and removing extra whitespace.\n",
        "\n",
        "  Args:\n",
        "      text (str): The input text to preprocess.\n",
        "\n",
        "  Returns:\n",
        "      str: The preprocessed text.\n",
        "  \"\"\"\n",
        "  # Remove punctuation\n",
        "  text = text.translate(str.maketrans('', '', string.punctuation))\n",
        "  # Convert to lowercase\n",
        "  text = text.lower()\n",
        "  # Remove extra whitespace\n",
        "  text = ' '.join(text.split())\n",
        "  return text\n"
      ],
      "metadata": {
        "id": "qUSiKmQQYA-f"
      },
      "execution_count": 26,
      "outputs": []
    },
    {
      "cell_type": "code",
      "source": [],
      "metadata": {
        "id": "TXHPMd5kfT65"
      },
      "execution_count": 26,
      "outputs": []
    },
    {
      "cell_type": "code",
      "source": [
        "# Clean the texts and summaries\n",
        "texts_cleaned = [preprocess_text(text) for text in texts]\n",
        "summaries_cleaned = [preprocess_text(summary) for summary in summaries]\n",
        "\n",
        "# Tokenize texts and summaries\n",
        "text_tokenizer = Tokenizer()\n",
        "text_tokenizer.fit_on_texts(texts_cleaned)\n",
        "\n",
        "summary_tokenizer = Tokenizer()\n",
        "summary_tokenizer.fit_on_texts(summaries_cleaned)\n",
        "\n",
        "# Convert texts to sequences and pad them\n",
        "text_sequences = text_tokenizer.texts_to_sequences(texts_cleaned)\n",
        "text_sequences_padded = pad_sequences(text_sequences, maxlen=max_text_len, padding='post')\n",
        "\n",
        "summary_sequences = summary_tokenizer.texts_to_sequences(summaries_cleaned)\n",
        "summary_sequences_padded = pad_sequences(summary_sequences, maxlen=max_summary_len, padding='post')\n",
        "\n",
        "# Define vocabulary sizes\n",
        "vocab_size_text = len(text_tokenizer.word_index) + 1\n",
        "vocab_size_summary = len(summary_tokenizer.word_index) + 1\n",
        "\n"
      ],
      "metadata": {
        "id": "9bRrCnUEfA7T"
      },
      "execution_count": 27,
      "outputs": []
    },
    {
      "cell_type": "code",
      "source": [
        "# Enable mixed precision policy\n",
        "policy = mixed_precision.Policy('mixed_float16')\n",
        "mixed_precision.set_global_policy(policy)"
      ],
      "metadata": {
        "id": "pdP4Ny-IwMlz"
      },
      "execution_count": 28,
      "outputs": []
    },
    {
      "cell_type": "markdown",
      "source": [
        "- Build the Encoder Model: The below function initializes and builds the encoder part of the Seq2Seq model."
      ],
      "metadata": {
        "id": "weo3USqgjdDy"
      }
    },
    {
      "cell_type": "code",
      "source": [
        "def build_encoder(vocab_size_text, embedding_dim, latent_dim, max_text_len):\n",
        "    \"\"\"\n",
        "    Build the encoder model.\n",
        "\n",
        "    Args:\n",
        "        vocab_size_text (int): Size of the vocabulary for the text.\n",
        "        embedding_dim (int): Dimension of the embedding layer.\n",
        "        latent_dim (int): Number of units in the LSTM layer.\n",
        "        max_text_len (int): Maximum length of the input text sequences.\n",
        "\n",
        "    Returns:\n",
        "        encoder_model (Model): The built encoder model.\n",
        "        encoder_states (list): List of encoder states (hidden and cell states).\n",
        "    \"\"\"\n",
        "    encoder_inputs = Input(shape=(max_text_len,))\n",
        "    encoder_embedding = Embedding(vocab_size_text, embedding_dim, trainable=True)(encoder_inputs)\n",
        "    encoder_lstm = LSTM(latent_dim, return_state=True)\n",
        "    encoder_outputs, state_h, state_c = encoder_lstm(encoder_embedding)\n",
        "    encoder_states = [state_h, state_c]\n",
        "\n",
        "    encoder_model = Model(encoder_inputs, encoder_states)\n",
        "    return encoder_model, encoder_states\n"
      ],
      "metadata": {
        "id": "ZXzA0uBrjkEs"
      },
      "execution_count": 29,
      "outputs": []
    },
    {
      "cell_type": "code",
      "source": [],
      "metadata": {
        "id": "MGC8SqeajkB1"
      },
      "execution_count": 29,
      "outputs": []
    },
    {
      "cell_type": "markdown",
      "source": [
        "- Build the Decoder Model: The below function initializes and builds the decoder part of the Seq2Seq model."
      ],
      "metadata": {
        "id": "B0f7lwCfjrKF"
      }
    },
    {
      "cell_type": "code",
      "source": [
        "def build_decoder(vocab_size_summary, embedding_dim, latent_dim, encoder_states):\n",
        "    \"\"\"\n",
        "    Build the decoder model.\n",
        "\n",
        "    Args:\n",
        "        vocab_size_summary (int): Size of the vocabulary for the summary.\n",
        "        embedding_dim (int): Dimension of the embedding layer.\n",
        "        latent_dim (int): Number of units in the LSTM layer.\n",
        "        encoder_states (list): List of encoder states (hidden and cell states).\n",
        "\n",
        "    Returns:\n",
        "        decoder_model (Model): The built decoder model.\n",
        "    \"\"\"\n",
        "    decoder_inputs = Input(shape=(None,))\n",
        "    decoder_embedding = Embedding(vocab_size_summary, embedding_dim, trainable=True)(decoder_inputs)\n",
        "    decoder_lstm = LSTM(latent_dim, return_sequences=True, return_state=True)\n",
        "    decoder_outputs, _, _ = decoder_lstm(decoder_embedding, initial_state=encoder_states)\n",
        "    decoder_dense = TimeDistributed(Dense(vocab_size_summary, activation='softmax', dtype='float32'))\n",
        "    decoder_outputs = decoder_dense(decoder_outputs)\n",
        "\n",
        "    decoder_model = Model(decoder_inputs, decoder_outputs)\n",
        "    return decoder_model\n"
      ],
      "metadata": {
        "id": "LRGLWxRejj-9"
      },
      "execution_count": 30,
      "outputs": []
    },
    {
      "cell_type": "code",
      "source": [],
      "metadata": {
        "id": "xt5eAY9gjj8G"
      },
      "execution_count": 30,
      "outputs": []
    },
    {
      "cell_type": "markdown",
      "source": [
        "- Compile and Train the Seq2Seq Model: This function compiles and trains the Seq2Seq model."
      ],
      "metadata": {
        "id": "U6a50F8Fj8nA"
      }
    },
    {
      "cell_type": "code",
      "source": [
        "def compile_and_train_seq2seq_model(encoder_model, decoder_model, text_sequences_padded, summary_sequences_padded, vocab_size_summary):\n",
        "    \"\"\"\n",
        "    Compile and train the Seq2Seq model.\n",
        "\n",
        "    Args:\n",
        "        encoder_model (Model): The encoder model.\n",
        "        decoder_model (Model): The decoder model.\n",
        "        text_sequences_padded (numpy array): Padded input text sequences.\n",
        "        summary_sequences_padded (numpy array): Padded summary sequences.\n",
        "        vocab_size_summary (int): Size of the vocabulary for the summary.\n",
        "\n",
        "    Returns:\n",
        "        history: Training history object.\n",
        "    \"\"\"\n",
        "    # Define the Seq2Seq model\n",
        "    model = Model([encoder_model.input, decoder_model.input], decoder_model.output)\n",
        "\n",
        "    # Compile the model with mixed precision\n",
        "    model.compile(optimizer='adam', loss='sparse_categorical_crossentropy', metrics=['accuracy'])\n",
        "\n",
        "    # Print model summary\n",
        "    model.summary()\n",
        "\n",
        "    # Early stopping to prevent overfitting\n",
        "    early_stopping = EarlyStopping(monitor='val_loss', mode='min', verbose=1, patience=3)\n",
        "\n",
        "    # Prepare the decoder targets (shifted summaries)\n",
        "    decoder_target_data = np.array([to_categorical(seq, num_classes=vocab_size_summary) for seq in summary_sequences_padded])\n",
        "\n",
        "    # Train the model\n",
        "    history = model.fit(\n",
        "        [text_sequences_padded, summary_sequences_padded[:, :-1]],  # Inputs (texts and summaries shifted)\n",
        "        decoder_target_data[:, 1:],  # Targets (shifted summaries)\n",
        "        epochs=20,\n",
        "        batch_size=1,\n",
        "        validation_split=0.2,\n",
        "        callbacks=[early_stopping]\n",
        "    )\n",
        "\n",
        "    return history\n"
      ],
      "metadata": {
        "id": "g4prwl_tj8SL"
      },
      "execution_count": 31,
      "outputs": []
    },
    {
      "cell_type": "code",
      "source": [
        "# Build the encoder model\n",
        "encoder_model, encoder_states = build_encoder(vocab_size_text, embedding_dim, latent_dim, max_text_len)\n",
        "\n",
        "# Build the decoder model\n",
        "decoder_model = build_decoder(vocab_size_summary, embedding_dim, latent_dim, encoder_states)\n",
        "\n",
        "# Compile and train the Seq2Seq model\n",
        "history = compile_and_train_seq2seq_model(encoder_model, decoder_model, text_sequences_padded, summary_sequences_padded, vocab_size_summary)\n",
        "\n",
        "# Plot training history\n",
        "def plot_training_history(history):\n",
        "    \"\"\"\n",
        "    Plot the training and validation loss and accuracy from the training history.\n",
        "\n",
        "    Args:\n",
        "        history: Training history object from model.fit().\n",
        "    \"\"\"\n",
        "    plt.figure(figsize=(12, 6))\n",
        "\n",
        "    # Plot training & validation loss values\n",
        "    plt.subplot(1, 2, 1)\n",
        "    plt.plot(history.history['loss'])\n",
        "    plt.plot(history.history['val_loss'])\n",
        "    plt.title('Model Loss')\n",
        "    plt.xlabel('Epoch')\n",
        "    plt.ylabel('Loss')\n",
        "    plt.legend(['Train', 'Validation'], loc='upper right')\n",
        "\n",
        "    # Plot training & validation accuracy values\n",
        "    plt.subplot(1, 2, 2)\n",
        "    plt.plot(history.history['accuracy'])\n",
        "    plt.plot(history.history['val_accuracy'])\n",
        "    plt.title('Model Accuracy')\n",
        "    plt.xlabel('Epoch')\n",
        "    plt.ylabel('Accuracy')\n",
        "    plt.legend(['Train', 'Validation'], loc='upper left')\n",
        "\n",
        "    plt.show()\n",
        "\n",
        "# Plot training history\n",
        "plot_training_history(history)"
      ],
      "metadata": {
        "colab": {
          "base_uri": "https://localhost:8080/",
          "height": 433
        },
        "id": "xJ4expAojj5j",
        "outputId": "630d8623-78d5-4f8b-8b76-ecec328daff0"
      },
      "execution_count": null,
      "outputs": [
        {
          "output_type": "display_data",
          "data": {
            "text/plain": [
              "\u001b[1mModel: \"functional_2\"\u001b[0m\n"
            ],
            "text/html": [
              "<pre style=\"white-space:pre;overflow-x:auto;line-height:normal;font-family:Menlo,'DejaVu Sans Mono',consolas,'Courier New',monospace\"><span style=\"font-weight: bold\">Model: \"functional_2\"</span>\n",
              "</pre>\n"
            ]
          },
          "metadata": {}
        },
        {
          "output_type": "display_data",
          "data": {
            "text/plain": [
              "┏━━━━━━━━━━━━━━━━━━━━━━━━━━━┳━━━━━━━━━━━━━━━━━━━━━━━━┳━━━━━━━━━━━━━━━━┳━━━━━━━━━━━━━━━━━━━━━━━━┓\n",
              "┃\u001b[1m \u001b[0m\u001b[1mLayer (type)             \u001b[0m\u001b[1m \u001b[0m┃\u001b[1m \u001b[0m\u001b[1mOutput Shape          \u001b[0m\u001b[1m \u001b[0m┃\u001b[1m \u001b[0m\u001b[1m       Param #\u001b[0m\u001b[1m \u001b[0m┃\u001b[1m \u001b[0m\u001b[1mConnected to          \u001b[0m\u001b[1m \u001b[0m┃\n",
              "┡━━━━━━━━━━━━━━━━━━━━━━━━━━━╇━━━━━━━━━━━━━━━━━━━━━━━━╇━━━━━━━━━━━━━━━━╇━━━━━━━━━━━━━━━━━━━━━━━━┩\n",
              "│ input_layer (\u001b[38;5;33mInputLayer\u001b[0m)  │ (\u001b[38;5;45mNone\u001b[0m, \u001b[38;5;34m400\u001b[0m)            │              \u001b[38;5;34m0\u001b[0m │ -                      │\n",
              "├───────────────────────────┼────────────────────────┼────────────────┼────────────────────────┤\n",
              "│ input_layer_1             │ (\u001b[38;5;45mNone\u001b[0m, \u001b[38;5;45mNone\u001b[0m)           │              \u001b[38;5;34m0\u001b[0m │ -                      │\n",
              "│ (\u001b[38;5;33mInputLayer\u001b[0m)              │                        │                │                        │\n",
              "├───────────────────────────┼────────────────────────┼────────────────┼────────────────────────┤\n",
              "│ embedding (\u001b[38;5;33mEmbedding\u001b[0m)     │ (\u001b[38;5;45mNone\u001b[0m, \u001b[38;5;34m400\u001b[0m, \u001b[38;5;34m50\u001b[0m)        │      \u001b[38;5;34m6,236,800\u001b[0m │ input_layer[\u001b[38;5;34m0\u001b[0m][\u001b[38;5;34m0\u001b[0m]      │\n",
              "├───────────────────────────┼────────────────────────┼────────────────┼────────────────────────┤\n",
              "│ embedding_1 (\u001b[38;5;33mEmbedding\u001b[0m)   │ (\u001b[38;5;45mNone\u001b[0m, \u001b[38;5;45mNone\u001b[0m, \u001b[38;5;34m50\u001b[0m)       │      \u001b[38;5;34m1,969,400\u001b[0m │ input_layer_1[\u001b[38;5;34m0\u001b[0m][\u001b[38;5;34m0\u001b[0m]    │\n",
              "├───────────────────────────┼────────────────────────┼────────────────┼────────────────────────┤\n",
              "│ lstm (\u001b[38;5;33mLSTM\u001b[0m)               │ [(\u001b[38;5;45mNone\u001b[0m, \u001b[38;5;34m100\u001b[0m), (\u001b[38;5;45mNone\u001b[0m,   │         \u001b[38;5;34m60,400\u001b[0m │ embedding[\u001b[38;5;34m0\u001b[0m][\u001b[38;5;34m0\u001b[0m]        │\n",
              "│                           │ \u001b[38;5;34m100\u001b[0m), (\u001b[38;5;45mNone\u001b[0m, \u001b[38;5;34m100\u001b[0m)]     │                │                        │\n",
              "├───────────────────────────┼────────────────────────┼────────────────┼────────────────────────┤\n",
              "│ lstm_1 (\u001b[38;5;33mLSTM\u001b[0m)             │ [(\u001b[38;5;45mNone\u001b[0m, \u001b[38;5;45mNone\u001b[0m, \u001b[38;5;34m100\u001b[0m),    │         \u001b[38;5;34m60,400\u001b[0m │ embedding_1[\u001b[38;5;34m0\u001b[0m][\u001b[38;5;34m0\u001b[0m],     │\n",
              "│                           │ (\u001b[38;5;45mNone\u001b[0m, \u001b[38;5;34m100\u001b[0m), (\u001b[38;5;45mNone\u001b[0m,    │                │ lstm[\u001b[38;5;34m0\u001b[0m][\u001b[38;5;34m1\u001b[0m], lstm[\u001b[38;5;34m0\u001b[0m][\u001b[38;5;34m2\u001b[0m] │\n",
              "│                           │ \u001b[38;5;34m100\u001b[0m)]                  │                │                        │\n",
              "├───────────────────────────┼────────────────────────┼────────────────┼────────────────────────┤\n",
              "│ time_distributed          │ (\u001b[38;5;45mNone\u001b[0m, \u001b[38;5;45mNone\u001b[0m, \u001b[38;5;34m39388\u001b[0m)    │      \u001b[38;5;34m3,978,188\u001b[0m │ lstm_1[\u001b[38;5;34m0\u001b[0m][\u001b[38;5;34m0\u001b[0m]           │\n",
              "│ (\u001b[38;5;33mTimeDistributed\u001b[0m)         │                        │                │                        │\n",
              "└───────────────────────────┴────────────────────────┴────────────────┴────────────────────────┘\n"
            ],
            "text/html": [
              "<pre style=\"white-space:pre;overflow-x:auto;line-height:normal;font-family:Menlo,'DejaVu Sans Mono',consolas,'Courier New',monospace\">┏━━━━━━━━━━━━━━━━━━━━━━━━━━━┳━━━━━━━━━━━━━━━━━━━━━━━━┳━━━━━━━━━━━━━━━━┳━━━━━━━━━━━━━━━━━━━━━━━━┓\n",
              "┃<span style=\"font-weight: bold\"> Layer (type)              </span>┃<span style=\"font-weight: bold\"> Output Shape           </span>┃<span style=\"font-weight: bold\">        Param # </span>┃<span style=\"font-weight: bold\"> Connected to           </span>┃\n",
              "┡━━━━━━━━━━━━━━━━━━━━━━━━━━━╇━━━━━━━━━━━━━━━━━━━━━━━━╇━━━━━━━━━━━━━━━━╇━━━━━━━━━━━━━━━━━━━━━━━━┩\n",
              "│ input_layer (<span style=\"color: #0087ff; text-decoration-color: #0087ff\">InputLayer</span>)  │ (<span style=\"color: #00d7ff; text-decoration-color: #00d7ff\">None</span>, <span style=\"color: #00af00; text-decoration-color: #00af00\">400</span>)            │              <span style=\"color: #00af00; text-decoration-color: #00af00\">0</span> │ -                      │\n",
              "├───────────────────────────┼────────────────────────┼────────────────┼────────────────────────┤\n",
              "│ input_layer_1             │ (<span style=\"color: #00d7ff; text-decoration-color: #00d7ff\">None</span>, <span style=\"color: #00d7ff; text-decoration-color: #00d7ff\">None</span>)           │              <span style=\"color: #00af00; text-decoration-color: #00af00\">0</span> │ -                      │\n",
              "│ (<span style=\"color: #0087ff; text-decoration-color: #0087ff\">InputLayer</span>)              │                        │                │                        │\n",
              "├───────────────────────────┼────────────────────────┼────────────────┼────────────────────────┤\n",
              "│ embedding (<span style=\"color: #0087ff; text-decoration-color: #0087ff\">Embedding</span>)     │ (<span style=\"color: #00d7ff; text-decoration-color: #00d7ff\">None</span>, <span style=\"color: #00af00; text-decoration-color: #00af00\">400</span>, <span style=\"color: #00af00; text-decoration-color: #00af00\">50</span>)        │      <span style=\"color: #00af00; text-decoration-color: #00af00\">6,236,800</span> │ input_layer[<span style=\"color: #00af00; text-decoration-color: #00af00\">0</span>][<span style=\"color: #00af00; text-decoration-color: #00af00\">0</span>]      │\n",
              "├───────────────────────────┼────────────────────────┼────────────────┼────────────────────────┤\n",
              "│ embedding_1 (<span style=\"color: #0087ff; text-decoration-color: #0087ff\">Embedding</span>)   │ (<span style=\"color: #00d7ff; text-decoration-color: #00d7ff\">None</span>, <span style=\"color: #00d7ff; text-decoration-color: #00d7ff\">None</span>, <span style=\"color: #00af00; text-decoration-color: #00af00\">50</span>)       │      <span style=\"color: #00af00; text-decoration-color: #00af00\">1,969,400</span> │ input_layer_1[<span style=\"color: #00af00; text-decoration-color: #00af00\">0</span>][<span style=\"color: #00af00; text-decoration-color: #00af00\">0</span>]    │\n",
              "├───────────────────────────┼────────────────────────┼────────────────┼────────────────────────┤\n",
              "│ lstm (<span style=\"color: #0087ff; text-decoration-color: #0087ff\">LSTM</span>)               │ [(<span style=\"color: #00d7ff; text-decoration-color: #00d7ff\">None</span>, <span style=\"color: #00af00; text-decoration-color: #00af00\">100</span>), (<span style=\"color: #00d7ff; text-decoration-color: #00d7ff\">None</span>,   │         <span style=\"color: #00af00; text-decoration-color: #00af00\">60,400</span> │ embedding[<span style=\"color: #00af00; text-decoration-color: #00af00\">0</span>][<span style=\"color: #00af00; text-decoration-color: #00af00\">0</span>]        │\n",
              "│                           │ <span style=\"color: #00af00; text-decoration-color: #00af00\">100</span>), (<span style=\"color: #00d7ff; text-decoration-color: #00d7ff\">None</span>, <span style=\"color: #00af00; text-decoration-color: #00af00\">100</span>)]     │                │                        │\n",
              "├───────────────────────────┼────────────────────────┼────────────────┼────────────────────────┤\n",
              "│ lstm_1 (<span style=\"color: #0087ff; text-decoration-color: #0087ff\">LSTM</span>)             │ [(<span style=\"color: #00d7ff; text-decoration-color: #00d7ff\">None</span>, <span style=\"color: #00d7ff; text-decoration-color: #00d7ff\">None</span>, <span style=\"color: #00af00; text-decoration-color: #00af00\">100</span>),    │         <span style=\"color: #00af00; text-decoration-color: #00af00\">60,400</span> │ embedding_1[<span style=\"color: #00af00; text-decoration-color: #00af00\">0</span>][<span style=\"color: #00af00; text-decoration-color: #00af00\">0</span>],     │\n",
              "│                           │ (<span style=\"color: #00d7ff; text-decoration-color: #00d7ff\">None</span>, <span style=\"color: #00af00; text-decoration-color: #00af00\">100</span>), (<span style=\"color: #00d7ff; text-decoration-color: #00d7ff\">None</span>,    │                │ lstm[<span style=\"color: #00af00; text-decoration-color: #00af00\">0</span>][<span style=\"color: #00af00; text-decoration-color: #00af00\">1</span>], lstm[<span style=\"color: #00af00; text-decoration-color: #00af00\">0</span>][<span style=\"color: #00af00; text-decoration-color: #00af00\">2</span>] │\n",
              "│                           │ <span style=\"color: #00af00; text-decoration-color: #00af00\">100</span>)]                  │                │                        │\n",
              "├───────────────────────────┼────────────────────────┼────────────────┼────────────────────────┤\n",
              "│ time_distributed          │ (<span style=\"color: #00d7ff; text-decoration-color: #00d7ff\">None</span>, <span style=\"color: #00d7ff; text-decoration-color: #00d7ff\">None</span>, <span style=\"color: #00af00; text-decoration-color: #00af00\">39388</span>)    │      <span style=\"color: #00af00; text-decoration-color: #00af00\">3,978,188</span> │ lstm_1[<span style=\"color: #00af00; text-decoration-color: #00af00\">0</span>][<span style=\"color: #00af00; text-decoration-color: #00af00\">0</span>]           │\n",
              "│ (<span style=\"color: #0087ff; text-decoration-color: #0087ff\">TimeDistributed</span>)         │                        │                │                        │\n",
              "└───────────────────────────┴────────────────────────┴────────────────┴────────────────────────┘\n",
              "</pre>\n"
            ]
          },
          "metadata": {}
        },
        {
          "output_type": "display_data",
          "data": {
            "text/plain": [
              "\u001b[1m Total params: \u001b[0m\u001b[38;5;34m12,305,188\u001b[0m (46.94 MB)\n"
            ],
            "text/html": [
              "<pre style=\"white-space:pre;overflow-x:auto;line-height:normal;font-family:Menlo,'DejaVu Sans Mono',consolas,'Courier New',monospace\"><span style=\"font-weight: bold\"> Total params: </span><span style=\"color: #00af00; text-decoration-color: #00af00\">12,305,188</span> (46.94 MB)\n",
              "</pre>\n"
            ]
          },
          "metadata": {}
        },
        {
          "output_type": "display_data",
          "data": {
            "text/plain": [
              "\u001b[1m Trainable params: \u001b[0m\u001b[38;5;34m12,305,188\u001b[0m (46.94 MB)\n"
            ],
            "text/html": [
              "<pre style=\"white-space:pre;overflow-x:auto;line-height:normal;font-family:Menlo,'DejaVu Sans Mono',consolas,'Courier New',monospace\"><span style=\"font-weight: bold\"> Trainable params: </span><span style=\"color: #00af00; text-decoration-color: #00af00\">12,305,188</span> (46.94 MB)\n",
              "</pre>\n"
            ]
          },
          "metadata": {}
        },
        {
          "output_type": "display_data",
          "data": {
            "text/plain": [
              "\u001b[1m Non-trainable params: \u001b[0m\u001b[38;5;34m0\u001b[0m (0.00 B)\n"
            ],
            "text/html": [
              "<pre style=\"white-space:pre;overflow-x:auto;line-height:normal;font-family:Menlo,'DejaVu Sans Mono',consolas,'Courier New',monospace\"><span style=\"font-weight: bold\"> Non-trainable params: </span><span style=\"color: #00af00; text-decoration-color: #00af00\">0</span> (0.00 B)\n",
              "</pre>\n"
            ]
          },
          "metadata": {}
        }
      ]
    },
    {
      "cell_type": "markdown",
      "metadata": {
        "id": "LF6iu7wpcic0"
      },
      "source": [
        "#### **Conclusion**"
      ]
    },
    {
      "cell_type": "code",
      "execution_count": null,
      "metadata": {
        "id": "WNtVja6Mcmum"
      },
      "outputs": [],
      "source": []
    }
  ],
  "metadata": {
    "colab": {
      "provenance": [],
      "machine_shape": "hm",
      "gpuType": "T4",
      "include_colab_link": true
    },
    "kernelspec": {
      "display_name": "Python 3",
      "name": "python3"
    },
    "language_info": {
      "codemirror_mode": {
        "name": "ipython",
        "version": 3
      },
      "file_extension": ".py",
      "mimetype": "text/x-python",
      "name": "python",
      "nbconvert_exporter": "python",
      "pygments_lexer": "ipython3",
      "version": "3.9.5"
    },
    "orig_nbformat": 4,
    "vscode": {
      "interpreter": {
        "hash": "6c67f8adbebdea49f93c63d2a2dcd5cb4fed3a722249876be11f90d0fd0a91fc"
      }
    },
    "accelerator": "GPU"
  },
  "nbformat": 4,
  "nbformat_minor": 0
}