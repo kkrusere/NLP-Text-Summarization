{
 "cells": [
  {
   "cell_type": "code",
   "execution_count": null,
   "metadata": {},
   "outputs": [],
   "source": []
  },
  {
   "cell_type": "markdown",
   "metadata": {},
   "source": [
    "## <center>**NLP Text Summarization Using NLTK** \n",
    "<center><em>\n",
    "Text summarization refers to the technique of shortening long pieces of text, with the intention of creating a coherent and fluent summary having only the main points outlined in the document. Basically, the process of creating shorter text without removing the semantic structure of text. \n",
    "</em></center>\n",
    "<br>\n",
    "<center><img src=\"https://github.com/kkrusere/NLP-Text-Summarization/blob/main/assets/mchinelearning_text_sum.png?raw=1\" width=600/></center>\n",
    "\n",
    "***Project Contributors:*** Kuzi Rusere<br>\n",
    "**MVP streamlit App URL:** N/A"
   ]
  },
  {
   "cell_type": "code",
   "execution_count": 1,
   "metadata": {},
   "outputs": [],
   "source": [
    "import nltk\n",
    "from nltk.corpus import stopwords\n",
    "from nltk.tokenize import word_tokenize, sent_tokenize\n",
    "#we will set the stop words\n",
    "stopWords = set(stopwords.words(\"english\"))"
   ]
  },
  {
   "cell_type": "markdown",
   "metadata": {},
   "source": [
    "For our example text, we are going use this brief explainer of the history of Chaos theory"
   ]
  },
  {
   "cell_type": "code",
   "execution_count": 3,
   "metadata": {},
   "outputs": [],
   "source": [
    "text = \"\"\"\n",
    "In 1961, a meteorologist by the name of Edward Lorenz made a profound discovery. Lorenz was utilising the new-found power of computers in an attempt to more accurately predict the weather. He created a mathematical model which, when supplied with a set of numbers representing the current weather, could predict the weather a few minutes in advance.\n",
    "Once this computer program was up and running, Lorenz could produce long-term forecasts by feeding the predicted weather back into the computer over and over again, with each run forecasting further into the future.Accurate minute-by-minute forecasts added up into days, and then weeks.\n",
    "One day, Lorenz decided to rerun one of his forecasts. In the interests of saving time he decided not to start from scratch; instead he took the computer’s prediction from halfway through the first run and used that as the starting point.\n",
    "After a well-earned coffee break, he returned to discover something unexpected. Although the computer’s new predictions started out the same as before, the two sets of predictions soon began diverging drastically. What had gone wrong?\n",
    "Lorenz soon realised that while the computer was printing out the predictions to three decimal places, it was actually crunching the numbers internally using six decimal places.\n",
    "So while Lorenz had started the second run with the number 0.506, the original run had used the number 0.506127.\n",
    "A difference of one part in a thousand: the same sort of difference that a flap of a butterfly’s wing might make to the breeze on your face. The starting weather conditions had been virtually identical. The two predictions were anything but.\n",
    "Lorenz had found the seeds of chaos. In systems that behave nicely - without chaotic effects - small differences only produce small effects. In this case, Lorenz’s equations were causing errors to steadily grow over time.\n",
    "This meant that tiny errors in the measurement of the current weather would not stay tiny, but relentlessly increased in size each time they were fed back into the computer until they had completely swamped the predictions.\n",
    "Lorenz famously illustrated this effect with the analogy of a butterfly flapping its wings and thereby causing the formation of a hurricane half a world away.\n",
    "A nice way to see this “butterfly effect” for yourself is with a game of pool or billiards. No matter how consistent you are with the first shot (the break), the smallest of differences in the speed and angle with which you strike the white ball will cause the pack of billiards to scatter in wildly different directions every time.\n",
    "The smallest of differences are producing large effects - the hallmark of a chaotic system.\n",
    "It is worth noting that the laws of physics that determine how the billiard balls move are precise and unambiguous: they allow no room for randomness.\n",
    "What at first glance appears to be random behaviour is completely deterministic - it only seems random because imperceptible changes are making all the difference.\n",
    "The rate at which these tiny differences stack up provides each chaotic system with a prediction horizon - a length of time beyond which we can no longer accurately forecast its behaviour.\n",
    "In the case of the weather, the prediction horizon is nowadays about one week (thanks to ever-improving measuring instruments and models).\n",
    "Some 50 years ago it was 18 hours. Two weeks is believed to be the limit we could ever achieve however much better computers and software get.\n",
    "Surprisingly, the solar system is a chaotic system too - with a prediction horizon of a hundred million years. It was the first chaotic system to be discovered, long before there was a Chaos Theory.\n",
    "In 1887, the French mathematician Henri Poincaré showed that while Newton’s theory of gravity could perfectly predict how two planetary bodies would orbit under their mutual attraction, adding a third body to the mix rendered the equations unsolvable.\n",
    "The best we can do for three bodies is to predict their movements moment by moment, and feed those predictions back into our equations …\n",
    "Though the dance of the planets has a lengthy prediction horizon, the effects of chaos cannot be ignored, for the intricate interplay of gravitation tugs among the planets has a large influence on the trajectories of the asteroids.\n",
    "Keeping an eye on the asteroids is difficult but worthwhile, since such chaotic effects may one day fling an unwelcome surprise our way.\n",
    "On the flip side, they can also divert external surprises such as steering comets away from a potential collision with Earth.\n",
    "\n",
    "\"\"\""
   ]
  },
  {
   "cell_type": "markdown",
   "metadata": {},
   "source": [
    "Word tokenization"
   ]
  },
  {
   "cell_type": "code",
   "execution_count": 5,
   "metadata": {},
   "outputs": [
    {
     "name": "stdout",
     "output_type": "stream",
     "text": [
      "['In', '1961', ',', 'a', 'meteorologist', 'by', 'the', 'name', 'of', 'Edward', 'Lorenz', 'made', 'a', 'profound', 'discovery', '.', 'Lorenz', 'was', 'utilising', 'the', 'new-found', 'power', 'of', 'computers', 'in', 'an', 'attempt', 'to', 'more', 'accurately', 'predict', 'the', 'weather', '.', 'He', 'created', 'a', 'mathematical', 'model', 'which', ',', 'when', 'supplied', 'with', 'a', 'set', 'of', 'numbers', 'representing', 'the', 'current', 'weather', ',', 'could', 'predict', 'the', 'weather', 'a', 'few', 'minutes', 'in', 'advance', '.', 'Once', 'this', 'computer', 'program', 'was', 'up', 'and', 'running', ',', 'Lorenz', 'could', 'produce', 'long-term', 'forecasts', 'by', 'feeding', 'the', 'predicted', 'weather', 'back', 'into', 'the', 'computer', 'over', 'and', 'over', 'again', ',', 'with', 'each', 'run', 'forecasting', 'further', 'into', 'the', 'future.Accurate', 'minute-by-minute', 'forecasts', 'added', 'up', 'into', 'days', ',', 'and', 'then', 'weeks', '.', 'One', 'day', ',', 'Lorenz', 'decided', 'to', 'rerun', 'one', 'of', 'his', 'forecasts', '.', 'In', 'the', 'interests', 'of', 'saving', 'time', 'he', 'decided', 'not', 'to', 'start', 'from', 'scratch', ';', 'instead', 'he', 'took', 'the', 'computer', '’', 's', 'prediction', 'from', 'halfway', 'through', 'the', 'first', 'run', 'and', 'used', 'that', 'as', 'the', 'starting', 'point', '.', 'After', 'a', 'well-earned', 'coffee', 'break', ',', 'he', 'returned', 'to', 'discover', 'something', 'unexpected', '.', 'Although', 'the', 'computer', '’', 's', 'new', 'predictions', 'started', 'out', 'the', 'same', 'as', 'before', ',', 'the', 'two', 'sets', 'of', 'predictions', 'soon', 'began', 'diverging', 'drastically', '.', 'What', 'had', 'gone', 'wrong', '?', 'Lorenz', 'soon', 'realised', 'that', 'while', 'the', 'computer', 'was', 'printing', 'out', 'the', 'predictions', 'to', 'three', 'decimal', 'places', ',', 'it', 'was', 'actually', 'crunching', 'the', 'numbers', 'internally', 'using', 'six', 'decimal', 'places', '.', 'So', 'while', 'Lorenz', 'had', 'started', 'the', 'second', 'run', 'with', 'the', 'number', '0.506', ',', 'the', 'original', 'run', 'had', 'used', 'the', 'number', '0.506127', '.', 'A', 'difference', 'of', 'one', 'part', 'in', 'a', 'thousand', ':', 'the', 'same', 'sort', 'of', 'difference', 'that', 'a', 'flap', 'of', 'a', 'butterfly', '’', 's', 'wing', 'might', 'make', 'to', 'the', 'breeze', 'on', 'your', 'face', '.', 'The', 'starting', 'weather', 'conditions', 'had', 'been', 'virtually', 'identical', '.', 'The', 'two', 'predictions', 'were', 'anything', 'but', '.', 'Lorenz', 'had', 'found', 'the', 'seeds', 'of', 'chaos', '.', 'In', 'systems', 'that', 'behave', 'nicely', '-', 'without', 'chaotic', 'effects', '-', 'small', 'differences', 'only', 'produce', 'small', 'effects', '.', 'In', 'this', 'case', ',', 'Lorenz', '’', 's', 'equations', 'were', 'causing', 'errors', 'to', 'steadily', 'grow', 'over', 'time', '.', 'This', 'meant', 'that', 'tiny', 'errors', 'in', 'the', 'measurement', 'of', 'the', 'current', 'weather', 'would', 'not', 'stay', 'tiny', ',', 'but', 'relentlessly', 'increased', 'in', 'size', 'each', 'time', 'they', 'were', 'fed', 'back', 'into', 'the', 'computer', 'until', 'they', 'had', 'completely', 'swamped', 'the', 'predictions', '.', 'Lorenz', 'famously', 'illustrated', 'this', 'effect', 'with', 'the', 'analogy', 'of', 'a', 'butterfly', 'flapping', 'its', 'wings', 'and', 'thereby', 'causing', 'the', 'formation', 'of', 'a', 'hurricane', 'half', 'a', 'world', 'away', '.', 'A', 'nice', 'way', 'to', 'see', 'this', '“', 'butterfly', 'effect', '”', 'for', 'yourself', 'is', 'with', 'a', 'game', 'of', 'pool', 'or', 'billiards', '.', 'No', 'matter', 'how', 'consistent', 'you', 'are', 'with', 'the', 'first', 'shot', '(', 'the', 'break', ')', ',', 'the', 'smallest', 'of', 'differences', 'in', 'the', 'speed', 'and', 'angle', 'with', 'which', 'you', 'strike', 'the', 'white', 'ball', 'will', 'cause', 'the', 'pack', 'of', 'billiards', 'to', 'scatter', 'in', 'wildly', 'different', 'directions', 'every', 'time', '.', 'The', 'smallest', 'of', 'differences', 'are', 'producing', 'large', 'effects', '-', 'the', 'hallmark', 'of', 'a', 'chaotic', 'system', '.', 'It', 'is', 'worth', 'noting', 'that', 'the', 'laws', 'of', 'physics', 'that', 'determine', 'how', 'the', 'billiard', 'balls', 'move', 'are', 'precise', 'and', 'unambiguous', ':', 'they', 'allow', 'no', 'room', 'for', 'randomness', '.', 'What', 'at', 'first', 'glance', 'appears', 'to', 'be', 'random', 'behaviour', 'is', 'completely', 'deterministic', '-', 'it', 'only', 'seems', 'random', 'because', 'imperceptible', 'changes', 'are', 'making', 'all', 'the', 'difference', '.', 'The', 'rate', 'at', 'which', 'these', 'tiny', 'differences', 'stack', 'up', 'provides', 'each', 'chaotic', 'system', 'with', 'a', 'prediction', 'horizon', '-', 'a', 'length', 'of', 'time', 'beyond', 'which', 'we', 'can', 'no', 'longer', 'accurately', 'forecast', 'its', 'behaviour', '.', 'In', 'the', 'case', 'of', 'the', 'weather', ',', 'the', 'prediction', 'horizon', 'is', 'nowadays', 'about', 'one', 'week', '(', 'thanks', 'to', 'ever-improving', 'measuring', 'instruments', 'and', 'models', ')', '.', 'Some', '50', 'years', 'ago', 'it', 'was', '18', 'hours', '.', 'Two', 'weeks', 'is', 'believed', 'to', 'be', 'the', 'limit', 'we', 'could', 'ever', 'achieve', 'however', 'much', 'better', 'computers', 'and', 'software', 'get', '.', 'Surprisingly', ',', 'the', 'solar', 'system', 'is', 'a', 'chaotic', 'system', 'too', '-', 'with', 'a', 'prediction', 'horizon', 'of', 'a', 'hundred', 'million', 'years', '.', 'It', 'was', 'the', 'first', 'chaotic', 'system', 'to', 'be', 'discovered', ',', 'long', 'before', 'there', 'was', 'a', 'Chaos', 'Theory', '.', 'In', '1887', ',', 'the', 'French', 'mathematician', 'Henri', 'Poincaré', 'showed', 'that', 'while', 'Newton', '’', 's', 'theory', 'of', 'gravity', 'could', 'perfectly', 'predict', 'how', 'two', 'planetary', 'bodies', 'would', 'orbit', 'under', 'their', 'mutual', 'attraction', ',', 'adding', 'a', 'third', 'body', 'to', 'the', 'mix', 'rendered', 'the', 'equations', 'unsolvable', '.', 'The', 'best', 'we', 'can', 'do', 'for', 'three', 'bodies', 'is', 'to', 'predict', 'their', 'movements', 'moment', 'by', 'moment', ',', 'and', 'feed', 'those', 'predictions', 'back', 'into', 'our', 'equations', '…', 'Though', 'the', 'dance', 'of', 'the', 'planets', 'has', 'a', 'lengthy', 'prediction', 'horizon', ',', 'the', 'effects', 'of', 'chaos', 'can', 'not', 'be', 'ignored', ',', 'for', 'the', 'intricate', 'interplay', 'of', 'gravitation', 'tugs', 'among', 'the', 'planets', 'has', 'a', 'large', 'influence', 'on', 'the', 'trajectories', 'of', 'the', 'asteroids', '.', 'Keeping', 'an', 'eye', 'on', 'the', 'asteroids', 'is', 'difficult', 'but', 'worthwhile', ',', 'since', 'such', 'chaotic', 'effects', 'may', 'one', 'day', 'fling', 'an', 'unwelcome', 'surprise', 'our', 'way', '.', 'On', 'the', 'flip', 'side', ',', 'they', 'can', 'also', 'divert', 'external', 'surprises', 'such', 'as', 'steering', 'comets', 'away', 'from', 'a', 'potential', 'collision', 'with', 'Earth', '.']\n"
     ]
    }
   ],
   "source": [
    "# we are going to Tokenizing the text\n",
    "words = word_tokenize(text)\n",
    "print(words)"
   ]
  },
  {
   "cell_type": "code",
   "execution_count": null,
   "metadata": {},
   "outputs": [],
   "source": []
  },
  {
   "cell_type": "code",
   "execution_count": 12,
   "metadata": {},
   "outputs": [
    {
     "data": {
      "text/plain": [
       "'!\"#$%&\\'()*+,-./:;<=>?@[\\\\]^_`{|}~\\n'"
      ]
     },
     "execution_count": 12,
     "metadata": {},
     "output_type": "execute_result"
    }
   ],
   "source": [
    "#we are going to import punctuation so that we can remove them from our word requecy\n",
    "from string import punctuation\n",
    "punctuation = punctuation + '\\n'\n",
    "punctuation"
   ]
  },
  {
   "cell_type": "markdown",
   "metadata": {},
   "source": [
    "Word-frequency table\n"
   ]
  },
  {
   "cell_type": "code",
   "execution_count": 13,
   "metadata": {},
   "outputs": [
    {
     "name": "stdout",
     "output_type": "stream",
     "text": [
      "{'1961': 1, 'meteorologist': 1, 'name': 1, 'edward': 1, 'lorenz': 9, 'made': 1, 'profound': 1, 'discovery': 1, 'utilising': 1, 'new-found': 1, 'power': 1, 'computers': 2, 'attempt': 1, 'accurately': 2, 'predict': 4, 'weather': 7, 'created': 1, 'mathematical': 1, 'model': 1, 'supplied': 1, 'set': 1, 'numbers': 2, 'representing': 1, 'current': 2, 'could': 4, 'minutes': 1, 'advance': 1, 'computer': 6, 'program': 1, 'running': 1, 'produce': 2, 'long-term': 1, 'forecasts': 3, 'feeding': 1, 'predicted': 1, 'back': 3, 'run': 4, 'forecasting': 1, 'future.accurate': 1, 'minute-by-minute': 1, 'added': 1, 'days': 1, 'weeks': 2, 'one': 5, 'day': 2, 'decided': 2, 'rerun': 1, 'interests': 1, 'saving': 1, 'time': 5, 'start': 1, 'scratch': 1, 'instead': 1, 'took': 1, '’': 5, 'prediction': 5, 'halfway': 1, 'first': 4, 'used': 2, 'starting': 2, 'point': 1, 'well-earned': 1, 'coffee': 1, 'break': 2, 'returned': 1, 'discover': 1, 'something': 1, 'unexpected': 1, 'although': 1, 'new': 1, 'predictions': 6, 'started': 2, 'two': 4, 'sets': 1, 'soon': 2, 'began': 1, 'diverging': 1, 'drastically': 1, 'gone': 1, 'wrong': 1, 'realised': 1, 'printing': 1, 'three': 2, 'decimal': 2, 'places': 2, 'actually': 1, 'crunching': 1, 'internally': 1, 'using': 1, 'six': 1, 'second': 1, 'number': 2, '0.506': 1, 'original': 1, '0.506127': 1, 'difference': 3, 'part': 1, 'thousand': 1, 'sort': 1, 'flap': 1, 'butterfly': 3, 'wing': 1, 'might': 1, 'make': 1, 'breeze': 1, 'face': 1, 'conditions': 1, 'virtually': 1, 'identical': 1, 'anything': 1, 'found': 1, 'seeds': 1, 'chaos': 3, 'systems': 1, 'behave': 1, 'nicely': 1, 'without': 1, 'chaotic': 6, 'effects': 5, 'small': 2, 'differences': 4, 'case': 2, 'equations': 3, 'causing': 2, 'errors': 2, 'steadily': 1, 'grow': 1, 'meant': 1, 'tiny': 3, 'measurement': 1, 'would': 2, 'stay': 1, 'relentlessly': 1, 'increased': 1, 'size': 1, 'fed': 1, 'completely': 2, 'swamped': 1, 'famously': 1, 'illustrated': 1, 'effect': 2, 'analogy': 1, 'flapping': 1, 'wings': 1, 'thereby': 1, 'formation': 1, 'hurricane': 1, 'half': 1, 'world': 1, 'away': 2, 'nice': 1, 'way': 2, 'see': 1, '“': 1, '”': 1, 'game': 1, 'pool': 1, 'billiards': 2, 'matter': 1, 'consistent': 1, 'shot': 1, 'smallest': 2, 'speed': 1, 'angle': 1, 'strike': 1, 'white': 1, 'ball': 1, 'cause': 1, 'pack': 1, 'scatter': 1, 'wildly': 1, 'different': 1, 'directions': 1, 'every': 1, 'producing': 1, 'large': 2, 'hallmark': 1, 'system': 5, 'worth': 1, 'noting': 1, 'laws': 1, 'physics': 1, 'determine': 1, 'billiard': 1, 'balls': 1, 'move': 1, 'precise': 1, 'unambiguous': 1, 'allow': 1, 'room': 1, 'randomness': 1, 'glance': 1, 'appears': 1, 'random': 2, 'behaviour': 2, 'deterministic': 1, 'seems': 1, 'imperceptible': 1, 'changes': 1, 'making': 1, 'rate': 1, 'stack': 1, 'provides': 1, 'horizon': 4, 'length': 1, 'beyond': 1, 'longer': 1, 'forecast': 1, 'nowadays': 1, 'week': 1, 'thanks': 1, 'ever-improving': 1, 'measuring': 1, 'instruments': 1, 'models': 1, '50': 1, 'years': 2, 'ago': 1, '18': 1, 'hours': 1, 'believed': 1, 'limit': 1, 'ever': 1, 'achieve': 1, 'however': 1, 'much': 1, 'better': 1, 'software': 1, 'get': 1, 'surprisingly': 1, 'solar': 1, 'hundred': 1, 'million': 1, 'discovered': 1, 'long': 1, 'theory': 2, '1887': 1, 'french': 1, 'mathematician': 1, 'henri': 1, 'poincaré': 1, 'showed': 1, 'newton': 1, 'gravity': 1, 'perfectly': 1, 'planetary': 1, 'bodies': 2, 'orbit': 1, 'mutual': 1, 'attraction': 1, 'adding': 1, 'third': 1, 'body': 1, 'mix': 1, 'rendered': 1, 'unsolvable': 1, 'best': 1, 'movements': 1, 'moment': 2, 'feed': 1, '…': 1, 'though': 1, 'dance': 1, 'planets': 2, 'lengthy': 1, 'ignored': 1, 'intricate': 1, 'interplay': 1, 'gravitation': 1, 'tugs': 1, 'among': 1, 'influence': 1, 'trajectories': 1, 'asteroids': 2, 'keeping': 1, 'eye': 1, 'difficult': 1, 'worthwhile': 1, 'since': 1, 'may': 1, 'fling': 1, 'unwelcome': 1, 'surprise': 1, 'flip': 1, 'side': 1, 'also': 1, 'divert': 1, 'external': 1, 'surprises': 1, 'steering': 1, 'comets': 1, 'potential': 1, 'collision': 1, 'earth': 1}\n"
     ]
    }
   ],
   "source": [
    "#we are going to create frequency table to keep the count of each\n",
    "wordfreqTable = dict()\n",
    "for word in words:\n",
    "    word = word.lower()\n",
    "    if word not in stopWords:\n",
    "        if word not in punctuation:\n",
    "            if word in wordfreqTable:\n",
    "                wordfreqTable[word] += 1\n",
    "            else:\n",
    "                wordfreqTable[word] = 1\n",
    "\n",
    "print(wordfreqTable)"
   ]
  },
  {
   "cell_type": "code",
   "execution_count": null,
   "metadata": {},
   "outputs": [],
   "source": []
  },
  {
   "cell_type": "code",
   "execution_count": 19,
   "metadata": {},
   "outputs": [
    {
     "data": {
      "text/plain": [
       "9"
      ]
     },
     "execution_count": 19,
     "metadata": {},
     "output_type": "execute_result"
    }
   ],
   "source": [
    "#we are going to normalize the word frequences \n",
    "max_frequency =  max(wordfreqTable.values())\n",
    "max_frequency"
   ]
  },
  {
   "cell_type": "code",
   "execution_count": 20,
   "metadata": {},
   "outputs": [
    {
     "name": "stdout",
     "output_type": "stream",
     "text": [
      "{'1961': 0.1111111111111111, 'meteorologist': 0.1111111111111111, 'name': 0.1111111111111111, 'edward': 0.1111111111111111, 'lorenz': 1.0, 'made': 0.1111111111111111, 'profound': 0.1111111111111111, 'discovery': 0.1111111111111111, 'utilising': 0.1111111111111111, 'new-found': 0.1111111111111111, 'power': 0.1111111111111111, 'computers': 0.2222222222222222, 'attempt': 0.1111111111111111, 'accurately': 0.2222222222222222, 'predict': 0.4444444444444444, 'weather': 0.7777777777777778, 'created': 0.1111111111111111, 'mathematical': 0.1111111111111111, 'model': 0.1111111111111111, 'supplied': 0.1111111111111111, 'set': 0.1111111111111111, 'numbers': 0.2222222222222222, 'representing': 0.1111111111111111, 'current': 0.2222222222222222, 'could': 0.4444444444444444, 'minutes': 0.1111111111111111, 'advance': 0.1111111111111111, 'computer': 0.6666666666666666, 'program': 0.1111111111111111, 'running': 0.1111111111111111, 'produce': 0.2222222222222222, 'long-term': 0.1111111111111111, 'forecasts': 0.3333333333333333, 'feeding': 0.1111111111111111, 'predicted': 0.1111111111111111, 'back': 0.3333333333333333, 'run': 0.4444444444444444, 'forecasting': 0.1111111111111111, 'future.accurate': 0.1111111111111111, 'minute-by-minute': 0.1111111111111111, 'added': 0.1111111111111111, 'days': 0.1111111111111111, 'weeks': 0.2222222222222222, 'one': 0.5555555555555556, 'day': 0.2222222222222222, 'decided': 0.2222222222222222, 'rerun': 0.1111111111111111, 'interests': 0.1111111111111111, 'saving': 0.1111111111111111, 'time': 0.5555555555555556, 'start': 0.1111111111111111, 'scratch': 0.1111111111111111, 'instead': 0.1111111111111111, 'took': 0.1111111111111111, '’': 0.5555555555555556, 'prediction': 0.5555555555555556, 'halfway': 0.1111111111111111, 'first': 0.4444444444444444, 'used': 0.2222222222222222, 'starting': 0.2222222222222222, 'point': 0.1111111111111111, 'well-earned': 0.1111111111111111, 'coffee': 0.1111111111111111, 'break': 0.2222222222222222, 'returned': 0.1111111111111111, 'discover': 0.1111111111111111, 'something': 0.1111111111111111, 'unexpected': 0.1111111111111111, 'although': 0.1111111111111111, 'new': 0.1111111111111111, 'predictions': 0.6666666666666666, 'started': 0.2222222222222222, 'two': 0.4444444444444444, 'sets': 0.1111111111111111, 'soon': 0.2222222222222222, 'began': 0.1111111111111111, 'diverging': 0.1111111111111111, 'drastically': 0.1111111111111111, 'gone': 0.1111111111111111, 'wrong': 0.1111111111111111, 'realised': 0.1111111111111111, 'printing': 0.1111111111111111, 'three': 0.2222222222222222, 'decimal': 0.2222222222222222, 'places': 0.2222222222222222, 'actually': 0.1111111111111111, 'crunching': 0.1111111111111111, 'internally': 0.1111111111111111, 'using': 0.1111111111111111, 'six': 0.1111111111111111, 'second': 0.1111111111111111, 'number': 0.2222222222222222, '0.506': 0.1111111111111111, 'original': 0.1111111111111111, '0.506127': 0.1111111111111111, 'difference': 0.3333333333333333, 'part': 0.1111111111111111, 'thousand': 0.1111111111111111, 'sort': 0.1111111111111111, 'flap': 0.1111111111111111, 'butterfly': 0.3333333333333333, 'wing': 0.1111111111111111, 'might': 0.1111111111111111, 'make': 0.1111111111111111, 'breeze': 0.1111111111111111, 'face': 0.1111111111111111, 'conditions': 0.1111111111111111, 'virtually': 0.1111111111111111, 'identical': 0.1111111111111111, 'anything': 0.1111111111111111, 'found': 0.1111111111111111, 'seeds': 0.1111111111111111, 'chaos': 0.3333333333333333, 'systems': 0.1111111111111111, 'behave': 0.1111111111111111, 'nicely': 0.1111111111111111, 'without': 0.1111111111111111, 'chaotic': 0.6666666666666666, 'effects': 0.5555555555555556, 'small': 0.2222222222222222, 'differences': 0.4444444444444444, 'case': 0.2222222222222222, 'equations': 0.3333333333333333, 'causing': 0.2222222222222222, 'errors': 0.2222222222222222, 'steadily': 0.1111111111111111, 'grow': 0.1111111111111111, 'meant': 0.1111111111111111, 'tiny': 0.3333333333333333, 'measurement': 0.1111111111111111, 'would': 0.2222222222222222, 'stay': 0.1111111111111111, 'relentlessly': 0.1111111111111111, 'increased': 0.1111111111111111, 'size': 0.1111111111111111, 'fed': 0.1111111111111111, 'completely': 0.2222222222222222, 'swamped': 0.1111111111111111, 'famously': 0.1111111111111111, 'illustrated': 0.1111111111111111, 'effect': 0.2222222222222222, 'analogy': 0.1111111111111111, 'flapping': 0.1111111111111111, 'wings': 0.1111111111111111, 'thereby': 0.1111111111111111, 'formation': 0.1111111111111111, 'hurricane': 0.1111111111111111, 'half': 0.1111111111111111, 'world': 0.1111111111111111, 'away': 0.2222222222222222, 'nice': 0.1111111111111111, 'way': 0.2222222222222222, 'see': 0.1111111111111111, '“': 0.1111111111111111, '”': 0.1111111111111111, 'game': 0.1111111111111111, 'pool': 0.1111111111111111, 'billiards': 0.2222222222222222, 'matter': 0.1111111111111111, 'consistent': 0.1111111111111111, 'shot': 0.1111111111111111, 'smallest': 0.2222222222222222, 'speed': 0.1111111111111111, 'angle': 0.1111111111111111, 'strike': 0.1111111111111111, 'white': 0.1111111111111111, 'ball': 0.1111111111111111, 'cause': 0.1111111111111111, 'pack': 0.1111111111111111, 'scatter': 0.1111111111111111, 'wildly': 0.1111111111111111, 'different': 0.1111111111111111, 'directions': 0.1111111111111111, 'every': 0.1111111111111111, 'producing': 0.1111111111111111, 'large': 0.2222222222222222, 'hallmark': 0.1111111111111111, 'system': 0.5555555555555556, 'worth': 0.1111111111111111, 'noting': 0.1111111111111111, 'laws': 0.1111111111111111, 'physics': 0.1111111111111111, 'determine': 0.1111111111111111, 'billiard': 0.1111111111111111, 'balls': 0.1111111111111111, 'move': 0.1111111111111111, 'precise': 0.1111111111111111, 'unambiguous': 0.1111111111111111, 'allow': 0.1111111111111111, 'room': 0.1111111111111111, 'randomness': 0.1111111111111111, 'glance': 0.1111111111111111, 'appears': 0.1111111111111111, 'random': 0.2222222222222222, 'behaviour': 0.2222222222222222, 'deterministic': 0.1111111111111111, 'seems': 0.1111111111111111, 'imperceptible': 0.1111111111111111, 'changes': 0.1111111111111111, 'making': 0.1111111111111111, 'rate': 0.1111111111111111, 'stack': 0.1111111111111111, 'provides': 0.1111111111111111, 'horizon': 0.4444444444444444, 'length': 0.1111111111111111, 'beyond': 0.1111111111111111, 'longer': 0.1111111111111111, 'forecast': 0.1111111111111111, 'nowadays': 0.1111111111111111, 'week': 0.1111111111111111, 'thanks': 0.1111111111111111, 'ever-improving': 0.1111111111111111, 'measuring': 0.1111111111111111, 'instruments': 0.1111111111111111, 'models': 0.1111111111111111, '50': 0.1111111111111111, 'years': 0.2222222222222222, 'ago': 0.1111111111111111, '18': 0.1111111111111111, 'hours': 0.1111111111111111, 'believed': 0.1111111111111111, 'limit': 0.1111111111111111, 'ever': 0.1111111111111111, 'achieve': 0.1111111111111111, 'however': 0.1111111111111111, 'much': 0.1111111111111111, 'better': 0.1111111111111111, 'software': 0.1111111111111111, 'get': 0.1111111111111111, 'surprisingly': 0.1111111111111111, 'solar': 0.1111111111111111, 'hundred': 0.1111111111111111, 'million': 0.1111111111111111, 'discovered': 0.1111111111111111, 'long': 0.1111111111111111, 'theory': 0.2222222222222222, '1887': 0.1111111111111111, 'french': 0.1111111111111111, 'mathematician': 0.1111111111111111, 'henri': 0.1111111111111111, 'poincaré': 0.1111111111111111, 'showed': 0.1111111111111111, 'newton': 0.1111111111111111, 'gravity': 0.1111111111111111, 'perfectly': 0.1111111111111111, 'planetary': 0.1111111111111111, 'bodies': 0.2222222222222222, 'orbit': 0.1111111111111111, 'mutual': 0.1111111111111111, 'attraction': 0.1111111111111111, 'adding': 0.1111111111111111, 'third': 0.1111111111111111, 'body': 0.1111111111111111, 'mix': 0.1111111111111111, 'rendered': 0.1111111111111111, 'unsolvable': 0.1111111111111111, 'best': 0.1111111111111111, 'movements': 0.1111111111111111, 'moment': 0.2222222222222222, 'feed': 0.1111111111111111, '…': 0.1111111111111111, 'though': 0.1111111111111111, 'dance': 0.1111111111111111, 'planets': 0.2222222222222222, 'lengthy': 0.1111111111111111, 'ignored': 0.1111111111111111, 'intricate': 0.1111111111111111, 'interplay': 0.1111111111111111, 'gravitation': 0.1111111111111111, 'tugs': 0.1111111111111111, 'among': 0.1111111111111111, 'influence': 0.1111111111111111, 'trajectories': 0.1111111111111111, 'asteroids': 0.2222222222222222, 'keeping': 0.1111111111111111, 'eye': 0.1111111111111111, 'difficult': 0.1111111111111111, 'worthwhile': 0.1111111111111111, 'since': 0.1111111111111111, 'may': 0.1111111111111111, 'fling': 0.1111111111111111, 'unwelcome': 0.1111111111111111, 'surprise': 0.1111111111111111, 'flip': 0.1111111111111111, 'side': 0.1111111111111111, 'also': 0.1111111111111111, 'divert': 0.1111111111111111, 'external': 0.1111111111111111, 'surprises': 0.1111111111111111, 'steering': 0.1111111111111111, 'comets': 0.1111111111111111, 'potential': 0.1111111111111111, 'collision': 0.1111111111111111, 'earth': 0.1111111111111111}\n"
     ]
    }
   ],
   "source": [
    "for word in wordfreqTable.keys():\n",
    "    wordfreqTable[word] = wordfreqTable[word]/max_frequency\n",
    "\n",
    "print(wordfreqTable)"
   ]
  },
  {
   "cell_type": "code",
   "execution_count": null,
   "metadata": {},
   "outputs": [],
   "source": []
  },
  {
   "cell_type": "markdown",
   "metadata": {},
   "source": [
    "Sentence Tokenization\n"
   ]
  },
  {
   "cell_type": "code",
   "execution_count": 21,
   "metadata": {},
   "outputs": [],
   "source": [
    "# Creating a dictionary to keep the score of each sentence\n",
    "sentences = sent_tokenize(text)\n",
    "sentenceValue = dict()\n",
    "   \n",
    "for sentence in sentences:\n",
    "    for word, freq in wordfreqTable.items():\n",
    "        if word in sentence.lower():\n",
    "            if sentence in sentenceValue:\n",
    "                sentenceValue[sentence] += freq\n",
    "            else:\n",
    "                sentenceValue[sentence] = freq\n",
    "   "
   ]
  },
  {
   "cell_type": "code",
   "execution_count": 22,
   "metadata": {},
   "outputs": [
    {
     "data": {
      "text/plain": [
       "{'\\nIn 1961, a meteorologist by the name of Edward Lorenz made a profound discovery.': 2.0,\n",
       " 'Lorenz was utilising the new-found power of computers in an attempt to more accurately predict the weather.': 4.111111111111111,\n",
       " 'He created a mathematical model which, when supplied with a set of numbers representing the current weather, could predict the weather a few minutes in advance.': 3.222222222222223,\n",
       " 'Once this computer program was up and running, Lorenz could produce long-term forecasts by feeding the predicted weather back into the computer over and over again, with each run forecasting further into the future.Accurate minute-by-minute forecasts added up into days, and then weeks.': 6.777777777777773,\n",
       " 'One day, Lorenz decided to rerun one of his forecasts.': 3.0,\n",
       " 'In the interests of saving time he decided not to start from scratch; instead he took the computer’s prediction from halfway through the first run and used that as the starting point.': 5.5555555555555545,\n",
       " 'After a well-earned coffee break, he returned to discover something unexpected.': 0.8888888888888891,\n",
       " 'Although the computer’s new predictions started out the same as before, the two sets of predictions soon began diverging drastically.': 4.777777777777776,\n",
       " 'What had gone wrong?': 0.7777777777777779,\n",
       " 'Lorenz soon realised that while the computer was printing out the predictions to three decimal places, it was actually crunching the numbers internally using six decimal places.': 5.888888888888886,\n",
       " 'So while Lorenz had started the second run with the number 0.506, the original run had used the number 0.506127.': 2.777777777777778,\n",
       " 'A difference of one part in a thousand: the same sort of difference that a flap of a butterfly’s wing might make to the breeze on your face.': 2.777777777777778,\n",
       " 'The starting weather conditions had been virtually identical.': 1.4444444444444446,\n",
       " 'The two predictions were anything but.': 2.222222222222222,\n",
       " 'Lorenz had found the seeds of chaos.': 1.6666666666666667,\n",
       " 'In systems that behave nicely - without chaotic effects - small differences only produce small effects.': 3.7777777777777786,\n",
       " 'In this case, Lorenz’s equations were causing errors to steadily grow over time.': 3.444444444444445,\n",
       " 'This meant that tiny errors in the measurement of the current weather would not stay tiny, but relentlessly increased in size each time they were fed back into the computer until they had completely swamped the predictions.': 6.111111111111108,\n",
       " 'Lorenz famously illustrated this effect with the analogy of a butterfly flapping its wings and thereby causing the formation of a hurricane half a world away.': 3.7777777777777786,\n",
       " 'A nice way to see this “butterfly effect” for yourself is with a game of pool or billiards.': 1.7777777777777781,\n",
       " 'No matter how consistent you are with the first shot (the break), the smallest of differences in the speed and angle with which you strike the white ball will cause the pack of billiards to scatter in wildly different directions every time.': 4.5555555555555545,\n",
       " 'The smallest of differences are producing large effects - the hallmark of a chaotic system.': 3.666666666666667,\n",
       " 'It is worth noting that the laws of physics that determine how the billiard balls move are precise and unambiguous: they allow no room for randomness.': 1.7777777777777781,\n",
       " 'What at first glance appears to be random behaviour is completely deterministic - it only seems random because imperceptible changes are making all the difference.': 2.4444444444444446,\n",
       " 'The rate at which these tiny differences stack up provides each chaotic system with a prediction horizon - a length of time beyond which we can no longer accurately forecast its behaviour.': 5.666666666666664,\n",
       " 'In the case of the weather, the prediction horizon is nowadays about one week (thanks to ever-improving measuring instruments and models).': 4.333333333333332,\n",
       " 'Some 50 years ago it was 18 hours.': 0.6666666666666667,\n",
       " 'Two weeks is believed to be the limit we could ever achieve however much better computers and software get.': 3.111111111111111,\n",
       " 'Surprisingly, the solar system is a chaotic system too - with a prediction horizon of a hundred million years.': 3.333333333333334,\n",
       " 'It was the first chaotic system to be discovered, long before there was a Chaos Theory.': 2.5555555555555554,\n",
       " 'In 1887, the French mathematician Henri Poincaré showed that while Newton’s theory of gravity could perfectly predict how two planetary bodies would orbit under their mutual attraction, adding a third body to the mix rendered the equations unsolvable.': 5.22222222222222,\n",
       " 'The best we can do for three bodies is to predict their movements moment by moment, and feed those predictions back into our equations …\\nThough the dance of the planets has a lengthy prediction horizon, the effects of chaos cannot be ignored, for the intricate interplay of gravitation tugs among the planets has a large influence on the trajectories of the asteroids.': 7.111111111111106,\n",
       " 'Keeping an eye on the asteroids is difficult but worthwhile, since such chaotic effects may one day fling an unwelcome surprise our way.': 3.7777777777777786,\n",
       " 'On the flip side, they can also divert external surprises such as steering comets away from a potential collision with Earth.': 1.7777777777777783}"
      ]
     },
     "execution_count": 22,
     "metadata": {},
     "output_type": "execute_result"
    }
   ],
   "source": [
    "sentenceValue"
   ]
  },
  {
   "cell_type": "markdown",
   "metadata": {},
   "source": [
    "Summarization"
   ]
  },
  {
   "cell_type": "code",
   "execution_count": 23,
   "metadata": {},
   "outputs": [
    {
     "data": {
      "text/plain": [
       "13"
      ]
     },
     "execution_count": 23,
     "metadata": {},
     "output_type": "execute_result"
    }
   ],
   "source": [
    "from heapq import nlargest\n",
    "\n",
    "select_length = int(len(sentences)*0.4)\n",
    "select_length"
   ]
  },
  {
   "cell_type": "code",
   "execution_count": 25,
   "metadata": {},
   "outputs": [
    {
     "data": {
      "text/plain": [
       "['The best we can do for three bodies is to predict their movements moment by moment, and feed those predictions back into our equations …\\nThough the dance of the planets has a lengthy prediction horizon, the effects of chaos cannot be ignored, for the intricate interplay of gravitation tugs among the planets has a large influence on the trajectories of the asteroids.',\n",
       " 'Once this computer program was up and running, Lorenz could produce long-term forecasts by feeding the predicted weather back into the computer over and over again, with each run forecasting further into the future.Accurate minute-by-minute forecasts added up into days, and then weeks.',\n",
       " 'This meant that tiny errors in the measurement of the current weather would not stay tiny, but relentlessly increased in size each time they were fed back into the computer until they had completely swamped the predictions.',\n",
       " 'Lorenz soon realised that while the computer was printing out the predictions to three decimal places, it was actually crunching the numbers internally using six decimal places.',\n",
       " 'The rate at which these tiny differences stack up provides each chaotic system with a prediction horizon - a length of time beyond which we can no longer accurately forecast its behaviour.',\n",
       " 'In the interests of saving time he decided not to start from scratch; instead he took the computer’s prediction from halfway through the first run and used that as the starting point.',\n",
       " 'In 1887, the French mathematician Henri Poincaré showed that while Newton’s theory of gravity could perfectly predict how two planetary bodies would orbit under their mutual attraction, adding a third body to the mix rendered the equations unsolvable.',\n",
       " 'Although the computer’s new predictions started out the same as before, the two sets of predictions soon began diverging drastically.',\n",
       " 'No matter how consistent you are with the first shot (the break), the smallest of differences in the speed and angle with which you strike the white ball will cause the pack of billiards to scatter in wildly different directions every time.',\n",
       " 'In the case of the weather, the prediction horizon is nowadays about one week (thanks to ever-improving measuring instruments and models).',\n",
       " 'Lorenz was utilising the new-found power of computers in an attempt to more accurately predict the weather.',\n",
       " 'In systems that behave nicely - without chaotic effects - small differences only produce small effects.',\n",
       " 'Lorenz famously illustrated this effect with the analogy of a butterfly flapping its wings and thereby causing the formation of a hurricane half a world away.']"
      ]
     },
     "execution_count": 25,
     "metadata": {},
     "output_type": "execute_result"
    }
   ],
   "source": [
    "summary = nlargest(select_length, sentenceValue, key=sentenceValue.get)\n",
    "summary"
   ]
  },
  {
   "cell_type": "code",
   "execution_count": 27,
   "metadata": {},
   "outputs": [
    {
     "data": {
      "text/plain": [
       "['The best we can do for three bodies is to predict their movements moment by moment, and feed those predictions back into our equations …\\nThough the dance of the planets has a lengthy prediction horizon, the effects of chaos cannot be ignored, for the intricate interplay of gravitation tugs among the planets has a large influence on the trajectories of the asteroids.',\n",
       " 'Once this computer program was up and running, Lorenz could produce long-term forecasts by feeding the predicted weather back into the computer over and over again, with each run forecasting further into the future.Accurate minute-by-minute forecasts added up into days, and then weeks.',\n",
       " 'This meant that tiny errors in the measurement of the current weather would not stay tiny, but relentlessly increased in size each time they were fed back into the computer until they had completely swamped the predictions.',\n",
       " 'Lorenz soon realised that while the computer was printing out the predictions to three decimal places, it was actually crunching the numbers internally using six decimal places.',\n",
       " 'The rate at which these tiny differences stack up provides each chaotic system with a prediction horizon - a length of time beyond which we can no longer accurately forecast its behaviour.',\n",
       " 'In the interests of saving time he decided not to start from scratch; instead he took the computer’s prediction from halfway through the first run and used that as the starting point.',\n",
       " 'In 1887, the French mathematician Henri Poincaré showed that while Newton’s theory of gravity could perfectly predict how two planetary bodies would orbit under their mutual attraction, adding a third body to the mix rendered the equations unsolvable.',\n",
       " 'Although the computer’s new predictions started out the same as before, the two sets of predictions soon began diverging drastically.',\n",
       " 'No matter how consistent you are with the first shot (the break), the smallest of differences in the speed and angle with which you strike the white ball will cause the pack of billiards to scatter in wildly different directions every time.',\n",
       " 'In the case of the weather, the prediction horizon is nowadays about one week (thanks to ever-improving measuring instruments and models).',\n",
       " 'Lorenz was utilising the new-found power of computers in an attempt to more accurately predict the weather.',\n",
       " 'In systems that behave nicely - without chaotic effects - small differences only produce small effects.',\n",
       " 'Lorenz famously illustrated this effect with the analogy of a butterfly flapping its wings and thereby causing the formation of a hurricane half a world away.']"
      ]
     },
     "execution_count": 27,
     "metadata": {},
     "output_type": "execute_result"
    }
   ],
   "source": [
    "final_summary = [sent for sent in summary]\n",
    "final_summary"
   ]
  },
  {
   "cell_type": "code",
   "execution_count": 28,
   "metadata": {},
   "outputs": [
    {
     "name": "stdout",
     "output_type": "stream",
     "text": [
      "The best we can do for three bodies is to predict their movements moment by moment, and feed those predictions back into our equations …\n",
      "Though the dance of the planets has a lengthy prediction horizon, the effects of chaos cannot be ignored, for the intricate interplay of gravitation tugs among the planets has a large influence on the trajectories of the asteroids. Once this computer program was up and running, Lorenz could produce long-term forecasts by feeding the predicted weather back into the computer over and over again, with each run forecasting further into the future.Accurate minute-by-minute forecasts added up into days, and then weeks. This meant that tiny errors in the measurement of the current weather would not stay tiny, but relentlessly increased in size each time they were fed back into the computer until they had completely swamped the predictions. Lorenz soon realised that while the computer was printing out the predictions to three decimal places, it was actually crunching the numbers internally using six decimal places. The rate at which these tiny differences stack up provides each chaotic system with a prediction horizon - a length of time beyond which we can no longer accurately forecast its behaviour. In the interests of saving time he decided not to start from scratch; instead he took the computer’s prediction from halfway through the first run and used that as the starting point. In 1887, the French mathematician Henri Poincaré showed that while Newton’s theory of gravity could perfectly predict how two planetary bodies would orbit under their mutual attraction, adding a third body to the mix rendered the equations unsolvable. Although the computer’s new predictions started out the same as before, the two sets of predictions soon began diverging drastically. No matter how consistent you are with the first shot (the break), the smallest of differences in the speed and angle with which you strike the white ball will cause the pack of billiards to scatter in wildly different directions every time. In the case of the weather, the prediction horizon is nowadays about one week (thanks to ever-improving measuring instruments and models). Lorenz was utilising the new-found power of computers in an attempt to more accurately predict the weather. In systems that behave nicely - without chaotic effects - small differences only produce small effects. Lorenz famously illustrated this effect with the analogy of a butterfly flapping its wings and thereby causing the formation of a hurricane half a world away.\n"
     ]
    }
   ],
   "source": [
    "summary = \" \".join(final_summary)\n",
    "print(summary)"
   ]
  },
  {
   "cell_type": "code",
   "execution_count": null,
   "metadata": {},
   "outputs": [],
   "source": []
  }
 ],
 "metadata": {
  "kernelspec": {
   "display_name": "Python 3.9.5 ('capstone')",
   "language": "python",
   "name": "python3"
  },
  "language_info": {
   "codemirror_mode": {
    "name": "ipython",
    "version": 3
   },
   "file_extension": ".py",
   "mimetype": "text/x-python",
   "name": "python",
   "nbconvert_exporter": "python",
   "pygments_lexer": "ipython3",
   "version": "3.9.5"
  },
  "orig_nbformat": 4,
  "vscode": {
   "interpreter": {
    "hash": "6c67f8adbebdea49f93c63d2a2dcd5cb4fed3a722249876be11f90d0fd0a91fc"
   }
  }
 },
 "nbformat": 4,
 "nbformat_minor": 2
}
